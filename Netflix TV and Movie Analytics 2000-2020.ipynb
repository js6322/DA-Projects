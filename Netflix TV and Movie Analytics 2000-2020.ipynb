{
 "cells": [
  {
   "cell_type": "markdown",
   "metadata": {
    "jupyter": {},
    "tags": [],
    "slideshow": {
     "slide_type": "slide"
    },
    "id": "B48232A1249D434B9BC304FC9897FC19",
    "trusted": true
   },
   "source": [
    "# import libraries needed"
   ]
  },
  {
   "cell_type": "code",
   "execution_count": 1,
   "metadata": {
    "jupyter": {},
    "tags": [],
    "slideshow": {
     "slide_type": "slide"
    },
    "id": "589EF59E362541D98E1074008E26B0DD",
    "trusted": true,
    "ExecuteTime": {
     "end_time": "2023-07-31T01:28:28.349195600Z",
     "start_time": "2023-07-31T01:28:28.337410900Z"
    }
   },
   "outputs": [],
   "source": [
    "import numpy as np\n",
    "import pandas as pd\n",
    "import matplotlib.pyplot as plt\n",
    "from scipy.stats import norm\n",
    "import seaborn as sns"
   ]
  },
  {
   "cell_type": "markdown",
   "metadata": {
    "jupyter": {},
    "tags": [],
    "slideshow": {
     "slide_type": "slide"
    },
    "id": "452BB46FD0C245BD84ABA491BAB93E83",
    "trusted": true
   },
   "source": [
    "# import local dataset"
   ]
  },
  {
   "cell_type": "code",
   "execution_count": 2,
   "outputs": [],
   "source": [
    "df = pd.read_csv('netflix_titles.csv')"
   ],
   "metadata": {
    "collapsed": false,
    "ExecuteTime": {
     "end_time": "2023-07-31T01:28:40.959336700Z",
     "start_time": "2023-07-31T01:28:40.837549400Z"
    }
   }
  },
  {
   "cell_type": "markdown",
   "metadata": {
    "jupyter": {},
    "tags": [],
    "slideshow": {
     "slide_type": "slide"
    },
    "id": "84ADEF63CA6141CD88E923DA540FE367",
    "trusted": true
   },
   "source": [
    "# data cleanse"
   ]
  },
  {
   "cell_type": "code",
   "execution_count": 3,
   "metadata": {
    "jupyter": {},
    "tags": [],
    "slideshow": {
     "slide_type": "slide"
    },
    "id": "3F89BB006B74461C91A8C80A7A185DD2",
    "trusted": true,
    "ExecuteTime": {
     "end_time": "2023-07-31T01:28:46.668765200Z",
     "start_time": "2023-07-31T01:28:46.597937900Z"
    }
   },
   "outputs": [
    {
     "data": {
      "text/plain": "  show_id     type  title           director  \\\n0      s1  TV Show     3%                NaN   \n1      s2    Movie   7:19  Jorge Michel Grau   \n2      s3    Movie  23:59       Gilbert Chan   \n3      s4    Movie      9        Shane Acker   \n4      s5    Movie     21     Robert Luketic   \n\n                                                cast        country  \\\n0  João Miguel, Bianca Comparato, Michel Gomes, R...         Brazil   \n1  Demián Bichir, Héctor Bonilla, Oscar Serrano, ...         Mexico   \n2  Tedd Chan, Stella Chung, Henley Hii, Lawrence ...      Singapore   \n3  Elijah Wood, John C. Reilly, Jennifer Connelly...  United States   \n4  Jim Sturgess, Kevin Spacey, Kate Bosworth, Aar...  United States   \n\n          date_added  release_year rating   duration  \\\n0    August 14, 2020          2020  TV-MA  4 Seasons   \n1  December 23, 2016          2016  TV-MA     93 min   \n2  December 20, 2018          2011      R     78 min   \n3  November 16, 2017          2009  PG-13     80 min   \n4    January 1, 2020          2008  PG-13    123 min   \n\n                                           listed_in  \\\n0  International TV Shows, TV Dramas, TV Sci-Fi &...   \n1                       Dramas, International Movies   \n2                Horror Movies, International Movies   \n3  Action & Adventure, Independent Movies, Sci-Fi...   \n4                                             Dramas   \n\n                                         description  \n0  In a future where the elite inhabit an island ...  \n1  After a devastating earthquake hits Mexico Cit...  \n2  When an army recruit is found dead, his fellow...  \n3  In a postapocalyptic world, rag-doll robots hi...  \n4  A brilliant group of students become card-coun...  ",
      "text/html": "<div>\n<style scoped>\n    .dataframe tbody tr th:only-of-type {\n        vertical-align: middle;\n    }\n\n    .dataframe tbody tr th {\n        vertical-align: top;\n    }\n\n    .dataframe thead th {\n        text-align: right;\n    }\n</style>\n<table border=\"1\" class=\"dataframe\">\n  <thead>\n    <tr style=\"text-align: right;\">\n      <th></th>\n      <th>show_id</th>\n      <th>type</th>\n      <th>title</th>\n      <th>director</th>\n      <th>cast</th>\n      <th>country</th>\n      <th>date_added</th>\n      <th>release_year</th>\n      <th>rating</th>\n      <th>duration</th>\n      <th>listed_in</th>\n      <th>description</th>\n    </tr>\n  </thead>\n  <tbody>\n    <tr>\n      <th>0</th>\n      <td>s1</td>\n      <td>TV Show</td>\n      <td>3%</td>\n      <td>NaN</td>\n      <td>João Miguel, Bianca Comparato, Michel Gomes, R...</td>\n      <td>Brazil</td>\n      <td>August 14, 2020</td>\n      <td>2020</td>\n      <td>TV-MA</td>\n      <td>4 Seasons</td>\n      <td>International TV Shows, TV Dramas, TV Sci-Fi &amp;...</td>\n      <td>In a future where the elite inhabit an island ...</td>\n    </tr>\n    <tr>\n      <th>1</th>\n      <td>s2</td>\n      <td>Movie</td>\n      <td>7:19</td>\n      <td>Jorge Michel Grau</td>\n      <td>Demián Bichir, Héctor Bonilla, Oscar Serrano, ...</td>\n      <td>Mexico</td>\n      <td>December 23, 2016</td>\n      <td>2016</td>\n      <td>TV-MA</td>\n      <td>93 min</td>\n      <td>Dramas, International Movies</td>\n      <td>After a devastating earthquake hits Mexico Cit...</td>\n    </tr>\n    <tr>\n      <th>2</th>\n      <td>s3</td>\n      <td>Movie</td>\n      <td>23:59</td>\n      <td>Gilbert Chan</td>\n      <td>Tedd Chan, Stella Chung, Henley Hii, Lawrence ...</td>\n      <td>Singapore</td>\n      <td>December 20, 2018</td>\n      <td>2011</td>\n      <td>R</td>\n      <td>78 min</td>\n      <td>Horror Movies, International Movies</td>\n      <td>When an army recruit is found dead, his fellow...</td>\n    </tr>\n    <tr>\n      <th>3</th>\n      <td>s4</td>\n      <td>Movie</td>\n      <td>9</td>\n      <td>Shane Acker</td>\n      <td>Elijah Wood, John C. Reilly, Jennifer Connelly...</td>\n      <td>United States</td>\n      <td>November 16, 2017</td>\n      <td>2009</td>\n      <td>PG-13</td>\n      <td>80 min</td>\n      <td>Action &amp; Adventure, Independent Movies, Sci-Fi...</td>\n      <td>In a postapocalyptic world, rag-doll robots hi...</td>\n    </tr>\n    <tr>\n      <th>4</th>\n      <td>s5</td>\n      <td>Movie</td>\n      <td>21</td>\n      <td>Robert Luketic</td>\n      <td>Jim Sturgess, Kevin Spacey, Kate Bosworth, Aar...</td>\n      <td>United States</td>\n      <td>January 1, 2020</td>\n      <td>2008</td>\n      <td>PG-13</td>\n      <td>123 min</td>\n      <td>Dramas</td>\n      <td>A brilliant group of students become card-coun...</td>\n    </tr>\n  </tbody>\n</table>\n</div>"
     },
     "execution_count": 3,
     "metadata": {},
     "output_type": "execute_result"
    }
   ],
   "source": [
    "#View top 5 rows\n",
    "df.head()"
   ]
  },
  {
   "cell_type": "code",
   "execution_count": 4,
   "metadata": {
    "jupyter": {},
    "tags": [],
    "slideshow": {
     "slide_type": "slide"
    },
    "id": "120A6E5E7C4545A3937EF3B7069EF674",
    "trusted": true
   },
   "outputs": [
    {
     "data": {
      "text/plain": [
       "show_id         object\n",
       "type            object\n",
       "title           object\n",
       "director        object\n",
       "cast            object\n",
       "country         object\n",
       "date_added      object\n",
       "release_year     int64\n",
       "rating          object\n",
       "duration        object\n",
       "listed_in       object\n",
       "description     object\n",
       "dtype: object"
      ]
     },
     "execution_count": 4,
     "metadata": {},
     "output_type": "execute_result"
    }
   ],
   "source": [
    "df.dtypes"
   ]
  },
  {
   "cell_type": "markdown",
   "source": [
    "**change data type**"
   ],
   "metadata": {
    "collapsed": false
   }
  },
  {
   "cell_type": "code",
   "execution_count": 7,
   "metadata": {
    "jupyter": {},
    "tags": [],
    "slideshow": {
     "slide_type": "slide"
    },
    "id": "73755C3372CD4B3ABC9771913735558A",
    "trusted": true
   },
   "outputs": [
    {
     "data": {
      "text/plain": [
       "show_id         string\n",
       "type            string\n",
       "title           string\n",
       "director        string\n",
       "cast            string\n",
       "country         string\n",
       "date_added      string\n",
       "release_year     Int64\n",
       "rating          string\n",
       "duration        string\n",
       "listed_in       string\n",
       "description     string\n",
       "dtype: object"
      ]
     },
     "execution_count": 7,
     "metadata": {},
     "output_type": "execute_result"
    }
   ],
   "source": [
    "df.convert_dtypes().dtypes"
   ]
  },
  {
   "cell_type": "markdown",
   "metadata": {
    "jupyter": {},
    "tags": [],
    "slideshow": {
     "slide_type": "slide"
    },
    "id": "4FB78A2830E74CF992087F92C0A4520E",
    "trusted": true
   },
   "source": [
    "**cleanse listed_in column，extract the first word**"
   ]
  },
  {
   "cell_type": "code",
   "execution_count": 5,
   "metadata": {
    "jupyter": {},
    "tags": [],
    "slideshow": {
     "slide_type": "slide"
    },
    "id": "A528BC30D2E348E18D4FF59EDDE590C7",
    "trusted": true,
    "ExecuteTime": {
     "end_time": "2023-07-31T01:58:57.502418Z",
     "start_time": "2023-07-31T01:58:57.475207300Z"
    }
   },
   "outputs": [],
   "source": [
    "#Cleaning - 'listed_in' column\n",
    "a = []\n",
    "for item in df['listed_in']:\n",
    "    a.append(item.split()[0])\n"
   ]
  },
  {
   "cell_type": "markdown",
   "metadata": {
    "jupyter": {},
    "tags": [],
    "slideshow": {
     "slide_type": "slide"
    },
    "id": "F41C8079B91E4E2686BBFC1771847B99",
    "trusted": true
   },
   "source": [
    "**create a new column and fill with the data above**"
   ]
  },
  {
   "cell_type": "code",
   "execution_count": 6,
   "metadata": {
    "jupyter": {},
    "tags": [],
    "slideshow": {
     "slide_type": "slide"
    },
    "id": "82A0C64AB2CB454C8E884917240F30DF",
    "trusted": true,
    "ExecuteTime": {
     "end_time": "2023-07-31T01:59:08.573812200Z",
     "start_time": "2023-07-31T01:59:08.546316900Z"
    }
   },
   "outputs": [],
   "source": [
    "df['categories'] = a"
   ]
  },
  {
   "cell_type": "code",
   "execution_count": 7,
   "metadata": {
    "jupyter": {},
    "tags": [],
    "slideshow": {
     "slide_type": "slide"
    },
    "id": "D7DF1AB9AC614F82855880EAEA351C5C",
    "trusted": true,
    "ExecuteTime": {
     "end_time": "2023-07-31T01:59:10.420186600Z",
     "start_time": "2023-07-31T01:59:10.382857200Z"
    }
   },
   "outputs": [],
   "source": [
    "df['categories'] = df['categories'].str.lstrip().str.rstrip().replace(\",\", \"\", regex=True).replace(\"'\",\"\",regex=True)"
   ]
  },
  {
   "cell_type": "markdown",
   "metadata": {
    "jupyter": {},
    "tags": [],
    "slideshow": {
     "slide_type": "slide"
    },
    "id": "A1AAD72FD79A45F8829DE413897B0AAC",
    "trusted": true
   },
   "source": [
    "**delete columns not needed**"
   ]
  },
  {
   "cell_type": "code",
   "execution_count": 8,
   "metadata": {
    "jupyter": {},
    "tags": [],
    "slideshow": {
     "slide_type": "slide"
    },
    "id": "97CE0568DC49421298F88644BE637F3A",
    "trusted": true,
    "ExecuteTime": {
     "end_time": "2023-07-31T01:59:15.198261100Z",
     "start_time": "2023-07-31T01:59:15.147729600Z"
    }
   },
   "outputs": [],
   "source": [
    "df = df[['show_id', 'type', 'title', 'director', 'cast', 'country', 'date_added', 'release_year', 'rating', 'duration', 'categories']]"
   ]
  },
  {
   "cell_type": "code",
   "execution_count": 9,
   "metadata": {
    "jupyter": {},
    "tags": [],
    "slideshow": {
     "slide_type": "slide"
    },
    "id": "9F8003E1E344414CB0CEA2BD420BA782",
    "trusted": true,
    "ExecuteTime": {
     "end_time": "2023-07-31T01:59:18.067717400Z",
     "start_time": "2023-07-31T01:59:17.989615Z"
    }
   },
   "outputs": [
    {
     "data": {
      "text/plain": "  show_id     type  title           director  \\\n0      s1  TV Show     3%                NaN   \n1      s2    Movie   7:19  Jorge Michel Grau   \n2      s3    Movie  23:59       Gilbert Chan   \n3      s4    Movie      9        Shane Acker   \n4      s5    Movie     21     Robert Luketic   \n\n                                                cast        country  \\\n0  João Miguel, Bianca Comparato, Michel Gomes, R...         Brazil   \n1  Demián Bichir, Héctor Bonilla, Oscar Serrano, ...         Mexico   \n2  Tedd Chan, Stella Chung, Henley Hii, Lawrence ...      Singapore   \n3  Elijah Wood, John C. Reilly, Jennifer Connelly...  United States   \n4  Jim Sturgess, Kevin Spacey, Kate Bosworth, Aar...  United States   \n\n          date_added  release_year rating   duration     categories  \n0    August 14, 2020          2020  TV-MA  4 Seasons  International  \n1  December 23, 2016          2016  TV-MA     93 min         Dramas  \n2  December 20, 2018          2011      R     78 min         Horror  \n3  November 16, 2017          2009  PG-13     80 min         Action  \n4    January 1, 2020          2008  PG-13    123 min         Dramas  ",
      "text/html": "<div>\n<style scoped>\n    .dataframe tbody tr th:only-of-type {\n        vertical-align: middle;\n    }\n\n    .dataframe tbody tr th {\n        vertical-align: top;\n    }\n\n    .dataframe thead th {\n        text-align: right;\n    }\n</style>\n<table border=\"1\" class=\"dataframe\">\n  <thead>\n    <tr style=\"text-align: right;\">\n      <th></th>\n      <th>show_id</th>\n      <th>type</th>\n      <th>title</th>\n      <th>director</th>\n      <th>cast</th>\n      <th>country</th>\n      <th>date_added</th>\n      <th>release_year</th>\n      <th>rating</th>\n      <th>duration</th>\n      <th>categories</th>\n    </tr>\n  </thead>\n  <tbody>\n    <tr>\n      <th>0</th>\n      <td>s1</td>\n      <td>TV Show</td>\n      <td>3%</td>\n      <td>NaN</td>\n      <td>João Miguel, Bianca Comparato, Michel Gomes, R...</td>\n      <td>Brazil</td>\n      <td>August 14, 2020</td>\n      <td>2020</td>\n      <td>TV-MA</td>\n      <td>4 Seasons</td>\n      <td>International</td>\n    </tr>\n    <tr>\n      <th>1</th>\n      <td>s2</td>\n      <td>Movie</td>\n      <td>7:19</td>\n      <td>Jorge Michel Grau</td>\n      <td>Demián Bichir, Héctor Bonilla, Oscar Serrano, ...</td>\n      <td>Mexico</td>\n      <td>December 23, 2016</td>\n      <td>2016</td>\n      <td>TV-MA</td>\n      <td>93 min</td>\n      <td>Dramas</td>\n    </tr>\n    <tr>\n      <th>2</th>\n      <td>s3</td>\n      <td>Movie</td>\n      <td>23:59</td>\n      <td>Gilbert Chan</td>\n      <td>Tedd Chan, Stella Chung, Henley Hii, Lawrence ...</td>\n      <td>Singapore</td>\n      <td>December 20, 2018</td>\n      <td>2011</td>\n      <td>R</td>\n      <td>78 min</td>\n      <td>Horror</td>\n    </tr>\n    <tr>\n      <th>3</th>\n      <td>s4</td>\n      <td>Movie</td>\n      <td>9</td>\n      <td>Shane Acker</td>\n      <td>Elijah Wood, John C. Reilly, Jennifer Connelly...</td>\n      <td>United States</td>\n      <td>November 16, 2017</td>\n      <td>2009</td>\n      <td>PG-13</td>\n      <td>80 min</td>\n      <td>Action</td>\n    </tr>\n    <tr>\n      <th>4</th>\n      <td>s5</td>\n      <td>Movie</td>\n      <td>21</td>\n      <td>Robert Luketic</td>\n      <td>Jim Sturgess, Kevin Spacey, Kate Bosworth, Aar...</td>\n      <td>United States</td>\n      <td>January 1, 2020</td>\n      <td>2008</td>\n      <td>PG-13</td>\n      <td>123 min</td>\n      <td>Dramas</td>\n    </tr>\n  </tbody>\n</table>\n</div>"
     },
     "execution_count": 9,
     "metadata": {},
     "output_type": "execute_result"
    }
   ],
   "source": [
    "df.head()"
   ]
  },
  {
   "cell_type": "markdown",
   "metadata": {
    "jupyter": {},
    "tags": [],
    "slideshow": {
     "slide_type": "slide"
    },
    "id": "8D94FA2D20F64DB5A100D77E786DCC3C",
    "trusted": true
   },
   "source": [
    "**observe show release year distribution**"
   ]
  },
  {
   "cell_type": "code",
   "execution_count": 14,
   "metadata": {
    "jupyter": {},
    "tags": [],
    "slideshow": {
     "slide_type": "slide"
    },
    "id": "7A778AF5EF4B44C8A130912A2E50CEE4",
    "trusted": true,
    "ExecuteTime": {
     "end_time": "2023-07-31T02:27:17.945672700Z",
     "start_time": "2023-07-31T02:27:17.553527900Z"
    }
   },
   "outputs": [
    {
     "data": {
      "text/plain": "<Figure size 1400x400 with 1 Axes>",
      "image/png": "[encoded data removed]"
     },
     "metadata": {},
     "output_type": "display_data"
    }
   ],
   "source": [
    "data = df['release_year'].value_counts()\n",
    "fig,ax=plt.subplots(figsize=(14,4))\n",
    "ax.bar(data.index, data.values)\n",
    "plt.show()"
   ]
  },
  {
   "cell_type": "markdown",
   "metadata": {
    "jupyter": {},
    "tags": [],
    "slideshow": {
     "slide_type": "slide"
    },
    "id": "E771609C65564888952ED971198AFCC0",
    "trusted": true
   },
   "source": [
    "Since 2000, the number of shows released has changed significantly, so this study will focus on the period of 2000-2020."
   ]
  },
  {
   "cell_type": "markdown",
   "metadata": {
    "jupyter": {},
    "tags": [],
    "slideshow": {
     "slide_type": "slide"
    },
    "id": "C5105AF66B744360AF7271701BC97586",
    "trusted": true
   },
   "source": [
    "<br>"
   ]
  },
  {
   "cell_type": "code",
   "execution_count": 16,
   "metadata": {
    "jupyter": {},
    "tags": [],
    "slideshow": {
     "slide_type": "slide"
    },
    "id": "909CA4C8B0CD4F68867A19FCC39E9A95",
    "trusted": true
   },
   "outputs": [],
   "source": [
    "df = df.loc[(df['release_year'] <= 2020) & (df['release_year'] >= 2000)]"
   ]
  },
  {
   "cell_type": "code",
   "execution_count": 17,
   "metadata": {
    "jupyter": {},
    "tags": [],
    "slideshow": {
     "slide_type": "slide"
    },
    "id": "4A096AA21455408B830E17319AE7D6F0",
    "trusted": true
   },
   "outputs": [
    {
     "data": {
      "text/html": [
       "<div>\n",
       "<style scoped>\n",
       "    .dataframe tbody tr th:only-of-type {\n",
       "        vertical-align: middle;\n",
       "    }\n",
       "\n",
       "    .dataframe tbody tr th {\n",
       "        vertical-align: top;\n",
       "    }\n",
       "\n",
       "    .dataframe thead th {\n",
       "        text-align: right;\n",
       "    }\n",
       "</style>\n",
       "<table border=\"1\" class=\"dataframe\">\n",
       "  <thead>\n",
       "    <tr style=\"text-align: right;\">\n",
       "      <th></th>\n",
       "      <th>show_id</th>\n",
       "      <th>type</th>\n",
       "      <th>title</th>\n",
       "      <th>director</th>\n",
       "      <th>cast</th>\n",
       "      <th>country</th>\n",
       "      <th>date_added</th>\n",
       "      <th>release_year</th>\n",
       "      <th>rating</th>\n",
       "      <th>duration</th>\n",
       "      <th>categories</th>\n",
       "    </tr>\n",
       "  </thead>\n",
       "  <tbody>\n",
       "    <tr>\n",
       "      <th>0</th>\n",
       "      <td>s1</td>\n",
       "      <td>TV Show</td>\n",
       "      <td>3%</td>\n",
       "      <td>NaN</td>\n",
       "      <td>João Miguel, Bianca Comparato, Michel Gomes, R...</td>\n",
       "      <td>Brazil</td>\n",
       "      <td>August 14, 2020</td>\n",
       "      <td>2020</td>\n",
       "      <td>TV-MA</td>\n",
       "      <td>4 Seasons</td>\n",
       "      <td>International</td>\n",
       "    </tr>\n",
       "    <tr>\n",
       "      <th>1</th>\n",
       "      <td>s2</td>\n",
       "      <td>Movie</td>\n",
       "      <td>7:19</td>\n",
       "      <td>Jorge Michel Grau</td>\n",
       "      <td>Demián Bichir, Héctor Bonilla, Oscar Serrano, ...</td>\n",
       "      <td>Mexico</td>\n",
       "      <td>December 23, 2016</td>\n",
       "      <td>2016</td>\n",
       "      <td>TV-MA</td>\n",
       "      <td>93 min</td>\n",
       "      <td>Dramas</td>\n",
       "    </tr>\n",
       "    <tr>\n",
       "      <th>2</th>\n",
       "      <td>s3</td>\n",
       "      <td>Movie</td>\n",
       "      <td>23:59</td>\n",
       "      <td>Gilbert Chan</td>\n",
       "      <td>Tedd Chan, Stella Chung, Henley Hii, Lawrence ...</td>\n",
       "      <td>Singapore</td>\n",
       "      <td>December 20, 2018</td>\n",
       "      <td>2011</td>\n",
       "      <td>R</td>\n",
       "      <td>78 min</td>\n",
       "      <td>Horror</td>\n",
       "    </tr>\n",
       "    <tr>\n",
       "      <th>3</th>\n",
       "      <td>s4</td>\n",
       "      <td>Movie</td>\n",
       "      <td>9</td>\n",
       "      <td>Shane Acker</td>\n",
       "      <td>Elijah Wood, John C. Reilly, Jennifer Connelly...</td>\n",
       "      <td>United States</td>\n",
       "      <td>November 16, 2017</td>\n",
       "      <td>2009</td>\n",
       "      <td>PG-13</td>\n",
       "      <td>80 min</td>\n",
       "      <td>Action</td>\n",
       "    </tr>\n",
       "    <tr>\n",
       "      <th>4</th>\n",
       "      <td>s5</td>\n",
       "      <td>Movie</td>\n",
       "      <td>21</td>\n",
       "      <td>Robert Luketic</td>\n",
       "      <td>Jim Sturgess, Kevin Spacey, Kate Bosworth, Aar...</td>\n",
       "      <td>United States</td>\n",
       "      <td>January 1, 2020</td>\n",
       "      <td>2008</td>\n",
       "      <td>PG-13</td>\n",
       "      <td>123 min</td>\n",
       "      <td>Dramas</td>\n",
       "    </tr>\n",
       "  </tbody>\n",
       "</table>\n",
       "</div>"
      ],
      "text/plain": [
       "  show_id     type  title           director  \\\n",
       "0      s1  TV Show     3%                NaN   \n",
       "1      s2    Movie   7:19  Jorge Michel Grau   \n",
       "2      s3    Movie  23:59       Gilbert Chan   \n",
       "3      s4    Movie      9        Shane Acker   \n",
       "4      s5    Movie     21     Robert Luketic   \n",
       "\n",
       "                                                cast        country  \\\n",
       "0  João Miguel, Bianca Comparato, Michel Gomes, R...         Brazil   \n",
       "1  Demián Bichir, Héctor Bonilla, Oscar Serrano, ...         Mexico   \n",
       "2  Tedd Chan, Stella Chung, Henley Hii, Lawrence ...      Singapore   \n",
       "3  Elijah Wood, John C. Reilly, Jennifer Connelly...  United States   \n",
       "4  Jim Sturgess, Kevin Spacey, Kate Bosworth, Aar...  United States   \n",
       "\n",
       "          date_added  release_year rating   duration     categories  \n",
       "0    August 14, 2020          2020  TV-MA  4 Seasons  International  \n",
       "1  December 23, 2016          2016  TV-MA     93 min         Dramas  \n",
       "2  December 20, 2018          2011      R     78 min         Horror  \n",
       "3  November 16, 2017          2009  PG-13     80 min         Action  \n",
       "4    January 1, 2020          2008  PG-13    123 min         Dramas  "
      ]
     },
     "execution_count": 17,
     "metadata": {},
     "output_type": "execute_result"
    }
   ],
   "source": [
    "df.head()"
   ]
  },
  {
   "cell_type": "markdown",
   "metadata": {
    "jupyter": {},
    "tags": [],
    "slideshow": {
     "slide_type": "slide"
    },
    "id": "5F57BA82142E4FD78DDF1125C272469E",
    "trusted": true
   },
   "source": [
    "<br>"
   ]
  },
  {
   "cell_type": "markdown",
   "metadata": {
    "jupyter": {},
    "tags": [],
    "slideshow": {
     "slide_type": "slide"
    },
    "id": "C196B7442D04426B8273611AF25A6A06",
    "trusted": true
   },
   "source": [
    "# data analysis"
   ]
  },
  {
   "cell_type": "markdown",
   "metadata": {
    "jupyter": {},
    "tags": [],
    "slideshow": {
     "slide_type": "slide"
    },
    "id": "F49DEFABD93B464291B9BE4BD3FCBDE2",
    "trusted": true
   },
   "source": [
    " trend of new show released"
   ]
  },
  {
   "cell_type": "code",
   "execution_count": 16,
   "metadata": {
    "jupyter": {},
    "tags": [],
    "slideshow": {
     "slide_type": "slide"
    },
    "id": "D95979F5AED0429C8991FABF88858192",
    "trusted": true,
    "ExecuteTime": {
     "end_time": "2023-07-31T02:39:00.418693300Z",
     "start_time": "2023-07-31T02:39:00.375876700Z"
    }
   },
   "outputs": [],
   "source": [
    "df_tv = df.loc[df['type'] == 'TV Show']['release_year'].value_counts()\n",
    "df_mv = df.loc[df['type'] == 'Movie']['release_year'].value_counts()"
   ]
  },
  {
   "cell_type": "markdown",
   "metadata": {
    "jupyter": {},
    "tags": [],
    "slideshow": {
     "slide_type": "slide"
    },
    "id": "A9863F80A7EC492C886CBF676B0E8CAE",
    "trusted": true
   },
   "source": [
    "**tv and mv new table**"
   ]
  },
  {
   "cell_type": "code",
   "execution_count": 18,
   "metadata": {
    "scrolled": true,
    "jupyter": {},
    "tags": [],
    "slideshow": {
     "slide_type": "slide"
    },
    "id": "68DD954E6771428081983A8131EA3A18",
    "trusted": true,
    "ExecuteTime": {
     "end_time": "2023-07-31T02:46:24.459739600Z",
     "start_time": "2023-07-31T02:46:24.408884Z"
    }
   },
   "outputs": [
    {
     "data": {
      "text/plain": "     2020   2019   2018   2017   2016   2015   2014   2013   2012   2011  ...  \\\ntv  457.0  414.0  387.0  268.0  240.0  159.0   90.0   65.0   61.0   39.0  ...   \nmv  411.0  582.0  734.0  744.0  642.0  382.0  244.0  202.0  158.0  127.0  ...   \n\n    1965  1956  1942  1969  1954  1970  1966  1964  1947  1959  \ntv   NaN   NaN   NaN   NaN   NaN   NaN   NaN   NaN   NaN   NaN  \nmv   2.0   2.0   2.0   2.0   2.0   2.0   1.0   1.0   1.0   1.0  \n\n[2 rows x 73 columns]",
      "text/html": "<div>\n<style scoped>\n    .dataframe tbody tr th:only-of-type {\n        vertical-align: middle;\n    }\n\n    .dataframe tbody tr th {\n        vertical-align: top;\n    }\n\n    .dataframe thead th {\n        text-align: right;\n    }\n</style>\n<table border=\"1\" class=\"dataframe\">\n  <thead>\n    <tr style=\"text-align: right;\">\n      <th></th>\n      <th>2020</th>\n      <th>2019</th>\n      <th>2018</th>\n      <th>2017</th>\n      <th>2016</th>\n      <th>2015</th>\n      <th>2014</th>\n      <th>2013</th>\n      <th>2012</th>\n      <th>2011</th>\n      <th>...</th>\n      <th>1965</th>\n      <th>1956</th>\n      <th>1942</th>\n      <th>1969</th>\n      <th>1954</th>\n      <th>1970</th>\n      <th>1966</th>\n      <th>1964</th>\n      <th>1947</th>\n      <th>1959</th>\n    </tr>\n  </thead>\n  <tbody>\n    <tr>\n      <th>tv</th>\n      <td>457.0</td>\n      <td>414.0</td>\n      <td>387.0</td>\n      <td>268.0</td>\n      <td>240.0</td>\n      <td>159.0</td>\n      <td>90.0</td>\n      <td>65.0</td>\n      <td>61.0</td>\n      <td>39.0</td>\n      <td>...</td>\n      <td>NaN</td>\n      <td>NaN</td>\n      <td>NaN</td>\n      <td>NaN</td>\n      <td>NaN</td>\n      <td>NaN</td>\n      <td>NaN</td>\n      <td>NaN</td>\n      <td>NaN</td>\n      <td>NaN</td>\n    </tr>\n    <tr>\n      <th>mv</th>\n      <td>411.0</td>\n      <td>582.0</td>\n      <td>734.0</td>\n      <td>744.0</td>\n      <td>642.0</td>\n      <td>382.0</td>\n      <td>244.0</td>\n      <td>202.0</td>\n      <td>158.0</td>\n      <td>127.0</td>\n      <td>...</td>\n      <td>2.0</td>\n      <td>2.0</td>\n      <td>2.0</td>\n      <td>2.0</td>\n      <td>2.0</td>\n      <td>2.0</td>\n      <td>1.0</td>\n      <td>1.0</td>\n      <td>1.0</td>\n      <td>1.0</td>\n    </tr>\n  </tbody>\n</table>\n<p>2 rows × 73 columns</p>\n</div>"
     },
     "execution_count": 18,
     "metadata": {},
     "output_type": "execute_result"
    }
   ],
   "source": [
    "pd.concat([df_tv, df_mv], axis=1, keys=['tv', 'mv']).T"
   ]
  },
  {
   "cell_type": "markdown",
   "metadata": {
    "jupyter": {},
    "tags": [],
    "slideshow": {
     "slide_type": "slide"
    },
    "id": "3FAB6C60B73C4ECE81809CFBA1CB9D0D",
    "trusted": true
   },
   "source": [
    "**trends in the number of tv& movie in each year**"
   ]
  },
  {
   "cell_type": "code",
   "execution_count": 45,
   "metadata": {
    "scrolled": false,
    "jupyter": {},
    "tags": [],
    "slideshow": {
     "slide_type": "slide"
    },
    "id": "CB797EBFC8F1423188920B3DC52683DA",
    "trusted": true
   },
   "outputs": [
    {
     "data": {
      "image/png": "[encoded data removed]",
      "text/plain": [
       "<Figure size 1120x320 with 1 Axes>"
      ]
     },
     "metadata": {
      "needs_background": "light"
     },
     "output_type": "display_data"
    }
   ],
   "source": [
    "data = pd.concat([df_tv, df_mv], axis=1, keys=['tv', 'mv'])\n",
    "fig,ax=plt.subplots(figsize=(14,4), dpi=80)\n",
    "ax.plot(data.index, data['tv'], label='tv', marker='o', color='royalblue')\n",
    "ax.plot(data.index, data['mv'], label='mv', marker='o', color='coral')\n",
    "ax.legend()\n",
    "ax.set_xticks(np.arange(2000, 2021,1))\n",
    "ax.grid(alpha=0.3)\n",
    "ax.set_ylim(0,900)\n",
    "ax.set_title('Trends in the number of TV Show & Movies', y=1.02, fontsize=14)\n",
    "ax.set_xlabel('Release year')\n",
    "ax.set_ylabel('Number of TV Show & Movie')\n",
    "plt.show()"
   ]
  },
  {
   "cell_type": "raw",
   "source": [
    "That is, tv production constistently increased\n",
    "mv production dropped since 2018"
   ],
   "metadata": {
    "collapsed": false
   }
  },
  {
   "cell_type": "markdown",
   "metadata": {
    "jupyter": {},
    "tags": [],
    "slideshow": {
     "slide_type": "slide"
    },
    "id": "F0B971E428A84EB3AFD11841E796AD17",
    "trusted": true
   },
   "source": [
    "**Number of TV and MV Released**"
   ]
  },
  {
   "cell_type": "code",
   "execution_count": 30,
   "metadata": {
    "jupyter": {},
    "tags": [],
    "slideshow": {
     "slide_type": "slide"
    },
    "id": "57FF94EEB8F342C8A56A15F0618860B9",
    "trusted": true,
    "ExecuteTime": {
     "end_time": "2023-07-31T03:33:57.259373100Z",
     "start_time": "2023-07-31T03:33:57.236377Z"
    }
   },
   "outputs": [
    {
     "data": {
      "text/plain": "Movie      5377\nTV Show    2410\nName: type, dtype: int64"
     },
     "execution_count": 30,
     "metadata": {},
     "output_type": "execute_result"
    }
   ],
   "source": [
    "df['type'].value_counts()"
   ]
  },
  {
   "cell_type": "code",
   "execution_count": 29,
   "metadata": {
    "jupyter": {},
    "tags": [],
    "slideshow": {
     "slide_type": "slide"
    },
    "id": "B1298CB2326F4B0684BF317A35394916",
    "trusted": true,
    "ExecuteTime": {
     "end_time": "2023-07-31T03:20:37.290373200Z",
     "start_time": "2023-07-31T03:20:37.196094700Z"
    }
   },
   "outputs": [
    {
     "data": {
      "text/plain": "<Figure size 480x480 with 1 Axes>",
      "image/png": "[encoded data removed]"
     },
     "metadata": {},
     "output_type": "display_data"
    }
   ],
   "source": [
    "data = df['type'].value_counts()\n",
    "fig,ax=plt.subplots(figsize=(6, 6), dpi=80)\n",
    "ax.pie(data, labels=data.index, autopct='%1.2f%%', pctdistance=0.72, colors=['coral', 'royalblue'],\n",
    "       wedgeprops={'width':0.5, 'edgecolor':'white'}, textprops={'fontsize':12, 'color':'white'})\n",
    "ax.legend(bbox_to_anchor=(1,0,0,1))\n",
    "\n",
    "ax.set_title('TV Show & Movie Proportion', y=1.02, fontsize=14)\n",
    "plt.show()"
   ]
  },
  {
   "cell_type": "markdown",
   "metadata": {
    "jupyter": {},
    "tags": [],
    "slideshow": {
     "slide_type": "slide"
    },
    "id": "7E4ED7CFFD5B4EC3AC346445EDF63948",
    "trusted": true
   },
   "source": [
    "Conclusion: in the past 20 years, 2 times more movies were produced and released on Netflix than tv shows."
   ]
  },
  {
   "cell_type": "markdown",
   "metadata": {
    "jupyter": {},
    "tags": [],
    "slideshow": {
     "slide_type": "slide"
    },
    "id": "7581788E38F54FE58647264694C6A432",
    "trusted": true
   },
   "source": [
    "## Rating Analysis"
   ]
  },
  {
   "cell_type": "code",
   "execution_count": 33,
   "metadata": {
    "jupyter": {},
    "tags": [],
    "slideshow": {
     "slide_type": "slide"
    },
    "id": "675356E4ED8F454EA7C632CA61C504A8",
    "trusted": true,
    "ExecuteTime": {
     "end_time": "2023-07-31T03:35:05.261735700Z",
     "start_time": "2023-07-31T03:35:05.229216100Z"
    }
   },
   "outputs": [],
   "source": [
    "tv_rating = df.loc[df['type'] == 'TV Show']['rating'].value_counts()"
   ]
  },
  {
   "cell_type": "code",
   "execution_count": 34,
   "metadata": {
    "jupyter": {},
    "tags": [],
    "slideshow": {
     "slide_type": "slide"
    },
    "id": "E1BB88AFADA14C7AA49B9DFCED9835CD",
    "trusted": true,
    "ExecuteTime": {
     "end_time": "2023-07-31T03:35:08.938177100Z",
     "start_time": "2023-07-31T03:35:08.915882900Z"
    }
   },
   "outputs": [],
   "source": [
    "mv_rating = df.loc[df['type'] == 'Movie']['rating'].value_counts()"
   ]
  },
  {
   "cell_type": "markdown",
   "metadata": {
    "jupyter": {},
    "tags": [],
    "slideshow": {
     "slide_type": "slide"
    },
    "id": "B0256866477B44E6AFBA48549707C6D8",
    "trusted": true
   },
   "source": [
    "**conbine 2 ratings tables**"
   ]
  },
  {
   "cell_type": "code",
   "execution_count": 35,
   "metadata": {
    "jupyter": {},
    "tags": [],
    "slideshow": {
     "slide_type": "slide"
    },
    "id": "E4167E03CA9145F79A0313CDD16682B5",
    "trusted": true,
    "ExecuteTime": {
     "end_time": "2023-07-31T03:35:14.923004200Z",
     "start_time": "2023-07-31T03:35:14.890726400Z"
    }
   },
   "outputs": [
    {
     "data": {
      "text/plain": "            tv    mv\nTV-MA     1018  1845\nTV-14      659  1272\nTV-PG      301   505\nTV-Y7      176    95\nTV-Y       163   117\nTV-G        83   111\nNR           5    79\nR            2   663\nTV-Y7-FV     1     5\nPG-13        0   386\nPG           0   247\nG            0    39\nUR           0     5\nNC-17        0     3",
      "text/html": "<div>\n<style scoped>\n    .dataframe tbody tr th:only-of-type {\n        vertical-align: middle;\n    }\n\n    .dataframe tbody tr th {\n        vertical-align: top;\n    }\n\n    .dataframe thead th {\n        text-align: right;\n    }\n</style>\n<table border=\"1\" class=\"dataframe\">\n  <thead>\n    <tr style=\"text-align: right;\">\n      <th></th>\n      <th>tv</th>\n      <th>mv</th>\n    </tr>\n  </thead>\n  <tbody>\n    <tr>\n      <th>TV-MA</th>\n      <td>1018</td>\n      <td>1845</td>\n    </tr>\n    <tr>\n      <th>TV-14</th>\n      <td>659</td>\n      <td>1272</td>\n    </tr>\n    <tr>\n      <th>TV-PG</th>\n      <td>301</td>\n      <td>505</td>\n    </tr>\n    <tr>\n      <th>TV-Y7</th>\n      <td>176</td>\n      <td>95</td>\n    </tr>\n    <tr>\n      <th>TV-Y</th>\n      <td>163</td>\n      <td>117</td>\n    </tr>\n    <tr>\n      <th>TV-G</th>\n      <td>83</td>\n      <td>111</td>\n    </tr>\n    <tr>\n      <th>NR</th>\n      <td>5</td>\n      <td>79</td>\n    </tr>\n    <tr>\n      <th>R</th>\n      <td>2</td>\n      <td>663</td>\n    </tr>\n    <tr>\n      <th>TV-Y7-FV</th>\n      <td>1</td>\n      <td>5</td>\n    </tr>\n    <tr>\n      <th>PG-13</th>\n      <td>0</td>\n      <td>386</td>\n    </tr>\n    <tr>\n      <th>PG</th>\n      <td>0</td>\n      <td>247</td>\n    </tr>\n    <tr>\n      <th>G</th>\n      <td>0</td>\n      <td>39</td>\n    </tr>\n    <tr>\n      <th>UR</th>\n      <td>0</td>\n      <td>5</td>\n    </tr>\n    <tr>\n      <th>NC-17</th>\n      <td>0</td>\n      <td>3</td>\n    </tr>\n  </tbody>\n</table>\n</div>"
     },
     "execution_count": 35,
     "metadata": {},
     "output_type": "execute_result"
    }
   ],
   "source": [
    "pd.concat([tv_rating, mv_rating], axis=1, keys=['tv', 'mv']).fillna(0).astype('int32')"
   ]
  },
  {
   "cell_type": "markdown",
   "metadata": {
    "jupyter": {},
    "tags": [],
    "slideshow": {
     "slide_type": "slide"
    },
    "id": "30AB24D2C8FE4746BFF44A02C021D970",
    "trusted": true
   },
   "source": [
    "**Visualize Rating Distribution for TV and Movie**"
   ]
  },
  {
   "cell_type": "code",
   "execution_count": 37,
   "metadata": {
    "jupyter": {},
    "tags": [],
    "slideshow": {
     "slide_type": "slide"
    },
    "id": "C9C5170EA63348258038B18C20590F60",
    "trusted": true,
    "ExecuteTime": {
     "end_time": "2023-07-31T03:45:34.216095400Z",
     "start_time": "2023-07-31T03:45:33.974761Z"
    }
   },
   "outputs": [
    {
     "data": {
      "text/plain": "<Figure size 1120x320 with 1 Axes>",
      "image/png": "[encoded data removed]"
     },
     "metadata": {},
     "output_type": "display_data"
    }
   ],
   "source": [
    "data = pd.concat([tv_rating, mv_rating], axis=1, keys=['tv', 'mv']).fillna(0).astype('int32')\n",
    "fig,ax=plt.subplots(figsize=(14,4), dpi=80)\n",
    "ax.bar(np.arange(0,len(data.index))-0.2, data['tv'], width=0.4, label='TV Show', color='royalblue')\n",
    "ax.bar(np.arange(0,len(data.index))+0.2, data['mv'], width=0.4, label='Movie', color='coral')\n",
    "ax.set_xticks(np.arange(0,len(data)))\n",
    "ax.set_xticklabels(data.index)\n",
    "ax.set_title('Rating of TV Show & Movie', y=1.02, fontsize=14)\n",
    "ax.set_xlabel('Ratings')\n",
    "ax.set_ylabel('Number of TV Show & Movie')\n",
    "ax.yaxis.grid(alpha=0.3, ls='--')\n",
    "ax.legend()\n",
    "plt.show()"
   ]
  },
  {
   "cell_type": "markdown",
   "metadata": {
    "jupyter": {},
    "tags": [],
    "slideshow": {
     "slide_type": "slide"
    },
    "id": "B2A0A8F3EC9940938DAB7F3D84B11786",
    "trusted": true
   },
   "source": [
    "There is no R-rated TV show"
   ]
  },
  {
   "cell_type": "markdown",
   "metadata": {
    "jupyter": {},
    "tags": [],
    "slideshow": {
     "slide_type": "slide"
    },
    "id": "F560C367EB1944029B66F4D3E93F5650",
    "trusted": true
   },
   "source": [
    "## Analyze Rating Distribution"
   ]
  },
  {
   "cell_type": "markdown",
   "metadata": {
    "jupyter": {},
    "tags": [],
    "slideshow": {
     "slide_type": "slide"
    },
    "id": "28E3B3DCB05740CA9E0675FD9196022F",
    "trusted": true
   },
   "source": [
    "**Create tables for mv and tv**"
   ]
  },
  {
   "cell_type": "code",
   "execution_count": 40,
   "metadata": {
    "jupyter": {},
    "tags": [],
    "slideshow": {
     "slide_type": "slide"
    },
    "id": "C29F7555B45B4E728C31E40661948366",
    "trusted": true,
    "ExecuteTime": {
     "end_time": "2023-07-31T04:46:28.471762900Z",
     "start_time": "2023-07-31T04:46:28.429391100Z"
    }
   },
   "outputs": [],
   "source": [
    "table_tv = df.loc[df['type'] == 'TV Show']\n",
    "table_mv = df.loc[df['type'] == 'Movie']"
   ]
  },
  {
   "cell_type": "markdown",
   "metadata": {
    "jupyter": {},
    "tags": [],
    "slideshow": {
     "slide_type": "slide"
    },
    "id": "78AAC5D7F790471F8AEFFB78F11142A3",
    "trusted": true
   },
   "source": [
    "**movie ratings in the past 20 years**"
   ]
  },
  {
   "cell_type": "code",
   "execution_count": 41,
   "metadata": {
    "scrolled": false,
    "jupyter": {},
    "tags": [],
    "slideshow": {
     "slide_type": "slide"
    },
    "id": "F4580CF0871945378F137E126CF0E25E",
    "trusted": true,
    "ExecuteTime": {
     "end_time": "2023-07-31T04:46:31.613880100Z",
     "start_time": "2023-07-31T04:46:31.590620Z"
    }
   },
   "outputs": [
    {
     "data": {
      "text/plain": "        TV-MA  TV-14    R  TV-PG  PG-13   PG  TV-Y  TV-G  TV-Y7  NR   G  \\\nrating   1845   1272  663    505    386  247   117   111     95  79  39   \n\n        TV-Y7-FV  UR  NC-17  \nrating         5   5      3  ",
      "text/html": "<div>\n<style scoped>\n    .dataframe tbody tr th:only-of-type {\n        vertical-align: middle;\n    }\n\n    .dataframe tbody tr th {\n        vertical-align: top;\n    }\n\n    .dataframe thead th {\n        text-align: right;\n    }\n</style>\n<table border=\"1\" class=\"dataframe\">\n  <thead>\n    <tr style=\"text-align: right;\">\n      <th></th>\n      <th>TV-MA</th>\n      <th>TV-14</th>\n      <th>R</th>\n      <th>TV-PG</th>\n      <th>PG-13</th>\n      <th>PG</th>\n      <th>TV-Y</th>\n      <th>TV-G</th>\n      <th>TV-Y7</th>\n      <th>NR</th>\n      <th>G</th>\n      <th>TV-Y7-FV</th>\n      <th>UR</th>\n      <th>NC-17</th>\n    </tr>\n  </thead>\n  <tbody>\n    <tr>\n      <th>rating</th>\n      <td>1845</td>\n      <td>1272</td>\n      <td>663</td>\n      <td>505</td>\n      <td>386</td>\n      <td>247</td>\n      <td>117</td>\n      <td>111</td>\n      <td>95</td>\n      <td>79</td>\n      <td>39</td>\n      <td>5</td>\n      <td>5</td>\n      <td>3</td>\n    </tr>\n  </tbody>\n</table>\n</div>"
     },
     "execution_count": 41,
     "metadata": {},
     "output_type": "execute_result"
    }
   ],
   "source": [
    "pd.DataFrame(table_mv['rating'].value_counts()).T"
   ]
  },
  {
   "cell_type": "code",
   "execution_count": 45,
   "metadata": {
    "scrolled": true,
    "jupyter": {},
    "tags": [],
    "slideshow": {
     "slide_type": "slide"
    },
    "id": "F7AEB7509FE041168C9E972B8AD10362",
    "trusted": true,
    "ExecuteTime": {
     "end_time": "2023-07-31T04:56:29.252907100Z",
     "start_time": "2023-07-31T04:56:29.052332100Z"
    }
   },
   "outputs": [
    {
     "data": {
      "text/plain": "<Figure size 1120x320 with 1 Axes>",
      "image/png": "[encoded data removed]"
     },
     "metadata": {},
     "output_type": "display_data"
    }
   ],
   "source": [
    "data = pd.DataFrame(table_mv['rating'].value_counts())\n",
    "fig,ax=plt.subplots(figsize=(14,4), dpi=80)\n",
    "ax.bar(data.index, data['rating'], color='coral', width=0.5)\n",
    "ax.yaxis.grid(alpha=0.3, ls='--')\n",
    "ax.set_ylim(0,2100)\n",
    "ax.set_title('Rating of Movie', y=1.02, fontsize=14)\n",
    "ax.set_xlabel('Rating')\n",
    "ax.set_ylabel('Number of Movies')\n",
    "plt.show()"
   ]
  },
  {
   "cell_type": "markdown",
   "metadata": {
    "jupyter": {},
    "tags": [],
    "slideshow": {
     "slide_type": "slide"
    },
    "id": "B7C2C1A3C4DF48149FD61722078A466A",
    "trusted": true
   },
   "source": [
    "From the above, we can conclude that the number of TV-MA、TV-14、R rated movies are comparatively larger（500+）"
   ]
  },
  {
   "cell_type": "markdown",
   "metadata": {
    "jupyter": {},
    "tags": [],
    "slideshow": {
     "slide_type": "slide"
    },
    "id": "E0AF58A325ED4B73984B85BD6D1FF0C2",
    "trusted": true
   },
   "source": [
    "**Rating,Year and Quantity**"
   ]
  },
  {
   "cell_type": "code",
   "execution_count": 47,
   "metadata": {
    "jupyter": {},
    "tags": [],
    "slideshow": {
     "slide_type": "slide"
    },
    "id": "B0F89E08415040D5B547ED15C1D725BF",
    "trusted": true,
    "ExecuteTime": {
     "end_time": "2023-07-31T05:04:14.882668400Z",
     "start_time": "2023-07-31T05:04:14.863409900Z"
    }
   },
   "outputs": [
    {
     "data": {
      "text/plain": "                       0\nrating   release_year   \nG        1956          1\n         1958          1\n         1968          1\n         1969          1\n         1971          2\n...                   ..\nTV-Y7-FV 2018          1\nUR       1974          1\n         2007          2\n         2008          1\n         2016          1\n\n[395 rows x 1 columns]",
      "text/html": "<div>\n<style scoped>\n    .dataframe tbody tr th:only-of-type {\n        vertical-align: middle;\n    }\n\n    .dataframe tbody tr th {\n        vertical-align: top;\n    }\n\n    .dataframe thead th {\n        text-align: right;\n    }\n</style>\n<table border=\"1\" class=\"dataframe\">\n  <thead>\n    <tr style=\"text-align: right;\">\n      <th></th>\n      <th></th>\n      <th>0</th>\n    </tr>\n    <tr>\n      <th>rating</th>\n      <th>release_year</th>\n      <th></th>\n    </tr>\n  </thead>\n  <tbody>\n    <tr>\n      <th rowspan=\"5\" valign=\"top\">G</th>\n      <th>1956</th>\n      <td>1</td>\n    </tr>\n    <tr>\n      <th>1958</th>\n      <td>1</td>\n    </tr>\n    <tr>\n      <th>1968</th>\n      <td>1</td>\n    </tr>\n    <tr>\n      <th>1969</th>\n      <td>1</td>\n    </tr>\n    <tr>\n      <th>1971</th>\n      <td>2</td>\n    </tr>\n    <tr>\n      <th>...</th>\n      <th>...</th>\n      <td>...</td>\n    </tr>\n    <tr>\n      <th>TV-Y7-FV</th>\n      <th>2018</th>\n      <td>1</td>\n    </tr>\n    <tr>\n      <th rowspan=\"4\" valign=\"top\">UR</th>\n      <th>1974</th>\n      <td>1</td>\n    </tr>\n    <tr>\n      <th>2007</th>\n      <td>2</td>\n    </tr>\n    <tr>\n      <th>2008</th>\n      <td>1</td>\n    </tr>\n    <tr>\n      <th>2016</th>\n      <td>1</td>\n    </tr>\n  </tbody>\n</table>\n<p>395 rows × 1 columns</p>\n</div>"
     },
     "execution_count": 47,
     "metadata": {},
     "output_type": "execute_result"
    }
   ],
   "source": [
    "pivot_mv = pd.DataFrame(table_mv.groupby(['rating', 'release_year']).size())\n",
    "pivot_mv"
   ]
  },
  {
   "cell_type": "markdown",
   "metadata": {
    "jupyter": {},
    "tags": [],
    "slideshow": {
     "slide_type": "slide"
    },
    "id": "A0374DD4F914425D875F73D41B6D1454",
    "trusted": true
   },
   "source": [
    "**convert the above to a pivot table**"
   ]
  },
  {
   "cell_type": "code",
   "execution_count": 67,
   "metadata": {
    "jupyter": {},
    "tags": [],
    "slideshow": {
     "slide_type": "slide"
    },
    "id": "C2D9745F65F64E52BE77F7BB7035BE25",
    "trusted": true
   },
   "outputs": [
    {
     "data": {
      "text/html": [
       "<div>\n",
       "<style scoped>\n",
       "    .dataframe tbody tr th:only-of-type {\n",
       "        vertical-align: middle;\n",
       "    }\n",
       "\n",
       "    .dataframe tbody tr th {\n",
       "        vertical-align: top;\n",
       "    }\n",
       "\n",
       "    .dataframe thead th {\n",
       "        text-align: right;\n",
       "    }\n",
       "</style>\n",
       "<table border=\"1\" class=\"dataframe\">\n",
       "  <thead>\n",
       "    <tr style=\"text-align: right;\">\n",
       "      <th>rating</th>\n",
       "      <th>G</th>\n",
       "      <th>NC-17</th>\n",
       "      <th>NR</th>\n",
       "      <th>PG</th>\n",
       "      <th>PG-13</th>\n",
       "      <th>R</th>\n",
       "      <th>TV-14</th>\n",
       "      <th>TV-G</th>\n",
       "      <th>TV-MA</th>\n",
       "      <th>TV-PG</th>\n",
       "      <th>TV-Y</th>\n",
       "      <th>TV-Y7</th>\n",
       "      <th>TV-Y7-FV</th>\n",
       "      <th>UR</th>\n",
       "    </tr>\n",
       "    <tr>\n",
       "      <th>release_year</th>\n",
       "      <th></th>\n",
       "      <th></th>\n",
       "      <th></th>\n",
       "      <th></th>\n",
       "      <th></th>\n",
       "      <th></th>\n",
       "      <th></th>\n",
       "      <th></th>\n",
       "      <th></th>\n",
       "      <th></th>\n",
       "      <th></th>\n",
       "      <th></th>\n",
       "      <th></th>\n",
       "      <th></th>\n",
       "    </tr>\n",
       "  </thead>\n",
       "  <tbody>\n",
       "    <tr>\n",
       "      <th>2000</th>\n",
       "      <td>2</td>\n",
       "      <td>0</td>\n",
       "      <td>0</td>\n",
       "      <td>4</td>\n",
       "      <td>8</td>\n",
       "      <td>7</td>\n",
       "      <td>5</td>\n",
       "      <td>0</td>\n",
       "      <td>1</td>\n",
       "      <td>3</td>\n",
       "      <td>0</td>\n",
       "      <td>0</td>\n",
       "      <td>0</td>\n",
       "      <td>0</td>\n",
       "    </tr>\n",
       "    <tr>\n",
       "      <th>2001</th>\n",
       "      <td>2</td>\n",
       "      <td>0</td>\n",
       "      <td>1</td>\n",
       "      <td>3</td>\n",
       "      <td>4</td>\n",
       "      <td>12</td>\n",
       "      <td>5</td>\n",
       "      <td>0</td>\n",
       "      <td>1</td>\n",
       "      <td>3</td>\n",
       "      <td>0</td>\n",
       "      <td>1</td>\n",
       "      <td>0</td>\n",
       "      <td>0</td>\n",
       "    </tr>\n",
       "    <tr>\n",
       "      <th>2002</th>\n",
       "      <td>0</td>\n",
       "      <td>0</td>\n",
       "      <td>0</td>\n",
       "      <td>4</td>\n",
       "      <td>13</td>\n",
       "      <td>10</td>\n",
       "      <td>6</td>\n",
       "      <td>0</td>\n",
       "      <td>5</td>\n",
       "      <td>1</td>\n",
       "      <td>0</td>\n",
       "      <td>0</td>\n",
       "      <td>0</td>\n",
       "      <td>0</td>\n",
       "    </tr>\n",
       "    <tr>\n",
       "      <th>2003</th>\n",
       "      <td>0</td>\n",
       "      <td>0</td>\n",
       "      <td>0</td>\n",
       "      <td>5</td>\n",
       "      <td>7</td>\n",
       "      <td>10</td>\n",
       "      <td>9</td>\n",
       "      <td>0</td>\n",
       "      <td>7</td>\n",
       "      <td>1</td>\n",
       "      <td>1</td>\n",
       "      <td>0</td>\n",
       "      <td>0</td>\n",
       "      <td>0</td>\n",
       "    </tr>\n",
       "    <tr>\n",
       "      <th>2004</th>\n",
       "      <td>3</td>\n",
       "      <td>0</td>\n",
       "      <td>1</td>\n",
       "      <td>8</td>\n",
       "      <td>6</td>\n",
       "      <td>5</td>\n",
       "      <td>10</td>\n",
       "      <td>0</td>\n",
       "      <td>9</td>\n",
       "      <td>8</td>\n",
       "      <td>0</td>\n",
       "      <td>0</td>\n",
       "      <td>0</td>\n",
       "      <td>0</td>\n",
       "    </tr>\n",
       "    <tr>\n",
       "      <th>2005</th>\n",
       "      <td>2</td>\n",
       "      <td>0</td>\n",
       "      <td>0</td>\n",
       "      <td>4</td>\n",
       "      <td>12</td>\n",
       "      <td>10</td>\n",
       "      <td>22</td>\n",
       "      <td>0</td>\n",
       "      <td>2</td>\n",
       "      <td>9</td>\n",
       "      <td>0</td>\n",
       "      <td>0</td>\n",
       "      <td>0</td>\n",
       "      <td>0</td>\n",
       "    </tr>\n",
       "    <tr>\n",
       "      <th>2006</th>\n",
       "      <td>0</td>\n",
       "      <td>0</td>\n",
       "      <td>1</td>\n",
       "      <td>8</td>\n",
       "      <td>12</td>\n",
       "      <td>8</td>\n",
       "      <td>20</td>\n",
       "      <td>0</td>\n",
       "      <td>12</td>\n",
       "      <td>10</td>\n",
       "      <td>0</td>\n",
       "      <td>1</td>\n",
       "      <td>0</td>\n",
       "      <td>0</td>\n",
       "    </tr>\n",
       "    <tr>\n",
       "      <th>2007</th>\n",
       "      <td>1</td>\n",
       "      <td>0</td>\n",
       "      <td>2</td>\n",
       "      <td>10</td>\n",
       "      <td>13</td>\n",
       "      <td>13</td>\n",
       "      <td>14</td>\n",
       "      <td>0</td>\n",
       "      <td>11</td>\n",
       "      <td>5</td>\n",
       "      <td>1</td>\n",
       "      <td>0</td>\n",
       "      <td>0</td>\n",
       "      <td>2</td>\n",
       "    </tr>\n",
       "    <tr>\n",
       "      <th>2008</th>\n",
       "      <td>0</td>\n",
       "      <td>0</td>\n",
       "      <td>0</td>\n",
       "      <td>8</td>\n",
       "      <td>21</td>\n",
       "      <td>16</td>\n",
       "      <td>26</td>\n",
       "      <td>1</td>\n",
       "      <td>19</td>\n",
       "      <td>7</td>\n",
       "      <td>1</td>\n",
       "      <td>2</td>\n",
       "      <td>0</td>\n",
       "      <td>1</td>\n",
       "    </tr>\n",
       "    <tr>\n",
       "      <th>2009</th>\n",
       "      <td>3</td>\n",
       "      <td>0</td>\n",
       "      <td>0</td>\n",
       "      <td>9</td>\n",
       "      <td>19</td>\n",
       "      <td>24</td>\n",
       "      <td>31</td>\n",
       "      <td>0</td>\n",
       "      <td>7</td>\n",
       "      <td>9</td>\n",
       "      <td>0</td>\n",
       "      <td>1</td>\n",
       "      <td>0</td>\n",
       "      <td>0</td>\n",
       "    </tr>\n",
       "    <tr>\n",
       "      <th>2010</th>\n",
       "      <td>0</td>\n",
       "      <td>0</td>\n",
       "      <td>6</td>\n",
       "      <td>7</td>\n",
       "      <td>19</td>\n",
       "      <td>22</td>\n",
       "      <td>33</td>\n",
       "      <td>3</td>\n",
       "      <td>29</td>\n",
       "      <td>10</td>\n",
       "      <td>2</td>\n",
       "      <td>4</td>\n",
       "      <td>0</td>\n",
       "      <td>0</td>\n",
       "    </tr>\n",
       "    <tr>\n",
       "      <th>2011</th>\n",
       "      <td>1</td>\n",
       "      <td>0</td>\n",
       "      <td>2</td>\n",
       "      <td>17</td>\n",
       "      <td>18</td>\n",
       "      <td>16</td>\n",
       "      <td>32</td>\n",
       "      <td>1</td>\n",
       "      <td>20</td>\n",
       "      <td>11</td>\n",
       "      <td>4</td>\n",
       "      <td>5</td>\n",
       "      <td>0</td>\n",
       "      <td>0</td>\n",
       "    </tr>\n",
       "    <tr>\n",
       "      <th>2012</th>\n",
       "      <td>0</td>\n",
       "      <td>0</td>\n",
       "      <td>5</td>\n",
       "      <td>6</td>\n",
       "      <td>18</td>\n",
       "      <td>25</td>\n",
       "      <td>46</td>\n",
       "      <td>2</td>\n",
       "      <td>36</td>\n",
       "      <td>10</td>\n",
       "      <td>1</td>\n",
       "      <td>8</td>\n",
       "      <td>1</td>\n",
       "      <td>0</td>\n",
       "    </tr>\n",
       "    <tr>\n",
       "      <th>2013</th>\n",
       "      <td>0</td>\n",
       "      <td>1</td>\n",
       "      <td>6</td>\n",
       "      <td>13</td>\n",
       "      <td>11</td>\n",
       "      <td>35</td>\n",
       "      <td>54</td>\n",
       "      <td>5</td>\n",
       "      <td>44</td>\n",
       "      <td>20</td>\n",
       "      <td>4</td>\n",
       "      <td>8</td>\n",
       "      <td>1</td>\n",
       "      <td>0</td>\n",
       "    </tr>\n",
       "    <tr>\n",
       "      <th>2014</th>\n",
       "      <td>2</td>\n",
       "      <td>1</td>\n",
       "      <td>7</td>\n",
       "      <td>15</td>\n",
       "      <td>14</td>\n",
       "      <td>42</td>\n",
       "      <td>63</td>\n",
       "      <td>3</td>\n",
       "      <td>58</td>\n",
       "      <td>26</td>\n",
       "      <td>6</td>\n",
       "      <td>7</td>\n",
       "      <td>0</td>\n",
       "      <td>0</td>\n",
       "    </tr>\n",
       "    <tr>\n",
       "      <th>2015</th>\n",
       "      <td>0</td>\n",
       "      <td>0</td>\n",
       "      <td>17</td>\n",
       "      <td>9</td>\n",
       "      <td>23</td>\n",
       "      <td>60</td>\n",
       "      <td>88</td>\n",
       "      <td>6</td>\n",
       "      <td>130</td>\n",
       "      <td>35</td>\n",
       "      <td>9</td>\n",
       "      <td>3</td>\n",
       "      <td>0</td>\n",
       "      <td>0</td>\n",
       "    </tr>\n",
       "    <tr>\n",
       "      <th>2016</th>\n",
       "      <td>3</td>\n",
       "      <td>0</td>\n",
       "      <td>20</td>\n",
       "      <td>12</td>\n",
       "      <td>31</td>\n",
       "      <td>79</td>\n",
       "      <td>139</td>\n",
       "      <td>13</td>\n",
       "      <td>270</td>\n",
       "      <td>51</td>\n",
       "      <td>8</td>\n",
       "      <td>13</td>\n",
       "      <td>2</td>\n",
       "      <td>1</td>\n",
       "    </tr>\n",
       "    <tr>\n",
       "      <th>2017</th>\n",
       "      <td>1</td>\n",
       "      <td>0</td>\n",
       "      <td>2</td>\n",
       "      <td>15</td>\n",
       "      <td>26</td>\n",
       "      <td>68</td>\n",
       "      <td>176</td>\n",
       "      <td>20</td>\n",
       "      <td>336</td>\n",
       "      <td>79</td>\n",
       "      <td>11</td>\n",
       "      <td>8</td>\n",
       "      <td>0</td>\n",
       "      <td>0</td>\n",
       "    </tr>\n",
       "    <tr>\n",
       "      <th>2018</th>\n",
       "      <td>2</td>\n",
       "      <td>1</td>\n",
       "      <td>1</td>\n",
       "      <td>30</td>\n",
       "      <td>26</td>\n",
       "      <td>43</td>\n",
       "      <td>172</td>\n",
       "      <td>18</td>\n",
       "      <td>348</td>\n",
       "      <td>70</td>\n",
       "      <td>13</td>\n",
       "      <td>9</td>\n",
       "      <td>1</td>\n",
       "      <td>0</td>\n",
       "    </tr>\n",
       "    <tr>\n",
       "      <th>2019</th>\n",
       "      <td>0</td>\n",
       "      <td>0</td>\n",
       "      <td>0</td>\n",
       "      <td>12</td>\n",
       "      <td>15</td>\n",
       "      <td>33</td>\n",
       "      <td>144</td>\n",
       "      <td>15</td>\n",
       "      <td>271</td>\n",
       "      <td>60</td>\n",
       "      <td>22</td>\n",
       "      <td>10</td>\n",
       "      <td>0</td>\n",
       "      <td>0</td>\n",
       "    </tr>\n",
       "    <tr>\n",
       "      <th>2020</th>\n",
       "      <td>2</td>\n",
       "      <td>0</td>\n",
       "      <td>0</td>\n",
       "      <td>14</td>\n",
       "      <td>19</td>\n",
       "      <td>41</td>\n",
       "      <td>61</td>\n",
       "      <td>20</td>\n",
       "      <td>171</td>\n",
       "      <td>35</td>\n",
       "      <td>34</td>\n",
       "      <td>14</td>\n",
       "      <td>0</td>\n",
       "      <td>0</td>\n",
       "    </tr>\n",
       "  </tbody>\n",
       "</table>\n",
       "</div>"
      ],
      "text/plain": [
       "rating        G  NC-17  NR  PG  PG-13   R  TV-14  TV-G  TV-MA  TV-PG  TV-Y  \\\n",
       "release_year                                                                 \n",
       "2000          2      0   0   4      8   7      5     0      1      3     0   \n",
       "2001          2      0   1   3      4  12      5     0      1      3     0   \n",
       "2002          0      0   0   4     13  10      6     0      5      1     0   \n",
       "2003          0      0   0   5      7  10      9     0      7      1     1   \n",
       "2004          3      0   1   8      6   5     10     0      9      8     0   \n",
       "2005          2      0   0   4     12  10     22     0      2      9     0   \n",
       "2006          0      0   1   8     12   8     20     0     12     10     0   \n",
       "2007          1      0   2  10     13  13     14     0     11      5     1   \n",
       "2008          0      0   0   8     21  16     26     1     19      7     1   \n",
       "2009          3      0   0   9     19  24     31     0      7      9     0   \n",
       "2010          0      0   6   7     19  22     33     3     29     10     2   \n",
       "2011          1      0   2  17     18  16     32     1     20     11     4   \n",
       "2012          0      0   5   6     18  25     46     2     36     10     1   \n",
       "2013          0      1   6  13     11  35     54     5     44     20     4   \n",
       "2014          2      1   7  15     14  42     63     3     58     26     6   \n",
       "2015          0      0  17   9     23  60     88     6    130     35     9   \n",
       "2016          3      0  20  12     31  79    139    13    270     51     8   \n",
       "2017          1      0   2  15     26  68    176    20    336     79    11   \n",
       "2018          2      1   1  30     26  43    172    18    348     70    13   \n",
       "2019          0      0   0  12     15  33    144    15    271     60    22   \n",
       "2020          2      0   0  14     19  41     61    20    171     35    34   \n",
       "\n",
       "rating        TV-Y7  TV-Y7-FV  UR  \n",
       "release_year                       \n",
       "2000              0         0   0  \n",
       "2001              1         0   0  \n",
       "2002              0         0   0  \n",
       "2003              0         0   0  \n",
       "2004              0         0   0  \n",
       "2005              0         0   0  \n",
       "2006              1         0   0  \n",
       "2007              0         0   2  \n",
       "2008              2         0   1  \n",
       "2009              1         0   0  \n",
       "2010              4         0   0  \n",
       "2011              5         0   0  \n",
       "2012              8         1   0  \n",
       "2013              8         1   0  \n",
       "2014              7         0   0  \n",
       "2015              3         0   0  \n",
       "2016             13         2   1  \n",
       "2017              8         0   0  \n",
       "2018              9         1   0  \n",
       "2019             10         0   0  \n",
       "2020             14         0   0  "
      ]
     },
     "execution_count": 67,
     "metadata": {},
     "output_type": "execute_result"
    }
   ],
   "source": [
    "t_mv = pd.pivot_table(pivot_mv, index=['release_year'], columns=['rating']).fillna(0).astype('int32')[0]\n",
    "t_mv"
   ]
  },
  {
   "cell_type": "markdown",
   "metadata": {
    "jupyter": {},
    "tags": [],
    "slideshow": {
     "slide_type": "slide"
    },
    "id": "608371C00A0842D28A95ADBCBAFBA077",
    "trusted": true
   },
   "source": [
    "<br>"
   ]
  },
  {
   "cell_type": "markdown",
   "metadata": {
    "jupyter": {},
    "tags": [],
    "slideshow": {
     "slide_type": "slide"
    },
    "id": "3FC31870CC4A4F3A8C9E4B17E1DC94B3",
    "trusted": true
   },
   "source": [
    "**The trend of tv/mv release with respect to rating**"
   ]
  },
  {
   "cell_type": "code",
   "execution_count": 78,
   "metadata": {
    "scrolled": false,
    "jupyter": {},
    "tags": [],
    "slideshow": {
     "slide_type": "slide"
    },
    "id": "F12A08EBBEE34DDB820246CBBAD11150",
    "trusted": true
   },
   "outputs": [
    {
     "data": {
      "image/png": "[encoded data removed]",
      "text/plain": [
       "<Figure size 1120x320 with 1 Axes>"
      ]
     },
     "metadata": {
      "needs_background": "light"
     },
     "output_type": "display_data"
    }
   ],
   "source": [
    "fig,ax=plt.subplots(figsize=(14,4), dpi=80)\n",
    "ax.plot(t_mv.index, t_mv['TV-MA'].values, label='TV-MA')\n",
    "ax.plot(t_mv.index, t_mv['TV-14'].values, label='TV-14')\n",
    "ax.plot(t_mv.index, t_mv['R'].values, label='R')\n",
    "ax.plot(t_mv.index, t_mv['TV-PG'].values, label='TV-PG')\n",
    "ax.plot(t_mv.index, t_mv['PG-13'].values, label='PG-13')\n",
    "ax.plot(t_mv.index, t_mv['PG'].values, label='PG')\n",
    "ax.plot(t_mv.index, t_mv['TV-Y'].values, label='TV-Y')\n",
    "ax.plot(t_mv.index, t_mv['TV-G'].values, label='TV-G')\n",
    "ax.set_xticks(np.arange(2000,2021,1))\n",
    "ax.legend(loc='upper left')\n",
    "ax.set_ylim(0,400)\n",
    "ax.grid(alpha=0.3, ls='--')\n",
    "ax.set_title('Trends in the number of Movie', y=1.02, fontsize=14)\n",
    "ax.set_xlabel('Release year')\n",
    "ax.set_ylabel('Number of Movie')\n",
    "plt.show()"
   ]
  },
  {
   "cell_type": "markdown",
   "metadata": {
    "jupyter": {},
    "tags": [],
    "slideshow": {
     "slide_type": "slide"
    },
    "id": "045E8D9495624B268968CA1204F120DB",
    "trusted": true
   },
   "source": [
    "Before 2014, the number of films in various rating categories remained relatively stable. Starting from 2015, there was a significant increase in the production of films with ratings such as TV-MA, TV-14, R, and TV-PG. However, from 2019, the production of films in these categories began to decline."
   ]
  },
  {
   "cell_type": "markdown",
   "metadata": {
    "jupyter": {},
    "tags": [],
    "slideshow": {
     "slide_type": "slide"
    },
    "id": "6C401744540443E78CE2CA785EFC639F",
    "trusted": true
   },
   "source": [
    "**the number of tv shows released based on rating**"
   ]
  },
  {
   "cell_type": "code",
   "execution_count": 80,
   "metadata": {
    "jupyter": {},
    "tags": [],
    "slideshow": {
     "slide_type": "slide"
    },
    "id": "8205E89D64CD40DD85631637036440FD",
    "trusted": true
   },
   "outputs": [
    {
     "data": {
      "text/html": [
       "<div>\n",
       "<style scoped>\n",
       "    .dataframe tbody tr th:only-of-type {\n",
       "        vertical-align: middle;\n",
       "    }\n",
       "\n",
       "    .dataframe tbody tr th {\n",
       "        vertical-align: top;\n",
       "    }\n",
       "\n",
       "    .dataframe thead th {\n",
       "        text-align: right;\n",
       "    }\n",
       "</style>\n",
       "<table border=\"1\" class=\"dataframe\">\n",
       "  <thead>\n",
       "    <tr style=\"text-align: right;\">\n",
       "      <th></th>\n",
       "      <th>TV-MA</th>\n",
       "      <th>TV-14</th>\n",
       "      <th>TV-PG</th>\n",
       "      <th>TV-Y7</th>\n",
       "      <th>TV-Y</th>\n",
       "      <th>TV-G</th>\n",
       "      <th>NR</th>\n",
       "      <th>R</th>\n",
       "      <th>TV-Y7-FV</th>\n",
       "    </tr>\n",
       "  </thead>\n",
       "  <tbody>\n",
       "    <tr>\n",
       "      <th>rating</th>\n",
       "      <td>1005</td>\n",
       "      <td>641</td>\n",
       "      <td>292</td>\n",
       "      <td>165</td>\n",
       "      <td>159</td>\n",
       "      <td>72</td>\n",
       "      <td>5</td>\n",
       "      <td>2</td>\n",
       "      <td>1</td>\n",
       "    </tr>\n",
       "  </tbody>\n",
       "</table>\n",
       "</div>"
      ],
      "text/plain": [
       "        TV-MA  TV-14  TV-PG  TV-Y7  TV-Y  TV-G  NR  R  TV-Y7-FV\n",
       "rating   1005    641    292    165   159    72   5  2         1"
      ]
     },
     "execution_count": 80,
     "metadata": {},
     "output_type": "execute_result"
    }
   ],
   "source": [
    "pd.DataFrame(table_tv['rating'].value_counts()).T"
   ]
  },
  {
   "cell_type": "code",
   "execution_count": 83,
   "metadata": {
    "jupyter": {},
    "tags": [],
    "slideshow": {
     "slide_type": "slide"
    },
    "id": "4BBD7EC03E124FDBA9ECD02599DB2DCC",
    "trusted": true
   },
   "outputs": [
    {
     "data": {
      "image/png": "[encoded data removed]",
      "text/plain": [
       "<Figure size 1120x320 with 1 Axes>"
      ]
     },
     "metadata": {
      "needs_background": "light"
     },
     "output_type": "display_data"
    }
   ],
   "source": [
    "data = pd.DataFrame(table_tv['rating'].value_counts())\n",
    "fig,ax=plt.subplots(figsize=(14,4), dpi=80)\n",
    "ax.bar(data.index, data['rating'], color='royalblue', width=0.5)\n",
    "ax.yaxis.grid(alpha=0.3, ls='--')\n",
    "ax.set_ylim(0,2100)\n",
    "ax.set_title('Rating of TV Show', y=1.02, fontsize=14)\n",
    "ax.set_xlabel('Rating')\n",
    "ax.set_ylabel('Number of TV Show')\n",
    "plt.show()"
   ]
  },
  {
   "cell_type": "markdown",
   "metadata": {
    "jupyter": {},
    "tags": [],
    "slideshow": {
     "slide_type": "slide"
    },
    "id": "C68684DAFD0A412F959D02D62E538A03",
    "trusted": true
   },
   "source": [
    " From the graph, it can be observed that there are more than 500 films in the TV-MA and TV-14 rating categories."
   ]
  },
  {
   "cell_type": "markdown",
   "metadata": {
    "jupyter": {},
    "tags": [],
    "slideshow": {
     "slide_type": "slide"
    },
    "id": "CF218D4B5A184F918258E8A7551665D4",
    "trusted": true
   },
   "source": [
    "**TV's Rating,Year and Quantity**"
   ]
  },
  {
   "cell_type": "code",
   "execution_count": 86,
   "metadata": {
    "jupyter": {},
    "tags": [],
    "slideshow": {
     "slide_type": "slide"
    },
    "id": "DFD4FD44D1114326884A0723359EC61B",
    "trusted": true
   },
   "outputs": [
    {
     "data": {
      "text/html": [
       "<div>\n",
       "<style scoped>\n",
       "    .dataframe tbody tr th:only-of-type {\n",
       "        vertical-align: middle;\n",
       "    }\n",
       "\n",
       "    .dataframe tbody tr th {\n",
       "        vertical-align: top;\n",
       "    }\n",
       "\n",
       "    .dataframe thead th {\n",
       "        text-align: right;\n",
       "    }\n",
       "</style>\n",
       "<table border=\"1\" class=\"dataframe\">\n",
       "  <thead>\n",
       "    <tr style=\"text-align: right;\">\n",
       "      <th></th>\n",
       "      <th></th>\n",
       "      <th>0</th>\n",
       "    </tr>\n",
       "    <tr>\n",
       "      <th>rating</th>\n",
       "      <th>release_year</th>\n",
       "      <th></th>\n",
       "    </tr>\n",
       "  </thead>\n",
       "  <tbody>\n",
       "    <tr>\n",
       "      <th rowspan=\"3\" valign=\"top\">NR</th>\n",
       "      <th>2004</th>\n",
       "      <td>1</td>\n",
       "    </tr>\n",
       "    <tr>\n",
       "      <th>2013</th>\n",
       "      <td>3</td>\n",
       "    </tr>\n",
       "    <tr>\n",
       "      <th>2015</th>\n",
       "      <td>1</td>\n",
       "    </tr>\n",
       "    <tr>\n",
       "      <th rowspan=\"2\" valign=\"top\">R</th>\n",
       "      <th>2015</th>\n",
       "      <td>1</td>\n",
       "    </tr>\n",
       "    <tr>\n",
       "      <th>2016</th>\n",
       "      <td>1</td>\n",
       "    </tr>\n",
       "    <tr>\n",
       "      <th>...</th>\n",
       "      <th>...</th>\n",
       "      <td>...</td>\n",
       "    </tr>\n",
       "    <tr>\n",
       "      <th rowspan=\"4\" valign=\"top\">TV-Y7</th>\n",
       "      <th>2017</th>\n",
       "      <td>26</td>\n",
       "    </tr>\n",
       "    <tr>\n",
       "      <th>2018</th>\n",
       "      <td>28</td>\n",
       "    </tr>\n",
       "    <tr>\n",
       "      <th>2019</th>\n",
       "      <td>22</td>\n",
       "    </tr>\n",
       "    <tr>\n",
       "      <th>2020</th>\n",
       "      <td>25</td>\n",
       "    </tr>\n",
       "    <tr>\n",
       "      <th>TV-Y7-FV</th>\n",
       "      <th>2014</th>\n",
       "      <td>1</td>\n",
       "    </tr>\n",
       "  </tbody>\n",
       "</table>\n",
       "<p>112 rows × 1 columns</p>\n",
       "</div>"
      ],
      "text/plain": [
       "                        0\n",
       "rating   release_year    \n",
       "NR       2004           1\n",
       "         2013           3\n",
       "         2015           1\n",
       "R        2015           1\n",
       "         2016           1\n",
       "...                    ..\n",
       "TV-Y7    2017          26\n",
       "         2018          28\n",
       "         2019          22\n",
       "         2020          25\n",
       "TV-Y7-FV 2014           1\n",
       "\n",
       "[112 rows x 1 columns]"
      ]
     },
     "execution_count": 86,
     "metadata": {},
     "output_type": "execute_result"
    }
   ],
   "source": [
    "pivot_tv = pd.DataFrame(table_tv.groupby(['rating', 'release_year']).size())\n",
    "pivot_tv"
   ]
  },
  {
   "cell_type": "code",
   "execution_count": 87,
   "metadata": {
    "jupyter": {},
    "tags": [],
    "slideshow": {
     "slide_type": "slide"
    },
    "id": "048B6D0548FC4D9295EA4CDE4864DF95",
    "trusted": true
   },
   "outputs": [
    {
     "data": {
      "text/html": [
       "<div>\n",
       "<style scoped>\n",
       "    .dataframe tbody tr th:only-of-type {\n",
       "        vertical-align: middle;\n",
       "    }\n",
       "\n",
       "    .dataframe tbody tr th {\n",
       "        vertical-align: top;\n",
       "    }\n",
       "\n",
       "    .dataframe thead th {\n",
       "        text-align: right;\n",
       "    }\n",
       "</style>\n",
       "<table border=\"1\" class=\"dataframe\">\n",
       "  <thead>\n",
       "    <tr style=\"text-align: right;\">\n",
       "      <th>rating</th>\n",
       "      <th>NR</th>\n",
       "      <th>R</th>\n",
       "      <th>TV-14</th>\n",
       "      <th>TV-G</th>\n",
       "      <th>TV-MA</th>\n",
       "      <th>TV-PG</th>\n",
       "      <th>TV-Y</th>\n",
       "      <th>TV-Y7</th>\n",
       "      <th>TV-Y7-FV</th>\n",
       "    </tr>\n",
       "    <tr>\n",
       "      <th>release_year</th>\n",
       "      <th></th>\n",
       "      <th></th>\n",
       "      <th></th>\n",
       "      <th></th>\n",
       "      <th></th>\n",
       "      <th></th>\n",
       "      <th></th>\n",
       "      <th></th>\n",
       "      <th></th>\n",
       "    </tr>\n",
       "  </thead>\n",
       "  <tbody>\n",
       "    <tr>\n",
       "      <th>2000</th>\n",
       "      <td>0</td>\n",
       "      <td>0</td>\n",
       "      <td>0</td>\n",
       "      <td>0</td>\n",
       "      <td>0</td>\n",
       "      <td>2</td>\n",
       "      <td>0</td>\n",
       "      <td>2</td>\n",
       "      <td>0</td>\n",
       "    </tr>\n",
       "    <tr>\n",
       "      <th>2001</th>\n",
       "      <td>0</td>\n",
       "      <td>0</td>\n",
       "      <td>2</td>\n",
       "      <td>1</td>\n",
       "      <td>0</td>\n",
       "      <td>0</td>\n",
       "      <td>0</td>\n",
       "      <td>1</td>\n",
       "      <td>0</td>\n",
       "    </tr>\n",
       "    <tr>\n",
       "      <th>2002</th>\n",
       "      <td>0</td>\n",
       "      <td>0</td>\n",
       "      <td>3</td>\n",
       "      <td>0</td>\n",
       "      <td>1</td>\n",
       "      <td>1</td>\n",
       "      <td>0</td>\n",
       "      <td>1</td>\n",
       "      <td>0</td>\n",
       "    </tr>\n",
       "    <tr>\n",
       "      <th>2003</th>\n",
       "      <td>0</td>\n",
       "      <td>0</td>\n",
       "      <td>5</td>\n",
       "      <td>0</td>\n",
       "      <td>0</td>\n",
       "      <td>2</td>\n",
       "      <td>0</td>\n",
       "      <td>2</td>\n",
       "      <td>0</td>\n",
       "    </tr>\n",
       "    <tr>\n",
       "      <th>2004</th>\n",
       "      <td>1</td>\n",
       "      <td>0</td>\n",
       "      <td>3</td>\n",
       "      <td>0</td>\n",
       "      <td>2</td>\n",
       "      <td>1</td>\n",
       "      <td>1</td>\n",
       "      <td>1</td>\n",
       "      <td>0</td>\n",
       "    </tr>\n",
       "    <tr>\n",
       "      <th>2005</th>\n",
       "      <td>0</td>\n",
       "      <td>0</td>\n",
       "      <td>5</td>\n",
       "      <td>0</td>\n",
       "      <td>3</td>\n",
       "      <td>1</td>\n",
       "      <td>0</td>\n",
       "      <td>3</td>\n",
       "      <td>0</td>\n",
       "    </tr>\n",
       "    <tr>\n",
       "      <th>2006</th>\n",
       "      <td>0</td>\n",
       "      <td>0</td>\n",
       "      <td>6</td>\n",
       "      <td>0</td>\n",
       "      <td>4</td>\n",
       "      <td>2</td>\n",
       "      <td>0</td>\n",
       "      <td>1</td>\n",
       "      <td>0</td>\n",
       "    </tr>\n",
       "    <tr>\n",
       "      <th>2007</th>\n",
       "      <td>0</td>\n",
       "      <td>0</td>\n",
       "      <td>4</td>\n",
       "      <td>0</td>\n",
       "      <td>4</td>\n",
       "      <td>1</td>\n",
       "      <td>1</td>\n",
       "      <td>3</td>\n",
       "      <td>0</td>\n",
       "    </tr>\n",
       "    <tr>\n",
       "      <th>2008</th>\n",
       "      <td>0</td>\n",
       "      <td>0</td>\n",
       "      <td>10</td>\n",
       "      <td>2</td>\n",
       "      <td>5</td>\n",
       "      <td>3</td>\n",
       "      <td>1</td>\n",
       "      <td>2</td>\n",
       "      <td>0</td>\n",
       "    </tr>\n",
       "    <tr>\n",
       "      <th>2009</th>\n",
       "      <td>0</td>\n",
       "      <td>0</td>\n",
       "      <td>14</td>\n",
       "      <td>1</td>\n",
       "      <td>10</td>\n",
       "      <td>6</td>\n",
       "      <td>1</td>\n",
       "      <td>2</td>\n",
       "      <td>0</td>\n",
       "    </tr>\n",
       "    <tr>\n",
       "      <th>2010</th>\n",
       "      <td>0</td>\n",
       "      <td>0</td>\n",
       "      <td>14</td>\n",
       "      <td>0</td>\n",
       "      <td>9</td>\n",
       "      <td>10</td>\n",
       "      <td>2</td>\n",
       "      <td>2</td>\n",
       "      <td>0</td>\n",
       "    </tr>\n",
       "    <tr>\n",
       "      <th>2011</th>\n",
       "      <td>0</td>\n",
       "      <td>0</td>\n",
       "      <td>17</td>\n",
       "      <td>1</td>\n",
       "      <td>7</td>\n",
       "      <td>7</td>\n",
       "      <td>4</td>\n",
       "      <td>3</td>\n",
       "      <td>0</td>\n",
       "    </tr>\n",
       "    <tr>\n",
       "      <th>2012</th>\n",
       "      <td>0</td>\n",
       "      <td>0</td>\n",
       "      <td>25</td>\n",
       "      <td>1</td>\n",
       "      <td>13</td>\n",
       "      <td>13</td>\n",
       "      <td>6</td>\n",
       "      <td>3</td>\n",
       "      <td>0</td>\n",
       "    </tr>\n",
       "    <tr>\n",
       "      <th>2013</th>\n",
       "      <td>3</td>\n",
       "      <td>0</td>\n",
       "      <td>22</td>\n",
       "      <td>8</td>\n",
       "      <td>17</td>\n",
       "      <td>9</td>\n",
       "      <td>0</td>\n",
       "      <td>5</td>\n",
       "      <td>0</td>\n",
       "    </tr>\n",
       "    <tr>\n",
       "      <th>2014</th>\n",
       "      <td>0</td>\n",
       "      <td>0</td>\n",
       "      <td>33</td>\n",
       "      <td>3</td>\n",
       "      <td>19</td>\n",
       "      <td>22</td>\n",
       "      <td>9</td>\n",
       "      <td>3</td>\n",
       "      <td>1</td>\n",
       "    </tr>\n",
       "    <tr>\n",
       "      <th>2015</th>\n",
       "      <td>1</td>\n",
       "      <td>1</td>\n",
       "      <td>56</td>\n",
       "      <td>5</td>\n",
       "      <td>48</td>\n",
       "      <td>27</td>\n",
       "      <td>10</td>\n",
       "      <td>10</td>\n",
       "      <td>0</td>\n",
       "    </tr>\n",
       "    <tr>\n",
       "      <th>2016</th>\n",
       "      <td>0</td>\n",
       "      <td>1</td>\n",
       "      <td>77</td>\n",
       "      <td>9</td>\n",
       "      <td>66</td>\n",
       "      <td>45</td>\n",
       "      <td>22</td>\n",
       "      <td>20</td>\n",
       "      <td>0</td>\n",
       "    </tr>\n",
       "    <tr>\n",
       "      <th>2017</th>\n",
       "      <td>0</td>\n",
       "      <td>0</td>\n",
       "      <td>69</td>\n",
       "      <td>6</td>\n",
       "      <td>117</td>\n",
       "      <td>32</td>\n",
       "      <td>18</td>\n",
       "      <td>26</td>\n",
       "      <td>0</td>\n",
       "    </tr>\n",
       "    <tr>\n",
       "      <th>2018</th>\n",
       "      <td>0</td>\n",
       "      <td>0</td>\n",
       "      <td>91</td>\n",
       "      <td>7</td>\n",
       "      <td>196</td>\n",
       "      <td>36</td>\n",
       "      <td>29</td>\n",
       "      <td>28</td>\n",
       "      <td>0</td>\n",
       "    </tr>\n",
       "    <tr>\n",
       "      <th>2019</th>\n",
       "      <td>0</td>\n",
       "      <td>0</td>\n",
       "      <td>96</td>\n",
       "      <td>9</td>\n",
       "      <td>228</td>\n",
       "      <td>37</td>\n",
       "      <td>22</td>\n",
       "      <td>22</td>\n",
       "      <td>0</td>\n",
       "    </tr>\n",
       "    <tr>\n",
       "      <th>2020</th>\n",
       "      <td>0</td>\n",
       "      <td>0</td>\n",
       "      <td>89</td>\n",
       "      <td>19</td>\n",
       "      <td>256</td>\n",
       "      <td>35</td>\n",
       "      <td>33</td>\n",
       "      <td>25</td>\n",
       "      <td>0</td>\n",
       "    </tr>\n",
       "  </tbody>\n",
       "</table>\n",
       "</div>"
      ],
      "text/plain": [
       "rating        NR  R  TV-14  TV-G  TV-MA  TV-PG  TV-Y  TV-Y7  TV-Y7-FV\n",
       "release_year                                                         \n",
       "2000           0  0      0     0      0      2     0      2         0\n",
       "2001           0  0      2     1      0      0     0      1         0\n",
       "2002           0  0      3     0      1      1     0      1         0\n",
       "2003           0  0      5     0      0      2     0      2         0\n",
       "2004           1  0      3     0      2      1     1      1         0\n",
       "2005           0  0      5     0      3      1     0      3         0\n",
       "2006           0  0      6     0      4      2     0      1         0\n",
       "2007           0  0      4     0      4      1     1      3         0\n",
       "2008           0  0     10     2      5      3     1      2         0\n",
       "2009           0  0     14     1     10      6     1      2         0\n",
       "2010           0  0     14     0      9     10     2      2         0\n",
       "2011           0  0     17     1      7      7     4      3         0\n",
       "2012           0  0     25     1     13     13     6      3         0\n",
       "2013           3  0     22     8     17      9     0      5         0\n",
       "2014           0  0     33     3     19     22     9      3         1\n",
       "2015           1  1     56     5     48     27    10     10         0\n",
       "2016           0  1     77     9     66     45    22     20         0\n",
       "2017           0  0     69     6    117     32    18     26         0\n",
       "2018           0  0     91     7    196     36    29     28         0\n",
       "2019           0  0     96     9    228     37    22     22         0\n",
       "2020           0  0     89    19    256     35    33     25         0"
      ]
     },
     "execution_count": 87,
     "metadata": {},
     "output_type": "execute_result"
    }
   ],
   "source": [
    "t_tv = pd.pivot_table(pivot_tv, index=['release_year'], columns=['rating']).fillna(0).astype('int32')[0]\n",
    "t_tv"
   ]
  },
  {
   "cell_type": "markdown",
   "metadata": {
    "jupyter": {},
    "tags": [],
    "slideshow": {
     "slide_type": "slide"
    },
    "id": "DD145785E1E94641BB3F5BF6A6D15B4B",
    "trusted": true
   },
   "source": [
    "**Movie Releasing Trend by Ratings**"
   ]
  },
  {
   "cell_type": "code",
   "execution_count": 93,
   "metadata": {
    "jupyter": {},
    "tags": [],
    "slideshow": {
     "slide_type": "slide"
    },
    "id": "350D940DCB454C7D9303F7036C57AA4F",
    "trusted": true
   },
   "outputs": [
    {
     "data": {
      "image/png": "[encoded data removed]",
      "text/plain": [
       "<Figure size 1120x320 with 1 Axes>"
      ]
     },
     "metadata": {
      "needs_background": "light"
     },
     "output_type": "display_data"
    }
   ],
   "source": [
    "fig,ax=plt.subplots(figsize=(14,4), dpi=80)\n",
    "ax.plot(t_tv.index, t_tv['TV-MA'], label='TV-MA')\n",
    "ax.plot(t_tv.index, t_tv['TV-14'], label='TV-14')\n",
    "ax.plot(t_tv.index, t_tv['TV-PG'], label='TV-PG')\n",
    "ax.plot(t_tv.index, t_tv['TV-Y7'], label='TV-Y7')\n",
    "ax.plot(t_tv.index, t_tv['TV-Y'], label='TV-Y')\n",
    "ax.plot(t_tv.index, t_tv['TV-G'], label='TV-G')\n",
    "ax.grid(alpha=0.3, ls='--')\n",
    "ax.set_xticks(np.arange(2000,2021,1))\n",
    "ax.legend(loc='upper left')\n",
    "ax.set_ylim(0,300)\n",
    "ax.set_title('Trends in the number of TV Show', y=1.02, fontsize=14)\n",
    "ax.set_xlabel('Rating')\n",
    "ax.set_ylabel('Number of TV Show')\n",
    "plt.show()"
   ]
  },
  {
   "cell_type": "markdown",
   "metadata": {
    "jupyter": {},
    "tags": [],
    "slideshow": {
     "slide_type": "slide"
    },
    "id": "24700931E7974C4781CD2C84245EC49E",
    "trusted": true
   },
   "source": [
    "Similar to movies, before 2015, the production of TV shows was relatively low. However, in 2015 and 2016, there was a significant increase in production.\n",
    "\n",
    "Starting from 2017, the production of TV-MA rated shows continued to increase. On the other hand, the production of TV-14 and TV-PG rated shows remained relatively stable.\n",
    "\n",
    "Both TV-MA and TV-14 rated shows are higher in number compared to shows with other ratings."
   ]
  },
  {
   "cell_type": "markdown",
   "metadata": {
    "jupyter": {},
    "tags": [],
    "slideshow": {
     "slide_type": "slide"
    },
    "id": "BDC88A1404BC4716802BDD99C323DB5C",
    "trusted": true
   },
   "source": [
    "<br>"
   ]
  },
  {
   "cell_type": "markdown",
   "metadata": {
    "jupyter": {},
    "tags": [],
    "slideshow": {
     "slide_type": "slide"
    },
    "id": "CCD626B99EF24993B6EA0E6523336544",
    "trusted": true
   },
   "source": [
    "## Analyze TV/MV released by Director"
   ]
  },
  {
   "cell_type": "code",
   "execution_count": 113,
   "metadata": {
    "jupyter": {},
    "tags": [],
    "slideshow": {
     "slide_type": "slide"
    },
    "id": "A57CCBE20C5142918706F5F2B1DC9244",
    "trusted": true
   },
   "outputs": [
    {
     "data": {
      "text/html": [
       "<div>\n",
       "<style scoped>\n",
       "    .dataframe tbody tr th:only-of-type {\n",
       "        vertical-align: middle;\n",
       "    }\n",
       "\n",
       "    .dataframe tbody tr th {\n",
       "        vertical-align: top;\n",
       "    }\n",
       "\n",
       "    .dataframe thead th {\n",
       "        text-align: right;\n",
       "    }\n",
       "</style>\n",
       "<table border=\"1\" class=\"dataframe\">\n",
       "  <thead>\n",
       "    <tr style=\"text-align: right;\">\n",
       "      <th></th>\n",
       "      <th>show_id</th>\n",
       "      <th>type</th>\n",
       "      <th>title</th>\n",
       "      <th>director</th>\n",
       "      <th>cast</th>\n",
       "      <th>country</th>\n",
       "      <th>date_added</th>\n",
       "      <th>release_year</th>\n",
       "      <th>rating</th>\n",
       "      <th>duration</th>\n",
       "      <th>categories</th>\n",
       "    </tr>\n",
       "  </thead>\n",
       "  <tbody>\n",
       "    <tr>\n",
       "      <th>0</th>\n",
       "      <td>s1</td>\n",
       "      <td>TV Show</td>\n",
       "      <td>3%</td>\n",
       "      <td>NaN</td>\n",
       "      <td>João Miguel, Bianca Comparato, Michel Gomes, R...</td>\n",
       "      <td>Brazil</td>\n",
       "      <td>August 14, 2020</td>\n",
       "      <td>2020</td>\n",
       "      <td>TV-MA</td>\n",
       "      <td>4 Seasons</td>\n",
       "      <td>International</td>\n",
       "    </tr>\n",
       "    <tr>\n",
       "      <th>1</th>\n",
       "      <td>s2</td>\n",
       "      <td>Movie</td>\n",
       "      <td>7:19</td>\n",
       "      <td>Jorge Michel Grau</td>\n",
       "      <td>Demián Bichir, Héctor Bonilla, Oscar Serrano, ...</td>\n",
       "      <td>Mexico</td>\n",
       "      <td>December 23, 2016</td>\n",
       "      <td>2016</td>\n",
       "      <td>TV-MA</td>\n",
       "      <td>93 min</td>\n",
       "      <td>Dramas</td>\n",
       "    </tr>\n",
       "    <tr>\n",
       "      <th>2</th>\n",
       "      <td>s3</td>\n",
       "      <td>Movie</td>\n",
       "      <td>23:59</td>\n",
       "      <td>Gilbert Chan</td>\n",
       "      <td>Tedd Chan, Stella Chung, Henley Hii, Lawrence ...</td>\n",
       "      <td>Singapore</td>\n",
       "      <td>December 20, 2018</td>\n",
       "      <td>2011</td>\n",
       "      <td>R</td>\n",
       "      <td>78 min</td>\n",
       "      <td>Horror</td>\n",
       "    </tr>\n",
       "    <tr>\n",
       "      <th>3</th>\n",
       "      <td>s4</td>\n",
       "      <td>Movie</td>\n",
       "      <td>9</td>\n",
       "      <td>Shane Acker</td>\n",
       "      <td>Elijah Wood, John C. Reilly, Jennifer Connelly...</td>\n",
       "      <td>United States</td>\n",
       "      <td>November 16, 2017</td>\n",
       "      <td>2009</td>\n",
       "      <td>PG-13</td>\n",
       "      <td>80 min</td>\n",
       "      <td>Action</td>\n",
       "    </tr>\n",
       "    <tr>\n",
       "      <th>4</th>\n",
       "      <td>s5</td>\n",
       "      <td>Movie</td>\n",
       "      <td>21</td>\n",
       "      <td>Robert Luketic</td>\n",
       "      <td>Jim Sturgess, Kevin Spacey, Kate Bosworth, Aar...</td>\n",
       "      <td>United States</td>\n",
       "      <td>January 1, 2020</td>\n",
       "      <td>2008</td>\n",
       "      <td>PG-13</td>\n",
       "      <td>123 min</td>\n",
       "      <td>Dramas</td>\n",
       "    </tr>\n",
       "  </tbody>\n",
       "</table>\n",
       "</div>"
      ],
      "text/plain": [
       "  show_id     type  title           director  \\\n",
       "0      s1  TV Show     3%                NaN   \n",
       "1      s2    Movie   7:19  Jorge Michel Grau   \n",
       "2      s3    Movie  23:59       Gilbert Chan   \n",
       "3      s4    Movie      9        Shane Acker   \n",
       "4      s5    Movie     21     Robert Luketic   \n",
       "\n",
       "                                                cast        country  \\\n",
       "0  João Miguel, Bianca Comparato, Michel Gomes, R...         Brazil   \n",
       "1  Demián Bichir, Héctor Bonilla, Oscar Serrano, ...         Mexico   \n",
       "2  Tedd Chan, Stella Chung, Henley Hii, Lawrence ...      Singapore   \n",
       "3  Elijah Wood, John C. Reilly, Jennifer Connelly...  United States   \n",
       "4  Jim Sturgess, Kevin Spacey, Kate Bosworth, Aar...  United States   \n",
       "\n",
       "          date_added  release_year rating   duration     categories  \n",
       "0    August 14, 2020          2020  TV-MA  4 Seasons  International  \n",
       "1  December 23, 2016          2016  TV-MA     93 min         Dramas  \n",
       "2  December 20, 2018          2011      R     78 min         Horror  \n",
       "3  November 16, 2017          2009  PG-13     80 min         Action  \n",
       "4    January 1, 2020          2008  PG-13    123 min         Dramas  "
      ]
     },
     "execution_count": 113,
     "metadata": {},
     "output_type": "execute_result"
    }
   ],
   "source": [
    "df.head()"
   ]
  },
  {
   "cell_type": "markdown",
   "metadata": {
    "jupyter": {},
    "tags": [],
    "slideshow": {
     "slide_type": "slide"
    },
    "id": "10F70BCE5F5F4BF48EDD498D9D2BD034",
    "trusted": true
   },
   "source": [
    "**check for null value in director column**"
   ]
  },
  {
   "cell_type": "code",
   "execution_count": 115,
   "metadata": {
    "jupyter": {},
    "tags": [],
    "slideshow": {
     "slide_type": "slide"
    },
    "id": "7D72763727494332867279A760598595",
    "trusted": true
   },
   "outputs": [
    {
     "data": {
      "text/plain": [
       "2318"
      ]
     },
     "execution_count": 115,
     "metadata": {},
     "output_type": "execute_result"
    }
   ],
   "source": [
    "df['director'].isnull().sum()"
   ]
  },
  {
   "cell_type": "code",
   "execution_count": 134,
   "metadata": {
    "jupyter": {},
    "tags": [],
    "slideshow": {
     "slide_type": "slide"
    },
    "id": "D044A8A87B2246ED9D224E72CBC371C1",
    "trusted": true
   },
   "outputs": [
    {
     "data": {
      "text/plain": [
       "2164"
      ]
     },
     "execution_count": 134,
     "metadata": {},
     "output_type": "execute_result"
    }
   ],
   "source": [
    "table_tv['director'].isnull().sum()"
   ]
  },
  {
   "cell_type": "markdown",
   "metadata": {
    "jupyter": {},
    "tags": [],
    "slideshow": {
     "slide_type": "slide"
    },
    "id": "668EF02EC57D47E79A9042A728D82283",
    "trusted": true
   },
   "source": [
   ]
  },
  {
   "cell_type": "code",
   "execution_count": 130,
   "metadata": {
    "jupyter": {},
    "tags": [],
    "slideshow": {
     "slide_type": "slide"
    },
    "id": "19B454979E5D45B59B49C80682EF08CB",
    "trusted": true
   },
   "outputs": [
    {
     "data": {
      "text/plain": [
       "154"
      ]
     },
     "execution_count": 130,
     "metadata": {},
     "output_type": "execute_result"
    }
   ],
   "source": [
    "table_mv['director'].isnull().sum()"
   ]
  },
  {
   "cell_type": "markdown",
   "metadata": {
    "jupyter": {},
    "tags": [],
    "slideshow": {
     "slide_type": "slide"
    },
    "id": "34E29BFE1A9146B69A1A03E9F890ABAD",
    "trusted": true
   },
   "source": [
    "We will do analysis on MV as most of the director info on TVs are missing"
   ]
  },
  {
   "cell_type": "markdown",
   "metadata": {
    "jupyter": {},
    "tags": [],
    "slideshow": {
     "slide_type": "slide"
    },
    "id": "B882865B460745FA9133B15CB088FBFD",
    "trusted": true
   },
   "source": [
    "<br>"
   ]
  },
  {
   "cell_type": "markdown",
   "metadata": {
    "jupyter": {},
    "tags": [],
    "slideshow": {
     "slide_type": "slide"
    },
    "id": "5BBB254EA9B54EE9B00EB303B19E56D1",
    "trusted": true
   },
   "source": [
    "**count number of directors**"
   ]
  },
  {
   "cell_type": "code",
   "execution_count": 138,
   "metadata": {
    "scrolled": false,
    "jupyter": {},
    "tags": [],
    "slideshow": {
     "slide_type": "slide"
    },
    "id": "F9FE38B7F3DE45D285514CCC4B53FB3B",
    "trusted": true
   },
   "outputs": [
    {
     "data": {
      "text/plain": [
       "3677"
      ]
     },
     "execution_count": 138,
     "metadata": {},
     "output_type": "execute_result"
    }
   ],
   "source": [
    "table_mv['director'].nunique()"
   ]
  },
  {
   "cell_type": "code",
   "execution_count": 152,
   "metadata": {
    "jupyter": {},
    "tags": [],
    "slideshow": {
     "slide_type": "slide"
    },
    "id": "BC1A923F8B814A2A8DA7910A507FE315",
    "trusted": true
   },
   "outputs": [
    {
     "data": {
      "text/plain": [
       "Raúl Campos, Jan Suter    18\n",
       "Marcus Raboy              15\n",
       "Jay Karas                 14\n",
       "Cathy Garcia-Molina       13\n",
       "Jay Chapman               12\n",
       "Robert Rodriguez           8\n",
       "Hakan Algül                8\n",
       "Kunle Afolayan             8\n",
       "Shannon Hartman            8\n",
       "Lance Bangs                8\n",
       "Name: director, dtype: int64"
      ]
     },
     "execution_count": 152,
     "metadata": {},
     "output_type": "execute_result"
    }
   ],
   "source": [
    "director = table_mv['director'].value_counts().head(10)\n",
    "director"
   ]
  },
  {
   "cell_type": "code",
   "execution_count": 153,
   "metadata": {
    "jupyter": {},
    "tags": [],
    "slideshow": {
     "slide_type": "slide"
    },
    "id": "A0961DEBE7F24BE089FFB36536C18D26",
    "trusted": true
   },
   "outputs": [
    {
     "data": {
      "text/html": [
       "<div>\n",
       "<style scoped>\n",
       "    .dataframe tbody tr th:only-of-type {\n",
       "        vertical-align: middle;\n",
       "    }\n",
       "\n",
       "    .dataframe tbody tr th {\n",
       "        vertical-align: top;\n",
       "    }\n",
       "\n",
       "    .dataframe thead th {\n",
       "        text-align: right;\n",
       "    }\n",
       "</style>\n",
       "<table border=\"1\" class=\"dataframe\">\n",
       "  <thead>\n",
       "    <tr style=\"text-align: right;\">\n",
       "      <th></th>\n",
       "      <th>directors</th>\n",
       "      <th>counts</th>\n",
       "    </tr>\n",
       "  </thead>\n",
       "  <tbody>\n",
       "    <tr>\n",
       "      <th>0</th>\n",
       "      <td>Raúl Campos, Jan Suter</td>\n",
       "      <td>18</td>\n",
       "    </tr>\n",
       "    <tr>\n",
       "      <th>1</th>\n",
       "      <td>Marcus Raboy</td>\n",
       "      <td>15</td>\n",
       "    </tr>\n",
       "    <tr>\n",
       "      <th>2</th>\n",
       "      <td>Jay Karas</td>\n",
       "      <td>14</td>\n",
       "    </tr>\n",
       "    <tr>\n",
       "      <th>3</th>\n",
       "      <td>Cathy Garcia-Molina</td>\n",
       "      <td>13</td>\n",
       "    </tr>\n",
       "    <tr>\n",
       "      <th>4</th>\n",
       "      <td>Jay Chapman</td>\n",
       "      <td>12</td>\n",
       "    </tr>\n",
       "    <tr>\n",
       "      <th>5</th>\n",
       "      <td>Robert Rodriguez</td>\n",
       "      <td>8</td>\n",
       "    </tr>\n",
       "    <tr>\n",
       "      <th>6</th>\n",
       "      <td>Hakan Algül</td>\n",
       "      <td>8</td>\n",
       "    </tr>\n",
       "    <tr>\n",
       "      <th>7</th>\n",
       "      <td>Kunle Afolayan</td>\n",
       "      <td>8</td>\n",
       "    </tr>\n",
       "    <tr>\n",
       "      <th>8</th>\n",
       "      <td>Shannon Hartman</td>\n",
       "      <td>8</td>\n",
       "    </tr>\n",
       "    <tr>\n",
       "      <th>9</th>\n",
       "      <td>Lance Bangs</td>\n",
       "      <td>8</td>\n",
       "    </tr>\n",
       "  </tbody>\n",
       "</table>\n",
       "</div>"
      ],
      "text/plain": [
       "                directors  counts\n",
       "0  Raúl Campos, Jan Suter      18\n",
       "1            Marcus Raboy      15\n",
       "2               Jay Karas      14\n",
       "3     Cathy Garcia-Molina      13\n",
       "4             Jay Chapman      12\n",
       "5        Robert Rodriguez       8\n",
       "6             Hakan Algül       8\n",
       "7          Kunle Afolayan       8\n",
       "8         Shannon Hartman       8\n",
       "9             Lance Bangs       8"
      ]
     },
     "execution_count": 153,
     "metadata": {},
     "output_type": "execute_result"
    }
   ],
   "source": [
    "pd.DataFrame({'directors':director.index, 'counts':director.values})"
   ]
  },
  {
   "cell_type": "markdown",
   "metadata": {
    "jupyter": {},
    "tags": [],
    "slideshow": {
     "slide_type": "slide"
    },
    "id": "AA7B0705C8F145388A6D3E7882A1F1B5",
    "trusted": true
   },
   "source": [
    "<br>"
   ]
  },
  {
   "cell_type": "markdown",
   "metadata": {
    "jupyter": {},
    "tags": [],
    "slideshow": {
     "slide_type": "slide"
    },
    "id": "C3EF28047E6040358ECCDB3D964502C7",
    "trusted": true
   },
   "source": [
    "## Analyze Film Duration"
   ]
  },
  {
   "cell_type": "markdown",
   "metadata": {
    "jupyter": {},
    "tags": [],
    "slideshow": {
     "slide_type": "slide"
    },
    "id": "0995AA265DB343089DAF614E653DC0E5",
    "trusted": true
   },
   "source": [
    "\n",
    "**cleanse any null data**"
   ]
  },
  {
   "cell_type": "code",
   "execution_count": 49,
   "metadata": {
    "jupyter": {},
    "tags": [],
    "slideshow": {
     "slide_type": "slide"
    },
    "id": "6AC61CA3E5C44B9C9577267BE03130A2",
    "trusted": true,
    "ExecuteTime": {
     "end_time": "2023-07-31T05:56:38.621672700Z",
     "start_time": "2023-07-31T05:56:38.598941100Z"
    }
   },
   "outputs": [
    {
     "data": {
      "text/plain": "   index show_id   type  title           director  \\\n0      1      s2  Movie   7:19  Jorge Michel Grau   \n1      2      s3  Movie  23:59       Gilbert Chan   \n2      3      s4  Movie      9        Shane Acker   \n3      4      s5  Movie     21     Robert Luketic   \n4      6      s7  Movie    122    Yasir Al Yasiri   \n\n                                                cast        country  \\\n0  Demián Bichir, Héctor Bonilla, Oscar Serrano, ...         Mexico   \n1  Tedd Chan, Stella Chung, Henley Hii, Lawrence ...      Singapore   \n2  Elijah Wood, John C. Reilly, Jennifer Connelly...  United States   \n3  Jim Sturgess, Kevin Spacey, Kate Bosworth, Aar...  United States   \n4  Amina Khalil, Ahmed Dawood, Tarek Lotfy, Ahmed...          Egypt   \n\n          date_added  release_year rating duration categories  \n0  December 23, 2016          2016  TV-MA   93 min     Dramas  \n1  December 20, 2018          2011      R   78 min     Horror  \n2  November 16, 2017          2009  PG-13   80 min     Action  \n3    January 1, 2020          2008  PG-13  123 min     Dramas  \n4       June 1, 2020          2019  TV-MA   95 min     Horror  ",
      "text/html": "<div>\n<style scoped>\n    .dataframe tbody tr th:only-of-type {\n        vertical-align: middle;\n    }\n\n    .dataframe tbody tr th {\n        vertical-align: top;\n    }\n\n    .dataframe thead th {\n        text-align: right;\n    }\n</style>\n<table border=\"1\" class=\"dataframe\">\n  <thead>\n    <tr style=\"text-align: right;\">\n      <th></th>\n      <th>index</th>\n      <th>show_id</th>\n      <th>type</th>\n      <th>title</th>\n      <th>director</th>\n      <th>cast</th>\n      <th>country</th>\n      <th>date_added</th>\n      <th>release_year</th>\n      <th>rating</th>\n      <th>duration</th>\n      <th>categories</th>\n    </tr>\n  </thead>\n  <tbody>\n    <tr>\n      <th>0</th>\n      <td>1</td>\n      <td>s2</td>\n      <td>Movie</td>\n      <td>7:19</td>\n      <td>Jorge Michel Grau</td>\n      <td>Demián Bichir, Héctor Bonilla, Oscar Serrano, ...</td>\n      <td>Mexico</td>\n      <td>December 23, 2016</td>\n      <td>2016</td>\n      <td>TV-MA</td>\n      <td>93 min</td>\n      <td>Dramas</td>\n    </tr>\n    <tr>\n      <th>1</th>\n      <td>2</td>\n      <td>s3</td>\n      <td>Movie</td>\n      <td>23:59</td>\n      <td>Gilbert Chan</td>\n      <td>Tedd Chan, Stella Chung, Henley Hii, Lawrence ...</td>\n      <td>Singapore</td>\n      <td>December 20, 2018</td>\n      <td>2011</td>\n      <td>R</td>\n      <td>78 min</td>\n      <td>Horror</td>\n    </tr>\n    <tr>\n      <th>2</th>\n      <td>3</td>\n      <td>s4</td>\n      <td>Movie</td>\n      <td>9</td>\n      <td>Shane Acker</td>\n      <td>Elijah Wood, John C. Reilly, Jennifer Connelly...</td>\n      <td>United States</td>\n      <td>November 16, 2017</td>\n      <td>2009</td>\n      <td>PG-13</td>\n      <td>80 min</td>\n      <td>Action</td>\n    </tr>\n    <tr>\n      <th>3</th>\n      <td>4</td>\n      <td>s5</td>\n      <td>Movie</td>\n      <td>21</td>\n      <td>Robert Luketic</td>\n      <td>Jim Sturgess, Kevin Spacey, Kate Bosworth, Aar...</td>\n      <td>United States</td>\n      <td>January 1, 2020</td>\n      <td>2008</td>\n      <td>PG-13</td>\n      <td>123 min</td>\n      <td>Dramas</td>\n    </tr>\n    <tr>\n      <th>4</th>\n      <td>6</td>\n      <td>s7</td>\n      <td>Movie</td>\n      <td>122</td>\n      <td>Yasir Al Yasiri</td>\n      <td>Amina Khalil, Ahmed Dawood, Tarek Lotfy, Ahmed...</td>\n      <td>Egypt</td>\n      <td>June 1, 2020</td>\n      <td>2019</td>\n      <td>TV-MA</td>\n      <td>95 min</td>\n      <td>Horror</td>\n    </tr>\n  </tbody>\n</table>\n</div>"
     },
     "execution_count": 49,
     "metadata": {},
     "output_type": "execute_result"
    }
   ],
   "source": [
    "data = table_mv.loc[table_mv['director'].notnull()].reset_index()\n",
    "data.head()"
   ]
  },
  {
   "cell_type": "code",
   "execution_count": 50,
   "metadata": {
    "jupyter": {},
    "tags": [],
    "slideshow": {
     "slide_type": "slide"
    },
    "id": "2057D80A9DE046BF8E36A83C08AAD892",
    "trusted": true,
    "ExecuteTime": {
     "end_time": "2023-07-31T05:56:40.705763100Z",
     "start_time": "2023-07-31T05:56:40.688247500Z"
    }
   },
   "outputs": [
    {
     "data": {
      "text/plain": "(5214, 12)"
     },
     "execution_count": 50,
     "metadata": {},
     "output_type": "execute_result"
    }
   ],
   "source": [
    "data.shape"
   ]
  },
  {
   "cell_type": "markdown",
   "metadata": {
    "jupyter": {},
    "tags": [],
    "slideshow": {
     "slide_type": "slide"
    },
    "id": "2E1075AB0887486BAAB30CFE6FF8E53A",
    "trusted": true
   },
   "source": [
    "**convert the duration column to 32int**"
   ]
  },
  {
   "cell_type": "code",
   "execution_count": 48,
   "metadata": {
    "jupyter": {},
    "tags": [],
    "slideshow": {
     "slide_type": "slide"
    },
    "id": "3A7D72B4AC41431D96B0D0AEDD23D4DC",
    "trusted": true,
    "ExecuteTime": {
     "end_time": "2023-07-31T05:56:17.686369200Z",
     "start_time": "2023-07-31T05:56:17.664984Z"
    }
   },
   "outputs": [],
   "source": [
    "data = data.convert_dtypes()"
   ]
  },
  {
   "cell_type": "code",
   "execution_count": 209,
   "metadata": {
    "jupyter": {},
    "tags": [],
    "slideshow": {
     "slide_type": "slide"
    },
    "id": "F3D0134E57884E1F98E75D09E613C1B6",
    "trusted": true
   },
   "outputs": [],
   "source": [
    "l = []\n",
    "for x in (np.arange(0,4809)):\n",
    "    l.append(data['duration'][x].replace(' min',''))"
   ]
  },
  {
   "cell_type": "code",
   "execution_count": 211,
   "metadata": {
    "jupyter": {},
    "tags": [],
    "slideshow": {
     "slide_type": "slide"
    },
    "id": "D8AAFCDACC5047EE8F34E2B4ED8F0E79",
    "trusted": true
   },
   "outputs": [],
   "source": [
    "data['duration'] = l"
   ]
  },
  {
   "cell_type": "code",
   "execution_count": 217,
   "metadata": {
    "jupyter": {},
    "tags": [],
    "slideshow": {
     "slide_type": "slide"
    },
    "id": "BF47A2E52B4F43DDB9DBD5E8BE97C53A",
    "trusted": true
   },
   "outputs": [],
   "source": [
    "data['duration'] = data['duration'].astype('int32')"
   ]
  },
  {
   "cell_type": "markdown",
   "metadata": {
    "jupyter": {},
    "tags": [],
    "slideshow": {
     "slide_type": "slide"
    },
    "id": "055F50D33CB54BF1A62A1DD507AA2EC6",
    "trusted": true
   },
   "source": [
    "**Distribution of Movie Duration**"
   ]
  },
  {
   "cell_type": "code",
   "execution_count": 253,
   "metadata": {
    "jupyter": {},
    "tags": [],
    "slideshow": {
     "slide_type": "slide"
    },
    "id": "E5A23CB08E2B49508A945651668A7B12",
    "trusted": true
   },
   "outputs": [
    {
     "data": {
      "image/png": "[encoded data removed]",
      "text/plain": [
       "<Figure size 1120x320 with 1 Axes>"
      ]
     },
     "metadata": {
      "needs_background": "light"
     },
     "output_type": "display_data"
    }
   ],
   "source": [
    "fig,ax=plt.subplots(figsize=(14,4), dpi=80)\n",
    "ax.hist(data['duration'], bins=50, density=True, color='royalblue', label='hist')\n",
    "sns.kdeplot(data['duration'], color='coral', ls='--', label='kde')\n",
    "plt.show()"
   ]
  },
  {
   "cell_type": "markdown",
   "metadata": {
    "jupyter": {},
    "tags": [],
    "slideshow": {
     "slide_type": "slide"
    },
    "id": "64EE7F0921DE4BFB86DE1D976A04CF27",
    "trusted": true
   },
   "source": [
    "<br>"
   ]
  },
  {
   "cell_type": "markdown",
   "metadata": {
    "jupyter": {},
    "tags": [],
    "slideshow": {
     "slide_type": "slide"
    },
    "id": "5A678EBBF459470EA0CC7CC8EAE9C669",
    "trusted": true
   },
   "source": [
    "## Categoreies Analysis"
   ]
  },
  {
   "cell_type": "markdown",
   "metadata": {
    "jupyter": {},
    "tags": [],
    "slideshow": {
     "slide_type": "slide"
    },
    "id": "9979AF03F9874DA784516D9BE835EA68",
    "trusted": true
   },
   "source": [
    "**counts per category**"
   ]
  },
  {
   "cell_type": "code",
   "execution_count": 260,
   "metadata": {
    "jupyter": {},
    "tags": [],
    "slideshow": {
     "slide_type": "slide"
    },
    "id": "9CF607CB49EC4224B18CAB7D6631048F",
    "trusted": true
   },
   "outputs": [
    {
     "data": {
      "text/html": [
       "<div>\n",
       "<style scoped>\n",
       "    .dataframe tbody tr th:only-of-type {\n",
       "        vertical-align: middle;\n",
       "    }\n",
       "\n",
       "    .dataframe tbody tr th {\n",
       "        vertical-align: top;\n",
       "    }\n",
       "\n",
       "    .dataframe thead th {\n",
       "        text-align: right;\n",
       "    }\n",
       "</style>\n",
       "<table border=\"1\" class=\"dataframe\">\n",
       "  <thead>\n",
       "    <tr style=\"text-align: right;\">\n",
       "      <th></th>\n",
       "      <th>Categories</th>\n",
       "      <th>Counts</th>\n",
       "    </tr>\n",
       "  </thead>\n",
       "  <tbody>\n",
       "    <tr>\n",
       "      <th>0</th>\n",
       "      <td>International</td>\n",
       "      <td>686</td>\n",
       "    </tr>\n",
       "    <tr>\n",
       "      <th>1</th>\n",
       "      <td>Crime</td>\n",
       "      <td>366</td>\n",
       "    </tr>\n",
       "    <tr>\n",
       "      <th>2</th>\n",
       "      <td>Kids</td>\n",
       "      <td>343</td>\n",
       "    </tr>\n",
       "    <tr>\n",
       "      <th>3</th>\n",
       "      <td>British</td>\n",
       "      <td>227</td>\n",
       "    </tr>\n",
       "    <tr>\n",
       "      <th>4</th>\n",
       "      <td>TV</td>\n",
       "      <td>219</td>\n",
       "    </tr>\n",
       "    <tr>\n",
       "      <th>5</th>\n",
       "      <td>Docuseries</td>\n",
       "      <td>187</td>\n",
       "    </tr>\n",
       "    <tr>\n",
       "      <th>6</th>\n",
       "      <td>Anime</td>\n",
       "      <td>141</td>\n",
       "    </tr>\n",
       "    <tr>\n",
       "      <th>7</th>\n",
       "      <td>Reality</td>\n",
       "      <td>99</td>\n",
       "    </tr>\n",
       "    <tr>\n",
       "      <th>8</th>\n",
       "      <td>Stand-Up</td>\n",
       "      <td>32</td>\n",
       "    </tr>\n",
       "    <tr>\n",
       "      <th>9</th>\n",
       "      <td>Romantic</td>\n",
       "      <td>28</td>\n",
       "    </tr>\n",
       "    <tr>\n",
       "      <th>10</th>\n",
       "      <td>Classic</td>\n",
       "      <td>14</td>\n",
       "    </tr>\n",
       "    <tr>\n",
       "      <th>11</th>\n",
       "      <td>Spanish-Language</td>\n",
       "      <td>2</td>\n",
       "    </tr>\n",
       "  </tbody>\n",
       "</table>\n",
       "</div>"
      ],
      "text/plain": [
       "          Categories  Counts\n",
       "0      International     686\n",
       "1              Crime     366\n",
       "2               Kids     343\n",
       "3            British     227\n",
       "4                 TV     219\n",
       "5         Docuseries     187\n",
       "6              Anime     141\n",
       "7            Reality      99\n",
       "8           Stand-Up      32\n",
       "9           Romantic      28\n",
       "10           Classic      14\n",
       "11  Spanish-Language       2"
      ]
     },
     "execution_count": 260,
     "metadata": {},
     "output_type": "execute_result"
    }
   ],
   "source": [
    "tv_count = table_tv['categories'].value_counts()\n",
    "tv_count = pd.DataFrame({'Categories':tv_count.index, 'Counts':tv_count.values})\n",
    "tv_count"
   ]
  },
  {
   "cell_type": "markdown",
   "metadata": {
    "jupyter": {},
    "tags": [],
    "slideshow": {
     "slide_type": "slide"
    },
    "id": "9A9CDF8B582E41A78829972E58232362",
    "trusted": true
   },
   "source": [
    "**making pivot tables**"
   ]
  },
  {
   "cell_type": "code",
   "execution_count": 273,
   "metadata": {
    "jupyter": {},
    "tags": [],
    "slideshow": {
     "slide_type": "slide"
    },
    "id": "F3EBBADB43B543E3885CC3D0B701C2FC",
    "trusted": true
   },
   "outputs": [
    {
     "data": {
      "text/plain": [
       "categories  release_year\n",
       "Anime       2000             1\n",
       "            2001             1\n",
       "            2002             1\n",
       "            2003             1\n",
       "            2005             1\n",
       "                            ..\n",
       "TV          2016            10\n",
       "            2017            28\n",
       "            2018            27\n",
       "            2019            62\n",
       "            2020            54\n",
       "Length: 164, dtype: int64"
      ]
     },
     "execution_count": 273,
     "metadata": {},
     "output_type": "execute_result"
    }
   ],
   "source": [
    "m = table_tv.groupby(['categories', 'release_year']).size()\n",
    "m"
   ]
  },
  {
   "cell_type": "code",
   "execution_count": 276,
   "metadata": {
    "jupyter": {},
    "tags": [],
    "slideshow": {
     "slide_type": "slide"
    },
    "id": "D2EB67AAD54748B981211F81E54C9BFB",
    "trusted": true
   },
   "outputs": [
    {
     "data": {
      "text/html": [
       "<div>\n",
       "<style scoped>\n",
       "    .dataframe tbody tr th:only-of-type {\n",
       "        vertical-align: middle;\n",
       "    }\n",
       "\n",
       "    .dataframe tbody tr th {\n",
       "        vertical-align: top;\n",
       "    }\n",
       "\n",
       "    .dataframe thead th {\n",
       "        text-align: right;\n",
       "    }\n",
       "</style>\n",
       "<table border=\"1\" class=\"dataframe\">\n",
       "  <thead>\n",
       "    <tr style=\"text-align: right;\">\n",
       "      <th></th>\n",
       "      <th></th>\n",
       "      <th>count</th>\n",
       "    </tr>\n",
       "    <tr>\n",
       "      <th>categories</th>\n",
       "      <th>release_year</th>\n",
       "      <th></th>\n",
       "    </tr>\n",
       "  </thead>\n",
       "  <tbody>\n",
       "    <tr>\n",
       "      <th rowspan=\"5\" valign=\"top\">Anime</th>\n",
       "      <th>2000</th>\n",
       "      <td>1</td>\n",
       "    </tr>\n",
       "    <tr>\n",
       "      <th>2001</th>\n",
       "      <td>1</td>\n",
       "    </tr>\n",
       "    <tr>\n",
       "      <th>2002</th>\n",
       "      <td>1</td>\n",
       "    </tr>\n",
       "    <tr>\n",
       "      <th>2003</th>\n",
       "      <td>1</td>\n",
       "    </tr>\n",
       "    <tr>\n",
       "      <th>2005</th>\n",
       "      <td>1</td>\n",
       "    </tr>\n",
       "    <tr>\n",
       "      <th>...</th>\n",
       "      <th>...</th>\n",
       "      <td>...</td>\n",
       "    </tr>\n",
       "    <tr>\n",
       "      <th rowspan=\"5\" valign=\"top\">TV</th>\n",
       "      <th>2016</th>\n",
       "      <td>10</td>\n",
       "    </tr>\n",
       "    <tr>\n",
       "      <th>2017</th>\n",
       "      <td>28</td>\n",
       "    </tr>\n",
       "    <tr>\n",
       "      <th>2018</th>\n",
       "      <td>27</td>\n",
       "    </tr>\n",
       "    <tr>\n",
       "      <th>2019</th>\n",
       "      <td>62</td>\n",
       "    </tr>\n",
       "    <tr>\n",
       "      <th>2020</th>\n",
       "      <td>54</td>\n",
       "    </tr>\n",
       "  </tbody>\n",
       "</table>\n",
       "<p>164 rows × 1 columns</p>\n",
       "</div>"
      ],
      "text/plain": [
       "                         count\n",
       "categories release_year       \n",
       "Anime      2000              1\n",
       "           2001              1\n",
       "           2002              1\n",
       "           2003              1\n",
       "           2005              1\n",
       "...                        ...\n",
       "TV         2016             10\n",
       "           2017             28\n",
       "           2018             27\n",
       "           2019             62\n",
       "           2020             54\n",
       "\n",
       "[164 rows x 1 columns]"
      ]
     },
     "execution_count": 276,
     "metadata": {},
     "output_type": "execute_result"
    }
   ],
   "source": [
    "m = pd.DataFrame(m).rename(columns={0:'count'})\n",
    "m"
   ]
  },
  {
   "cell_type": "code",
   "execution_count": 281,
   "metadata": {
    "jupyter": {},
    "tags": [],
    "slideshow": {
     "slide_type": "slide"
    },
    "id": "EF1ECD12128F4D4B8EEEAE3B7D52CF2D",
    "trusted": true
   },
   "outputs": [
    {
     "data": {
      "text/html": [
       "<div>\n",
       "<style scoped>\n",
       "    .dataframe tbody tr th:only-of-type {\n",
       "        vertical-align: middle;\n",
       "    }\n",
       "\n",
       "    .dataframe tbody tr th {\n",
       "        vertical-align: top;\n",
       "    }\n",
       "\n",
       "    .dataframe thead th {\n",
       "        text-align: right;\n",
       "    }\n",
       "</style>\n",
       "<table border=\"1\" class=\"dataframe\">\n",
       "  <thead>\n",
       "    <tr style=\"text-align: right;\">\n",
       "      <th>categories</th>\n",
       "      <th>Anime</th>\n",
       "      <th>British</th>\n",
       "      <th>Classic</th>\n",
       "      <th>Crime</th>\n",
       "      <th>Docuseries</th>\n",
       "      <th>International</th>\n",
       "      <th>Kids</th>\n",
       "      <th>Reality</th>\n",
       "      <th>Romantic</th>\n",
       "      <th>Spanish-Language</th>\n",
       "      <th>Stand-Up</th>\n",
       "      <th>TV</th>\n",
       "    </tr>\n",
       "    <tr>\n",
       "      <th>release_year</th>\n",
       "      <th></th>\n",
       "      <th></th>\n",
       "      <th></th>\n",
       "      <th></th>\n",
       "      <th></th>\n",
       "      <th></th>\n",
       "      <th></th>\n",
       "      <th></th>\n",
       "      <th></th>\n",
       "      <th></th>\n",
       "      <th></th>\n",
       "      <th></th>\n",
       "    </tr>\n",
       "  </thead>\n",
       "  <tbody>\n",
       "    <tr>\n",
       "      <th>2000</th>\n",
       "      <td>1</td>\n",
       "      <td>0</td>\n",
       "      <td>0</td>\n",
       "      <td>0</td>\n",
       "      <td>0</td>\n",
       "      <td>0</td>\n",
       "      <td>1</td>\n",
       "      <td>0</td>\n",
       "      <td>0</td>\n",
       "      <td>0</td>\n",
       "      <td>0</td>\n",
       "      <td>2</td>\n",
       "    </tr>\n",
       "    <tr>\n",
       "      <th>2001</th>\n",
       "      <td>1</td>\n",
       "      <td>2</td>\n",
       "      <td>0</td>\n",
       "      <td>0</td>\n",
       "      <td>0</td>\n",
       "      <td>0</td>\n",
       "      <td>1</td>\n",
       "      <td>0</td>\n",
       "      <td>0</td>\n",
       "      <td>0</td>\n",
       "      <td>0</td>\n",
       "      <td>0</td>\n",
       "    </tr>\n",
       "    <tr>\n",
       "      <th>2002</th>\n",
       "      <td>1</td>\n",
       "      <td>0</td>\n",
       "      <td>0</td>\n",
       "      <td>0</td>\n",
       "      <td>0</td>\n",
       "      <td>3</td>\n",
       "      <td>1</td>\n",
       "      <td>0</td>\n",
       "      <td>1</td>\n",
       "      <td>0</td>\n",
       "      <td>0</td>\n",
       "      <td>0</td>\n",
       "    </tr>\n",
       "    <tr>\n",
       "      <th>2003</th>\n",
       "      <td>1</td>\n",
       "      <td>0</td>\n",
       "      <td>2</td>\n",
       "      <td>0</td>\n",
       "      <td>0</td>\n",
       "      <td>4</td>\n",
       "      <td>1</td>\n",
       "      <td>0</td>\n",
       "      <td>0</td>\n",
       "      <td>0</td>\n",
       "      <td>0</td>\n",
       "      <td>1</td>\n",
       "    </tr>\n",
       "    <tr>\n",
       "      <th>2004</th>\n",
       "      <td>0</td>\n",
       "      <td>1</td>\n",
       "      <td>1</td>\n",
       "      <td>1</td>\n",
       "      <td>0</td>\n",
       "      <td>4</td>\n",
       "      <td>2</td>\n",
       "      <td>0</td>\n",
       "      <td>0</td>\n",
       "      <td>0</td>\n",
       "      <td>0</td>\n",
       "      <td>0</td>\n",
       "    </tr>\n",
       "    <tr>\n",
       "      <th>2005</th>\n",
       "      <td>1</td>\n",
       "      <td>2</td>\n",
       "      <td>0</td>\n",
       "      <td>0</td>\n",
       "      <td>0</td>\n",
       "      <td>3</td>\n",
       "      <td>3</td>\n",
       "      <td>0</td>\n",
       "      <td>0</td>\n",
       "      <td>0</td>\n",
       "      <td>0</td>\n",
       "      <td>3</td>\n",
       "    </tr>\n",
       "    <tr>\n",
       "      <th>2006</th>\n",
       "      <td>3</td>\n",
       "      <td>3</td>\n",
       "      <td>1</td>\n",
       "      <td>0</td>\n",
       "      <td>0</td>\n",
       "      <td>1</td>\n",
       "      <td>1</td>\n",
       "      <td>1</td>\n",
       "      <td>1</td>\n",
       "      <td>0</td>\n",
       "      <td>0</td>\n",
       "      <td>2</td>\n",
       "    </tr>\n",
       "    <tr>\n",
       "      <th>2007</th>\n",
       "      <td>1</td>\n",
       "      <td>0</td>\n",
       "      <td>1</td>\n",
       "      <td>1</td>\n",
       "      <td>2</td>\n",
       "      <td>1</td>\n",
       "      <td>3</td>\n",
       "      <td>0</td>\n",
       "      <td>0</td>\n",
       "      <td>0</td>\n",
       "      <td>1</td>\n",
       "      <td>3</td>\n",
       "    </tr>\n",
       "    <tr>\n",
       "      <th>2008</th>\n",
       "      <td>7</td>\n",
       "      <td>2</td>\n",
       "      <td>1</td>\n",
       "      <td>3</td>\n",
       "      <td>0</td>\n",
       "      <td>5</td>\n",
       "      <td>4</td>\n",
       "      <td>0</td>\n",
       "      <td>1</td>\n",
       "      <td>0</td>\n",
       "      <td>0</td>\n",
       "      <td>0</td>\n",
       "    </tr>\n",
       "    <tr>\n",
       "      <th>2009</th>\n",
       "      <td>3</td>\n",
       "      <td>5</td>\n",
       "      <td>0</td>\n",
       "      <td>1</td>\n",
       "      <td>4</td>\n",
       "      <td>15</td>\n",
       "      <td>4</td>\n",
       "      <td>1</td>\n",
       "      <td>1</td>\n",
       "      <td>0</td>\n",
       "      <td>0</td>\n",
       "      <td>0</td>\n",
       "    </tr>\n",
       "    <tr>\n",
       "      <th>2010</th>\n",
       "      <td>5</td>\n",
       "      <td>2</td>\n",
       "      <td>1</td>\n",
       "      <td>5</td>\n",
       "      <td>2</td>\n",
       "      <td>13</td>\n",
       "      <td>5</td>\n",
       "      <td>2</td>\n",
       "      <td>1</td>\n",
       "      <td>0</td>\n",
       "      <td>0</td>\n",
       "      <td>1</td>\n",
       "    </tr>\n",
       "    <tr>\n",
       "      <th>2011</th>\n",
       "      <td>5</td>\n",
       "      <td>6</td>\n",
       "      <td>0</td>\n",
       "      <td>3</td>\n",
       "      <td>0</td>\n",
       "      <td>13</td>\n",
       "      <td>10</td>\n",
       "      <td>2</td>\n",
       "      <td>0</td>\n",
       "      <td>0</td>\n",
       "      <td>0</td>\n",
       "      <td>0</td>\n",
       "    </tr>\n",
       "    <tr>\n",
       "      <th>2012</th>\n",
       "      <td>4</td>\n",
       "      <td>9</td>\n",
       "      <td>0</td>\n",
       "      <td>3</td>\n",
       "      <td>1</td>\n",
       "      <td>27</td>\n",
       "      <td>10</td>\n",
       "      <td>3</td>\n",
       "      <td>0</td>\n",
       "      <td>0</td>\n",
       "      <td>0</td>\n",
       "      <td>4</td>\n",
       "    </tr>\n",
       "    <tr>\n",
       "      <th>2013</th>\n",
       "      <td>6</td>\n",
       "      <td>10</td>\n",
       "      <td>0</td>\n",
       "      <td>8</td>\n",
       "      <td>2</td>\n",
       "      <td>24</td>\n",
       "      <td>8</td>\n",
       "      <td>4</td>\n",
       "      <td>0</td>\n",
       "      <td>0</td>\n",
       "      <td>0</td>\n",
       "      <td>3</td>\n",
       "    </tr>\n",
       "    <tr>\n",
       "      <th>2014</th>\n",
       "      <td>11</td>\n",
       "      <td>7</td>\n",
       "      <td>0</td>\n",
       "      <td>9</td>\n",
       "      <td>9</td>\n",
       "      <td>27</td>\n",
       "      <td>16</td>\n",
       "      <td>7</td>\n",
       "      <td>1</td>\n",
       "      <td>0</td>\n",
       "      <td>0</td>\n",
       "      <td>3</td>\n",
       "    </tr>\n",
       "    <tr>\n",
       "      <th>2015</th>\n",
       "      <td>10</td>\n",
       "      <td>21</td>\n",
       "      <td>1</td>\n",
       "      <td>18</td>\n",
       "      <td>6</td>\n",
       "      <td>64</td>\n",
       "      <td>19</td>\n",
       "      <td>3</td>\n",
       "      <td>0</td>\n",
       "      <td>0</td>\n",
       "      <td>1</td>\n",
       "      <td>16</td>\n",
       "    </tr>\n",
       "    <tr>\n",
       "      <th>2016</th>\n",
       "      <td>9</td>\n",
       "      <td>30</td>\n",
       "      <td>1</td>\n",
       "      <td>30</td>\n",
       "      <td>18</td>\n",
       "      <td>87</td>\n",
       "      <td>39</td>\n",
       "      <td>10</td>\n",
       "      <td>4</td>\n",
       "      <td>1</td>\n",
       "      <td>1</td>\n",
       "      <td>10</td>\n",
       "    </tr>\n",
       "    <tr>\n",
       "      <th>2017</th>\n",
       "      <td>10</td>\n",
       "      <td>34</td>\n",
       "      <td>1</td>\n",
       "      <td>46</td>\n",
       "      <td>20</td>\n",
       "      <td>73</td>\n",
       "      <td>45</td>\n",
       "      <td>3</td>\n",
       "      <td>1</td>\n",
       "      <td>1</td>\n",
       "      <td>6</td>\n",
       "      <td>28</td>\n",
       "    </tr>\n",
       "    <tr>\n",
       "      <th>2018</th>\n",
       "      <td>24</td>\n",
       "      <td>37</td>\n",
       "      <td>2</td>\n",
       "      <td>75</td>\n",
       "      <td>43</td>\n",
       "      <td>94</td>\n",
       "      <td>55</td>\n",
       "      <td>13</td>\n",
       "      <td>4</td>\n",
       "      <td>0</td>\n",
       "      <td>13</td>\n",
       "      <td>27</td>\n",
       "    </tr>\n",
       "    <tr>\n",
       "      <th>2019</th>\n",
       "      <td>19</td>\n",
       "      <td>21</td>\n",
       "      <td>1</td>\n",
       "      <td>87</td>\n",
       "      <td>31</td>\n",
       "      <td>111</td>\n",
       "      <td>50</td>\n",
       "      <td>22</td>\n",
       "      <td>5</td>\n",
       "      <td>0</td>\n",
       "      <td>5</td>\n",
       "      <td>62</td>\n",
       "    </tr>\n",
       "    <tr>\n",
       "      <th>2020</th>\n",
       "      <td>19</td>\n",
       "      <td>35</td>\n",
       "      <td>1</td>\n",
       "      <td>76</td>\n",
       "      <td>49</td>\n",
       "      <td>117</td>\n",
       "      <td>65</td>\n",
       "      <td>28</td>\n",
       "      <td>8</td>\n",
       "      <td>0</td>\n",
       "      <td>5</td>\n",
       "      <td>54</td>\n",
       "    </tr>\n",
       "  </tbody>\n",
       "</table>\n",
       "</div>"
      ],
      "text/plain": [
       "categories    Anime  British  Classic  Crime  Docuseries  International  Kids  \\\n",
       "release_year                                                                    \n",
       "2000              1        0        0      0           0              0     1   \n",
       "2001              1        2        0      0           0              0     1   \n",
       "2002              1        0        0      0           0              3     1   \n",
       "2003              1        0        2      0           0              4     1   \n",
       "2004              0        1        1      1           0              4     2   \n",
       "2005              1        2        0      0           0              3     3   \n",
       "2006              3        3        1      0           0              1     1   \n",
       "2007              1        0        1      1           2              1     3   \n",
       "2008              7        2        1      3           0              5     4   \n",
       "2009              3        5        0      1           4             15     4   \n",
       "2010              5        2        1      5           2             13     5   \n",
       "2011              5        6        0      3           0             13    10   \n",
       "2012              4        9        0      3           1             27    10   \n",
       "2013              6       10        0      8           2             24     8   \n",
       "2014             11        7        0      9           9             27    16   \n",
       "2015             10       21        1     18           6             64    19   \n",
       "2016              9       30        1     30          18             87    39   \n",
       "2017             10       34        1     46          20             73    45   \n",
       "2018             24       37        2     75          43             94    55   \n",
       "2019             19       21        1     87          31            111    50   \n",
       "2020             19       35        1     76          49            117    65   \n",
       "\n",
       "categories    Reality  Romantic  Spanish-Language  Stand-Up  TV  \n",
       "release_year                                                     \n",
       "2000                0         0                 0         0   2  \n",
       "2001                0         0                 0         0   0  \n",
       "2002                0         1                 0         0   0  \n",
       "2003                0         0                 0         0   1  \n",
       "2004                0         0                 0         0   0  \n",
       "2005                0         0                 0         0   3  \n",
       "2006                1         1                 0         0   2  \n",
       "2007                0         0                 0         1   3  \n",
       "2008                0         1                 0         0   0  \n",
       "2009                1         1                 0         0   0  \n",
       "2010                2         1                 0         0   1  \n",
       "2011                2         0                 0         0   0  \n",
       "2012                3         0                 0         0   4  \n",
       "2013                4         0                 0         0   3  \n",
       "2014                7         1                 0         0   3  \n",
       "2015                3         0                 0         1  16  \n",
       "2016               10         4                 1         1  10  \n",
       "2017                3         1                 1         6  28  \n",
       "2018               13         4                 0        13  27  \n",
       "2019               22         5                 0         5  62  \n",
       "2020               28         8                 0         5  54  "
      ]
     },
     "execution_count": 281,
     "metadata": {},
     "output_type": "execute_result"
    }
   ],
   "source": [
    "m = pd.pivot_table(m, index=['release_year'], columns=['categories']).fillna(0)['count'].astype('int32')\n",
    "m"
   ]
  },
  {
   "cell_type": "markdown",
   "metadata": {
    "jupyter": {},
    "tags": [],
    "slideshow": {
     "slide_type": "slide"
    },
    "id": "91FCC4C273EE45288D758F0ED5C958B1",
    "trusted": true
   },
   "source": [
    "**TV Show Release Trend by Ratings**"
   ]
  },
  {
   "cell_type": "code",
   "execution_count": 311,
   "metadata": {
    "jupyter": {},
    "tags": [],
    "slideshow": {
     "slide_type": "slide"
    },
    "id": "39FC3129343049C68B864DEEEA7CE75E",
    "trusted": true
   },
   "outputs": [
    {
     "data": {
      "image/png": "[encoded data removed]",
      "text/plain": [
       "<Figure size 1120x320 with 1 Axes>"
      ]
     },
     "metadata": {
      "needs_background": "light"
     },
     "output_type": "display_data"
    }
   ],
   "source": [
    "fig,ax=plt.subplots(figsize=(14,4),dpi=80)\n",
    "ax.plot(m.index, m['Kids'], label='Kids')\n",
    "ax.plot(m.index, m['International'], label='International')\n",
    "ax.plot(m.index, m['TV'], label='TV')\n",
    "ax.plot(m.index, m['Docuseries'], label='Docuseries')\n",
    "ax.plot(m.index, m['Crime'], label='Crime')\n",
    "ax.set_xticks(np.arange(2000,2021,1))\n",
    "ax.legend()\n",
    "ax.set_title('Trends in the number of categories', y=1.02, fontsize=14)\n",
    "ax.set_xlabel('Release year')\n",
    "ax.set_ylabel('Number of categories')\n",
    "ax.grid(alpha=0.3, ls='--')\n",
    "plt.show()"
   ]
  },
  {
   "cell_type": "markdown",
   "metadata": {
    "jupyter": {},
    "tags": [],
    "slideshow": {
     "slide_type": "slide"
    },
    "id": "500B07F335AA4005884BD47B735AA10B",
    "trusted": true
   },
   "source": [
    "International、Kids、Crime types experienced the fastest growth over the past 20 years."
   ]
  },
  {
   "cell_type": "markdown",
   "metadata": {
    "jupyter": {},
    "tags": [],
    "slideshow": {
     "slide_type": "slide"
    },
    "id": "EE210C26DDBD4F7F90B728EBA2B857D7",
    "trusted": true
   },
   "source": [
    "<br>"
   ]
  },
  {
   "cell_type": "markdown",
   "metadata": {
    "jupyter": {},
    "tags": [],
    "slideshow": {
     "slide_type": "slide"
    },
    "id": "BF2F5671CB874B7B839EF3931B62F47E",
    "trusted": true
   },
   "source": [
    "**Distribution of Movies by Categories**"
   ]
  },
  {
   "cell_type": "code",
   "execution_count": 261,
   "metadata": {
    "jupyter": {},
    "tags": [],
    "slideshow": {
     "slide_type": "slide"
    },
    "id": "0C2C380766AD4FEB8DD625704FD9EC12",
    "trusted": true
   },
   "outputs": [
    {
     "data": {
      "text/html": [
       "<div>\n",
       "<style scoped>\n",
       "    .dataframe tbody tr th:only-of-type {\n",
       "        vertical-align: middle;\n",
       "    }\n",
       "\n",
       "    .dataframe tbody tr th {\n",
       "        vertical-align: top;\n",
       "    }\n",
       "\n",
       "    .dataframe thead th {\n",
       "        text-align: right;\n",
       "    }\n",
       "</style>\n",
       "<table border=\"1\" class=\"dataframe\">\n",
       "  <thead>\n",
       "    <tr style=\"text-align: right;\">\n",
       "      <th></th>\n",
       "      <th>Categories</th>\n",
       "      <th>Counts</th>\n",
       "    </tr>\n",
       "  </thead>\n",
       "  <tbody>\n",
       "    <tr>\n",
       "      <th>0</th>\n",
       "      <td>Dramas</td>\n",
       "      <td>1303</td>\n",
       "    </tr>\n",
       "    <tr>\n",
       "      <th>1</th>\n",
       "      <td>Comedies</td>\n",
       "      <td>1000</td>\n",
       "    </tr>\n",
       "    <tr>\n",
       "      <th>2</th>\n",
       "      <td>Documentaries</td>\n",
       "      <td>735</td>\n",
       "    </tr>\n",
       "    <tr>\n",
       "      <th>3</th>\n",
       "      <td>Action</td>\n",
       "      <td>615</td>\n",
       "    </tr>\n",
       "    <tr>\n",
       "      <th>4</th>\n",
       "      <td>Children</td>\n",
       "      <td>476</td>\n",
       "    </tr>\n",
       "    <tr>\n",
       "      <th>5</th>\n",
       "      <td>Stand-Up</td>\n",
       "      <td>306</td>\n",
       "    </tr>\n",
       "    <tr>\n",
       "      <th>6</th>\n",
       "      <td>Horror</td>\n",
       "      <td>239</td>\n",
       "    </tr>\n",
       "    <tr>\n",
       "      <th>7</th>\n",
       "      <td>International</td>\n",
       "      <td>113</td>\n",
       "    </tr>\n",
       "    <tr>\n",
       "      <th>8</th>\n",
       "      <td>Movies</td>\n",
       "      <td>55</td>\n",
       "    </tr>\n",
       "    <tr>\n",
       "      <th>9</th>\n",
       "      <td>Thrillers</td>\n",
       "      <td>44</td>\n",
       "    </tr>\n",
       "    <tr>\n",
       "      <th>10</th>\n",
       "      <td>Independent</td>\n",
       "      <td>20</td>\n",
       "    </tr>\n",
       "    <tr>\n",
       "      <th>11</th>\n",
       "      <td>Anime</td>\n",
       "      <td>19</td>\n",
       "    </tr>\n",
       "    <tr>\n",
       "      <th>12</th>\n",
       "      <td>Music</td>\n",
       "      <td>17</td>\n",
       "    </tr>\n",
       "    <tr>\n",
       "      <th>13</th>\n",
       "      <td>Sci-Fi</td>\n",
       "      <td>11</td>\n",
       "    </tr>\n",
       "    <tr>\n",
       "      <th>14</th>\n",
       "      <td>Cult</td>\n",
       "      <td>4</td>\n",
       "    </tr>\n",
       "    <tr>\n",
       "      <th>15</th>\n",
       "      <td>Romantic</td>\n",
       "      <td>3</td>\n",
       "    </tr>\n",
       "    <tr>\n",
       "      <th>16</th>\n",
       "      <td>Sports</td>\n",
       "      <td>1</td>\n",
       "    </tr>\n",
       "    <tr>\n",
       "      <th>17</th>\n",
       "      <td>LGBTQ</td>\n",
       "      <td>1</td>\n",
       "    </tr>\n",
       "    <tr>\n",
       "      <th>18</th>\n",
       "      <td>Classic</td>\n",
       "      <td>1</td>\n",
       "    </tr>\n",
       "  </tbody>\n",
       "</table>\n",
       "</div>"
      ],
      "text/plain": [
       "       Categories  Counts\n",
       "0          Dramas    1303\n",
       "1        Comedies    1000\n",
       "2   Documentaries     735\n",
       "3          Action     615\n",
       "4        Children     476\n",
       "5        Stand-Up     306\n",
       "6          Horror     239\n",
       "7   International     113\n",
       "8          Movies      55\n",
       "9       Thrillers      44\n",
       "10    Independent      20\n",
       "11          Anime      19\n",
       "12          Music      17\n",
       "13         Sci-Fi      11\n",
       "14           Cult       4\n",
       "15       Romantic       3\n",
       "16         Sports       1\n",
       "17          LGBTQ       1\n",
       "18        Classic       1"
      ]
     },
     "execution_count": 261,
     "metadata": {},
     "output_type": "execute_result"
    }
   ],
   "source": [
    "mv_count = table_mv['categories'].value_counts()\n",
    "mv_count = pd.DataFrame({'Categories':mv_count.index, 'Counts':mv_count.values})\n",
    "mv_count"
   ]
  },
  {
   "cell_type": "markdown",
   "metadata": {
    "jupyter": {},
    "tags": [],
    "slideshow": {
     "slide_type": "slide"
    },
    "id": "E3A14388BF7F4485B99EDA3684E20CAC",
    "trusted": true
   },
   "source": [
    "<br>"
   ]
  },
  {
   "cell_type": "markdown",
   "metadata": {
    "jupyter": {},
    "tags": [],
    "slideshow": {
     "slide_type": "slide"
    },
    "id": "C78FFCC904C8468C897BC4131DFE5470",
    "trusted": true
   },
   "source": [
    "**Making pivot table on Movie data and visualizing the trend**"
   ]
  },
  {
   "cell_type": "code",
   "execution_count": 301,
   "metadata": {
    "jupyter": {},
    "tags": [],
    "slideshow": {
     "slide_type": "slide"
    },
    "id": "C309E241323C499BA9BB3524F20D892E",
    "trusted": true
   },
   "outputs": [
    {
     "data": {
      "text/html": [
       "<div>\n",
       "<style scoped>\n",
       "    .dataframe tbody tr th:only-of-type {\n",
       "        vertical-align: middle;\n",
       "    }\n",
       "\n",
       "    .dataframe tbody tr th {\n",
       "        vertical-align: top;\n",
       "    }\n",
       "\n",
       "    .dataframe thead th {\n",
       "        text-align: right;\n",
       "    }\n",
       "</style>\n",
       "<table border=\"1\" class=\"dataframe\">\n",
       "  <thead>\n",
       "    <tr style=\"text-align: right;\">\n",
       "      <th></th>\n",
       "      <th></th>\n",
       "      <th>count</th>\n",
       "    </tr>\n",
       "    <tr>\n",
       "      <th>categories</th>\n",
       "      <th>release_year</th>\n",
       "      <th></th>\n",
       "    </tr>\n",
       "  </thead>\n",
       "  <tbody>\n",
       "    <tr>\n",
       "      <th rowspan=\"5\" valign=\"top\">Action</th>\n",
       "      <th>2000</th>\n",
       "      <td>7</td>\n",
       "    </tr>\n",
       "    <tr>\n",
       "      <th>2001</th>\n",
       "      <td>8</td>\n",
       "    </tr>\n",
       "    <tr>\n",
       "      <th>2002</th>\n",
       "      <td>12</td>\n",
       "    </tr>\n",
       "    <tr>\n",
       "      <th>2003</th>\n",
       "      <td>12</td>\n",
       "    </tr>\n",
       "    <tr>\n",
       "      <th>2004</th>\n",
       "      <td>15</td>\n",
       "    </tr>\n",
       "    <tr>\n",
       "      <th>...</th>\n",
       "      <th>...</th>\n",
       "      <td>...</td>\n",
       "    </tr>\n",
       "    <tr>\n",
       "      <th rowspan=\"5\" valign=\"top\">Thrillers</th>\n",
       "      <th>2016</th>\n",
       "      <td>6</td>\n",
       "    </tr>\n",
       "    <tr>\n",
       "      <th>2017</th>\n",
       "      <td>8</td>\n",
       "    </tr>\n",
       "    <tr>\n",
       "      <th>2018</th>\n",
       "      <td>7</td>\n",
       "    </tr>\n",
       "    <tr>\n",
       "      <th>2019</th>\n",
       "      <td>10</td>\n",
       "    </tr>\n",
       "    <tr>\n",
       "      <th>2020</th>\n",
       "      <td>3</td>\n",
       "    </tr>\n",
       "  </tbody>\n",
       "</table>\n",
       "<p>223 rows × 1 columns</p>\n",
       "</div>"
      ],
      "text/plain": [
       "                         count\n",
       "categories release_year       \n",
       "Action     2000              7\n",
       "           2001              8\n",
       "           2002             12\n",
       "           2003             12\n",
       "           2004             15\n",
       "...                        ...\n",
       "Thrillers  2016              6\n",
       "           2017              8\n",
       "           2018              7\n",
       "           2019             10\n",
       "           2020              3\n",
       "\n",
       "[223 rows x 1 columns]"
      ]
     },
     "execution_count": 301,
     "metadata": {},
     "output_type": "execute_result"
    }
   ],
   "source": [
    "v = pd.DataFrame(table_mv.groupby(['categories', 'release_year']).size()).rename(columns={0:'count'})\n",
    "v"
   ]
  },
  {
   "cell_type": "code",
   "execution_count": 305,
   "metadata": {
    "jupyter": {},
    "tags": [],
    "slideshow": {
     "slide_type": "slide"
    },
    "id": "5F16CF0CE40B4E54948BDF8EC50CD765",
    "trusted": true
   },
   "outputs": [
    {
     "data": {
      "text/html": [
       "<div>\n",
       "<style scoped>\n",
       "    .dataframe tbody tr th:only-of-type {\n",
       "        vertical-align: middle;\n",
       "    }\n",
       "\n",
       "    .dataframe tbody tr th {\n",
       "        vertical-align: top;\n",
       "    }\n",
       "\n",
       "    .dataframe thead th {\n",
       "        text-align: right;\n",
       "    }\n",
       "</style>\n",
       "<table border=\"1\" class=\"dataframe\">\n",
       "  <thead>\n",
       "    <tr style=\"text-align: right;\">\n",
       "      <th>categories</th>\n",
       "      <th>Action</th>\n",
       "      <th>Anime</th>\n",
       "      <th>Children</th>\n",
       "      <th>Classic</th>\n",
       "      <th>Comedies</th>\n",
       "      <th>Cult</th>\n",
       "      <th>Documentaries</th>\n",
       "      <th>Dramas</th>\n",
       "      <th>Horror</th>\n",
       "      <th>Independent</th>\n",
       "      <th>International</th>\n",
       "      <th>LGBTQ</th>\n",
       "      <th>Movies</th>\n",
       "      <th>Music</th>\n",
       "      <th>Romantic</th>\n",
       "      <th>Sci-Fi</th>\n",
       "      <th>Sports</th>\n",
       "      <th>Stand-Up</th>\n",
       "      <th>Thrillers</th>\n",
       "    </tr>\n",
       "    <tr>\n",
       "      <th>release_year</th>\n",
       "      <th></th>\n",
       "      <th></th>\n",
       "      <th></th>\n",
       "      <th></th>\n",
       "      <th></th>\n",
       "      <th></th>\n",
       "      <th></th>\n",
       "      <th></th>\n",
       "      <th></th>\n",
       "      <th></th>\n",
       "      <th></th>\n",
       "      <th></th>\n",
       "      <th></th>\n",
       "      <th></th>\n",
       "      <th></th>\n",
       "      <th></th>\n",
       "      <th></th>\n",
       "      <th></th>\n",
       "      <th></th>\n",
       "    </tr>\n",
       "  </thead>\n",
       "  <tbody>\n",
       "    <tr>\n",
       "      <th>2000</th>\n",
       "      <td>7</td>\n",
       "      <td>0</td>\n",
       "      <td>6</td>\n",
       "      <td>0</td>\n",
       "      <td>8</td>\n",
       "      <td>1</td>\n",
       "      <td>0</td>\n",
       "      <td>5</td>\n",
       "      <td>2</td>\n",
       "      <td>0</td>\n",
       "      <td>0</td>\n",
       "      <td>0</td>\n",
       "      <td>0</td>\n",
       "      <td>0</td>\n",
       "      <td>0</td>\n",
       "      <td>0</td>\n",
       "      <td>0</td>\n",
       "      <td>1</td>\n",
       "      <td>0</td>\n",
       "    </tr>\n",
       "    <tr>\n",
       "      <th>2001</th>\n",
       "      <td>8</td>\n",
       "      <td>0</td>\n",
       "      <td>4</td>\n",
       "      <td>0</td>\n",
       "      <td>11</td>\n",
       "      <td>0</td>\n",
       "      <td>0</td>\n",
       "      <td>7</td>\n",
       "      <td>0</td>\n",
       "      <td>0</td>\n",
       "      <td>0</td>\n",
       "      <td>0</td>\n",
       "      <td>0</td>\n",
       "      <td>0</td>\n",
       "      <td>0</td>\n",
       "      <td>0</td>\n",
       "      <td>0</td>\n",
       "      <td>1</td>\n",
       "      <td>1</td>\n",
       "    </tr>\n",
       "    <tr>\n",
       "      <th>2002</th>\n",
       "      <td>12</td>\n",
       "      <td>0</td>\n",
       "      <td>3</td>\n",
       "      <td>0</td>\n",
       "      <td>3</td>\n",
       "      <td>0</td>\n",
       "      <td>3</td>\n",
       "      <td>14</td>\n",
       "      <td>1</td>\n",
       "      <td>0</td>\n",
       "      <td>1</td>\n",
       "      <td>0</td>\n",
       "      <td>0</td>\n",
       "      <td>0</td>\n",
       "      <td>0</td>\n",
       "      <td>0</td>\n",
       "      <td>0</td>\n",
       "      <td>1</td>\n",
       "      <td>1</td>\n",
       "    </tr>\n",
       "    <tr>\n",
       "      <th>2003</th>\n",
       "      <td>12</td>\n",
       "      <td>0</td>\n",
       "      <td>6</td>\n",
       "      <td>0</td>\n",
       "      <td>10</td>\n",
       "      <td>0</td>\n",
       "      <td>0</td>\n",
       "      <td>8</td>\n",
       "      <td>4</td>\n",
       "      <td>0</td>\n",
       "      <td>0</td>\n",
       "      <td>0</td>\n",
       "      <td>0</td>\n",
       "      <td>0</td>\n",
       "      <td>0</td>\n",
       "      <td>0</td>\n",
       "      <td>0</td>\n",
       "      <td>0</td>\n",
       "      <td>0</td>\n",
       "    </tr>\n",
       "    <tr>\n",
       "      <th>2004</th>\n",
       "      <td>15</td>\n",
       "      <td>0</td>\n",
       "      <td>8</td>\n",
       "      <td>0</td>\n",
       "      <td>10</td>\n",
       "      <td>0</td>\n",
       "      <td>1</td>\n",
       "      <td>10</td>\n",
       "      <td>1</td>\n",
       "      <td>1</td>\n",
       "      <td>3</td>\n",
       "      <td>0</td>\n",
       "      <td>1</td>\n",
       "      <td>0</td>\n",
       "      <td>0</td>\n",
       "      <td>0</td>\n",
       "      <td>0</td>\n",
       "      <td>0</td>\n",
       "      <td>0</td>\n",
       "    </tr>\n",
       "    <tr>\n",
       "      <th>2005</th>\n",
       "      <td>12</td>\n",
       "      <td>0</td>\n",
       "      <td>6</td>\n",
       "      <td>0</td>\n",
       "      <td>18</td>\n",
       "      <td>0</td>\n",
       "      <td>4</td>\n",
       "      <td>15</td>\n",
       "      <td>2</td>\n",
       "      <td>1</td>\n",
       "      <td>1</td>\n",
       "      <td>0</td>\n",
       "      <td>1</td>\n",
       "      <td>0</td>\n",
       "      <td>0</td>\n",
       "      <td>0</td>\n",
       "      <td>0</td>\n",
       "      <td>1</td>\n",
       "      <td>0</td>\n",
       "    </tr>\n",
       "    <tr>\n",
       "      <th>2006</th>\n",
       "      <td>9</td>\n",
       "      <td>0</td>\n",
       "      <td>7</td>\n",
       "      <td>0</td>\n",
       "      <td>24</td>\n",
       "      <td>0</td>\n",
       "      <td>2</td>\n",
       "      <td>17</td>\n",
       "      <td>4</td>\n",
       "      <td>1</td>\n",
       "      <td>2</td>\n",
       "      <td>0</td>\n",
       "      <td>0</td>\n",
       "      <td>0</td>\n",
       "      <td>0</td>\n",
       "      <td>1</td>\n",
       "      <td>0</td>\n",
       "      <td>4</td>\n",
       "      <td>1</td>\n",
       "    </tr>\n",
       "    <tr>\n",
       "      <th>2007</th>\n",
       "      <td>14</td>\n",
       "      <td>0</td>\n",
       "      <td>9</td>\n",
       "      <td>0</td>\n",
       "      <td>18</td>\n",
       "      <td>1</td>\n",
       "      <td>4</td>\n",
       "      <td>22</td>\n",
       "      <td>2</td>\n",
       "      <td>0</td>\n",
       "      <td>0</td>\n",
       "      <td>0</td>\n",
       "      <td>0</td>\n",
       "      <td>0</td>\n",
       "      <td>0</td>\n",
       "      <td>0</td>\n",
       "      <td>0</td>\n",
       "      <td>1</td>\n",
       "      <td>1</td>\n",
       "    </tr>\n",
       "    <tr>\n",
       "      <th>2008</th>\n",
       "      <td>21</td>\n",
       "      <td>0</td>\n",
       "      <td>9</td>\n",
       "      <td>0</td>\n",
       "      <td>30</td>\n",
       "      <td>0</td>\n",
       "      <td>4</td>\n",
       "      <td>27</td>\n",
       "      <td>3</td>\n",
       "      <td>0</td>\n",
       "      <td>3</td>\n",
       "      <td>0</td>\n",
       "      <td>1</td>\n",
       "      <td>1</td>\n",
       "      <td>0</td>\n",
       "      <td>0</td>\n",
       "      <td>0</td>\n",
       "      <td>3</td>\n",
       "      <td>0</td>\n",
       "    </tr>\n",
       "    <tr>\n",
       "      <th>2009</th>\n",
       "      <td>17</td>\n",
       "      <td>0</td>\n",
       "      <td>12</td>\n",
       "      <td>0</td>\n",
       "      <td>32</td>\n",
       "      <td>0</td>\n",
       "      <td>3</td>\n",
       "      <td>22</td>\n",
       "      <td>8</td>\n",
       "      <td>1</td>\n",
       "      <td>3</td>\n",
       "      <td>0</td>\n",
       "      <td>0</td>\n",
       "      <td>0</td>\n",
       "      <td>0</td>\n",
       "      <td>2</td>\n",
       "      <td>0</td>\n",
       "      <td>2</td>\n",
       "      <td>1</td>\n",
       "    </tr>\n",
       "    <tr>\n",
       "      <th>2010</th>\n",
       "      <td>26</td>\n",
       "      <td>0</td>\n",
       "      <td>15</td>\n",
       "      <td>0</td>\n",
       "      <td>31</td>\n",
       "      <td>0</td>\n",
       "      <td>8</td>\n",
       "      <td>41</td>\n",
       "      <td>8</td>\n",
       "      <td>0</td>\n",
       "      <td>2</td>\n",
       "      <td>0</td>\n",
       "      <td>2</td>\n",
       "      <td>0</td>\n",
       "      <td>0</td>\n",
       "      <td>0</td>\n",
       "      <td>0</td>\n",
       "      <td>3</td>\n",
       "      <td>0</td>\n",
       "    </tr>\n",
       "    <tr>\n",
       "      <th>2011</th>\n",
       "      <td>20</td>\n",
       "      <td>1</td>\n",
       "      <td>22</td>\n",
       "      <td>0</td>\n",
       "      <td>30</td>\n",
       "      <td>0</td>\n",
       "      <td>7</td>\n",
       "      <td>26</td>\n",
       "      <td>6</td>\n",
       "      <td>0</td>\n",
       "      <td>2</td>\n",
       "      <td>0</td>\n",
       "      <td>6</td>\n",
       "      <td>1</td>\n",
       "      <td>0</td>\n",
       "      <td>0</td>\n",
       "      <td>0</td>\n",
       "      <td>5</td>\n",
       "      <td>1</td>\n",
       "    </tr>\n",
       "    <tr>\n",
       "      <th>2012</th>\n",
       "      <td>26</td>\n",
       "      <td>0</td>\n",
       "      <td>16</td>\n",
       "      <td>0</td>\n",
       "      <td>47</td>\n",
       "      <td>0</td>\n",
       "      <td>11</td>\n",
       "      <td>37</td>\n",
       "      <td>4</td>\n",
       "      <td>0</td>\n",
       "      <td>3</td>\n",
       "      <td>0</td>\n",
       "      <td>2</td>\n",
       "      <td>0</td>\n",
       "      <td>0</td>\n",
       "      <td>0</td>\n",
       "      <td>0</td>\n",
       "      <td>12</td>\n",
       "      <td>0</td>\n",
       "    </tr>\n",
       "    <tr>\n",
       "      <th>2013</th>\n",
       "      <td>26</td>\n",
       "      <td>1</td>\n",
       "      <td>24</td>\n",
       "      <td>0</td>\n",
       "      <td>44</td>\n",
       "      <td>1</td>\n",
       "      <td>28</td>\n",
       "      <td>54</td>\n",
       "      <td>9</td>\n",
       "      <td>2</td>\n",
       "      <td>3</td>\n",
       "      <td>0</td>\n",
       "      <td>0</td>\n",
       "      <td>1</td>\n",
       "      <td>0</td>\n",
       "      <td>0</td>\n",
       "      <td>0</td>\n",
       "      <td>9</td>\n",
       "      <td>0</td>\n",
       "    </tr>\n",
       "    <tr>\n",
       "      <th>2014</th>\n",
       "      <td>23</td>\n",
       "      <td>0</td>\n",
       "      <td>27</td>\n",
       "      <td>0</td>\n",
       "      <td>58</td>\n",
       "      <td>0</td>\n",
       "      <td>28</td>\n",
       "      <td>61</td>\n",
       "      <td>16</td>\n",
       "      <td>0</td>\n",
       "      <td>10</td>\n",
       "      <td>0</td>\n",
       "      <td>8</td>\n",
       "      <td>0</td>\n",
       "      <td>0</td>\n",
       "      <td>2</td>\n",
       "      <td>0</td>\n",
       "      <td>10</td>\n",
       "      <td>1</td>\n",
       "    </tr>\n",
       "    <tr>\n",
       "      <th>2015</th>\n",
       "      <td>50</td>\n",
       "      <td>1</td>\n",
       "      <td>18</td>\n",
       "      <td>0</td>\n",
       "      <td>73</td>\n",
       "      <td>0</td>\n",
       "      <td>65</td>\n",
       "      <td>127</td>\n",
       "      <td>13</td>\n",
       "      <td>0</td>\n",
       "      <td>7</td>\n",
       "      <td>0</td>\n",
       "      <td>8</td>\n",
       "      <td>0</td>\n",
       "      <td>0</td>\n",
       "      <td>1</td>\n",
       "      <td>0</td>\n",
       "      <td>16</td>\n",
       "      <td>3</td>\n",
       "    </tr>\n",
       "    <tr>\n",
       "      <th>2016</th>\n",
       "      <td>78</td>\n",
       "      <td>3</td>\n",
       "      <td>39</td>\n",
       "      <td>0</td>\n",
       "      <td>110</td>\n",
       "      <td>0</td>\n",
       "      <td>133</td>\n",
       "      <td>184</td>\n",
       "      <td>27</td>\n",
       "      <td>1</td>\n",
       "      <td>17</td>\n",
       "      <td>0</td>\n",
       "      <td>6</td>\n",
       "      <td>4</td>\n",
       "      <td>0</td>\n",
       "      <td>0</td>\n",
       "      <td>0</td>\n",
       "      <td>34</td>\n",
       "      <td>6</td>\n",
       "    </tr>\n",
       "    <tr>\n",
       "      <th>2017</th>\n",
       "      <td>80</td>\n",
       "      <td>4</td>\n",
       "      <td>45</td>\n",
       "      <td>0</td>\n",
       "      <td>131</td>\n",
       "      <td>0</td>\n",
       "      <td>165</td>\n",
       "      <td>190</td>\n",
       "      <td>38</td>\n",
       "      <td>3</td>\n",
       "      <td>12</td>\n",
       "      <td>0</td>\n",
       "      <td>6</td>\n",
       "      <td>3</td>\n",
       "      <td>1</td>\n",
       "      <td>0</td>\n",
       "      <td>1</td>\n",
       "      <td>57</td>\n",
       "      <td>8</td>\n",
       "    </tr>\n",
       "    <tr>\n",
       "      <th>2018</th>\n",
       "      <td>79</td>\n",
       "      <td>4</td>\n",
       "      <td>55</td>\n",
       "      <td>1</td>\n",
       "      <td>135</td>\n",
       "      <td>1</td>\n",
       "      <td>116</td>\n",
       "      <td>199</td>\n",
       "      <td>41</td>\n",
       "      <td>5</td>\n",
       "      <td>12</td>\n",
       "      <td>1</td>\n",
       "      <td>9</td>\n",
       "      <td>4</td>\n",
       "      <td>2</td>\n",
       "      <td>5</td>\n",
       "      <td>0</td>\n",
       "      <td>58</td>\n",
       "      <td>7</td>\n",
       "    </tr>\n",
       "    <tr>\n",
       "      <th>2019</th>\n",
       "      <td>42</td>\n",
       "      <td>4</td>\n",
       "      <td>69</td>\n",
       "      <td>0</td>\n",
       "      <td>106</td>\n",
       "      <td>0</td>\n",
       "      <td>96</td>\n",
       "      <td>148</td>\n",
       "      <td>30</td>\n",
       "      <td>4</td>\n",
       "      <td>23</td>\n",
       "      <td>0</td>\n",
       "      <td>3</td>\n",
       "      <td>0</td>\n",
       "      <td>0</td>\n",
       "      <td>0</td>\n",
       "      <td>0</td>\n",
       "      <td>47</td>\n",
       "      <td>10</td>\n",
       "    </tr>\n",
       "    <tr>\n",
       "      <th>2020</th>\n",
       "      <td>38</td>\n",
       "      <td>1</td>\n",
       "      <td>76</td>\n",
       "      <td>0</td>\n",
       "      <td>71</td>\n",
       "      <td>0</td>\n",
       "      <td>57</td>\n",
       "      <td>89</td>\n",
       "      <td>20</td>\n",
       "      <td>1</td>\n",
       "      <td>9</td>\n",
       "      <td>0</td>\n",
       "      <td>2</td>\n",
       "      <td>3</td>\n",
       "      <td>0</td>\n",
       "      <td>0</td>\n",
       "      <td>0</td>\n",
       "      <td>41</td>\n",
       "      <td>3</td>\n",
       "    </tr>\n",
       "  </tbody>\n",
       "</table>\n",
       "</div>"
      ],
      "text/plain": [
       "categories    Action  Anime  Children  Classic  Comedies  Cult  Documentaries  \\\n",
       "release_year                                                                    \n",
       "2000               7      0         6        0         8     1              0   \n",
       "2001               8      0         4        0        11     0              0   \n",
       "2002              12      0         3        0         3     0              3   \n",
       "2003              12      0         6        0        10     0              0   \n",
       "2004              15      0         8        0        10     0              1   \n",
       "2005              12      0         6        0        18     0              4   \n",
       "2006               9      0         7        0        24     0              2   \n",
       "2007              14      0         9        0        18     1              4   \n",
       "2008              21      0         9        0        30     0              4   \n",
       "2009              17      0        12        0        32     0              3   \n",
       "2010              26      0        15        0        31     0              8   \n",
       "2011              20      1        22        0        30     0              7   \n",
       "2012              26      0        16        0        47     0             11   \n",
       "2013              26      1        24        0        44     1             28   \n",
       "2014              23      0        27        0        58     0             28   \n",
       "2015              50      1        18        0        73     0             65   \n",
       "2016              78      3        39        0       110     0            133   \n",
       "2017              80      4        45        0       131     0            165   \n",
       "2018              79      4        55        1       135     1            116   \n",
       "2019              42      4        69        0       106     0             96   \n",
       "2020              38      1        76        0        71     0             57   \n",
       "\n",
       "categories    Dramas  Horror  Independent  International  LGBTQ  Movies  \\\n",
       "release_year                                                              \n",
       "2000               5       2            0              0      0       0   \n",
       "2001               7       0            0              0      0       0   \n",
       "2002              14       1            0              1      0       0   \n",
       "2003               8       4            0              0      0       0   \n",
       "2004              10       1            1              3      0       1   \n",
       "2005              15       2            1              1      0       1   \n",
       "2006              17       4            1              2      0       0   \n",
       "2007              22       2            0              0      0       0   \n",
       "2008              27       3            0              3      0       1   \n",
       "2009              22       8            1              3      0       0   \n",
       "2010              41       8            0              2      0       2   \n",
       "2011              26       6            0              2      0       6   \n",
       "2012              37       4            0              3      0       2   \n",
       "2013              54       9            2              3      0       0   \n",
       "2014              61      16            0             10      0       8   \n",
       "2015             127      13            0              7      0       8   \n",
       "2016             184      27            1             17      0       6   \n",
       "2017             190      38            3             12      0       6   \n",
       "2018             199      41            5             12      1       9   \n",
       "2019             148      30            4             23      0       3   \n",
       "2020              89      20            1              9      0       2   \n",
       "\n",
       "categories    Music  Romantic  Sci-Fi  Sports  Stand-Up  Thrillers  \n",
       "release_year                                                        \n",
       "2000              0         0       0       0         1          0  \n",
       "2001              0         0       0       0         1          1  \n",
       "2002              0         0       0       0         1          1  \n",
       "2003              0         0       0       0         0          0  \n",
       "2004              0         0       0       0         0          0  \n",
       "2005              0         0       0       0         1          0  \n",
       "2006              0         0       1       0         4          1  \n",
       "2007              0         0       0       0         1          1  \n",
       "2008              1         0       0       0         3          0  \n",
       "2009              0         0       2       0         2          1  \n",
       "2010              0         0       0       0         3          0  \n",
       "2011              1         0       0       0         5          1  \n",
       "2012              0         0       0       0        12          0  \n",
       "2013              1         0       0       0         9          0  \n",
       "2014              0         0       2       0        10          1  \n",
       "2015              0         0       1       0        16          3  \n",
       "2016              4         0       0       0        34          6  \n",
       "2017              3         1       0       1        57          8  \n",
       "2018              4         2       5       0        58          7  \n",
       "2019              0         0       0       0        47         10  \n",
       "2020              3         0       0       0        41          3  "
      ]
     },
     "execution_count": 305,
     "metadata": {},
     "output_type": "execute_result"
    }
   ],
   "source": [
    "v = pd.pivot_table(v, index=['release_year'], columns=['categories']).fillna(0).astype('int32')['count']\n",
    "v"
   ]
  },
  {
   "cell_type": "markdown",
   "metadata": {
    "jupyter": {},
    "tags": [],
    "slideshow": {
     "slide_type": "slide"
    },
    "id": "72488346B2F14350AA560D07267E2D88",
    "trusted": true
   },
   "source": [
    "**Movie Released and Trend on Categories**"
   ]
  },
  {
   "cell_type": "code",
   "execution_count": 310,
   "metadata": {
    "jupyter": {},
    "tags": [],
    "slideshow": {
     "slide_type": "slide"
    },
    "id": "F4FBD0940B824748BFE103EDC58BB43B",
    "trusted": true
   },
   "outputs": [
    {
     "data": {
      "image/png": "[encoded data removed]",
      "text/plain": [
       "<Figure size 1120x320 with 1 Axes>"
      ]
     },
     "metadata": {
      "needs_background": "light"
     },
     "output_type": "display_data"
    }
   ],
   "source": [
    "fig,ax=plt.subplots(figsize=(14,4),dpi=80)\n",
    "ax.plot(v.index, v['Action'], label='Action')\n",
    "ax.plot(v.index, v['Children'], label='Children')\n",
    "ax.plot(v.index, v['Comedies'], label='Comedies')\n",
    "ax.plot(v.index, v['Documentaries'], label='Documentaries')\n",
    "ax.plot(v.index, v['Dramas'], label='Dramas')\n",
    "ax.set_xticks(np.arange(2000,2021,1))\n",
    "ax.legend()\n",
    "ax.set_title('Trends in the number of categories', y=1.02, fontsize=14)\n",
    "ax.set_xlabel('Release year')\n",
    "ax.set_ylabel('Number of categories')\n",
    "ax.grid(alpha=0.3, ls='--')\n",
    "plt.show()"
   ]
  },
  {
   "cell_type": "code",
   "execution_count": null,
   "metadata": {
    "jupyter": {},
    "tags": [],
    "slideshow": {
     "slide_type": "slide"
    },
    "id": "5AD35F08FA7A439980FEBFFFE1991328",
    "trusted": true
   },
   "outputs": [],
   "source": []
  }
 ],
 "metadata": {
  "kernelspec": {
   "language": "python",
   "display_name": "Python 3",
   "name": "python3"
  },
  "language_info": {
   "codemirror_mode": {
    "name": "ipython",
    "version": 3
   },
   "name": "python",
   "mimetype": "text/x-python",
   "nbconvert_exporter": "python",
   "file_extension": ".py",
   "version": "3.5.2",
   "pygments_lexer": "ipython3"
  }
 },
 "nbformat": 4,
 "nbformat_minor": 4
}
