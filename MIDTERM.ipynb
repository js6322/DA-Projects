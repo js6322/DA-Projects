{
 "cells": [
  {
   "cell_type": "code",
   "execution_count": null,
   "id": "0a9f3423-f101-4bd1-9269-eb0680a58330",
   "metadata": {
    "ExecuteTime": {
     "end_time": "2024-11-06T13:50:24.224557800Z",
     "start_time": "2024-11-06T13:50:24.199045700Z"
    }
   },
   "outputs": [],
   "source": []
  },
  {
   "cell_type": "code",
   "execution_count": 1,
   "id": "initial_id",
   "metadata": {
    "ExecuteTime": {
     "end_time": "2024-11-06T13:52:01.407992500Z",
     "start_time": "2024-11-06T13:52:00.906154700Z"
    }
   },
   "outputs": [],
   "source": [
    "from datetime import datetime, timedelta\n",
    "from scipy.optimize import fsolve\n",
    "import calendar\n",
    "\n",
    "class CouponBond:\n",
    "    def __init__(self, issue_date, maturity_date, coupon_rate, face_value=100):\n",
    "        self.issue_date = datetime.strptime(issue_date, \"%m/%d/%Y\")\n",
    "        self.maturity_date = datetime.strptime(maturity_date, \"%m/%d/%Y\")\n",
    "        self.coupon_rate = coupon_rate\n",
    "        self.face_value = face_value\n",
    "        self.coupon_frequency = 2  # Semi-annual\n",
    "\n",
    "    def _adjust_for_weekend(self, date):\n",
    "        \n",
    "        if date.weekday() == 5:  # Saturday\n",
    "            return date + timedelta(days=2)\n",
    "        elif date.weekday() == 6:  # Sunday\n",
    "            return date + timedelta(days=1)\n",
    "        return date\n",
    "\n",
    "    def _days_in_february(self, year):\n",
    "        \n",
    "        return 29 if (year % 4 == 0 and (year % 100 != 0 or year % 400 == 0)) else 28\n",
    "\n",
    "    def _validate_date(self, year, month, day):\n",
    "        \n",
    "        last_day = calendar.monthrange(year, month)[1]  # Get the last valid day of the month\n",
    "        if day > last_day:\n",
    "            return datetime(year, month, last_day)  # Adjust to the last valid day of the month\n",
    "        return datetime(year, month, day)\n",
    "\n",
    "    def _generate_coupon_dates(self, settlement_date):\n",
    "        \n",
    "        if isinstance(settlement_date, str):\n",
    "            settlement_date = datetime.strptime(settlement_date, \"%m/%d/%Y\")\n",
    "\n",
    "        maturity_month = self.maturity_date.month\n",
    "        maturity_day = self.maturity_date.day\n",
    "\n",
    "        if maturity_month > 6:\n",
    "            int_date1_month = maturity_month - 6\n",
    "            int_date1_day = maturity_day\n",
    "            int_date2_month = maturity_month\n",
    "            int_date2_day = maturity_day\n",
    "        else:\n",
    "            int_date1_month = maturity_month\n",
    "            int_date1_day = maturity_day\n",
    "            int_date2_month = maturity_month + 6\n",
    "            int_date2_day = maturity_day\n",
    "\n",
    "        coupon_dates = []\n",
    "        year = self.issue_date.year\n",
    "\n",
    "        last_coupon_date_before_settlement = None\n",
    "\n",
    "        while True:\n",
    "            # Validate and adjust dates for invalid month-end days\n",
    "            int_date1 = self._validate_date(year, int_date1_month, int_date1_day)\n",
    "            int_date2 = self._validate_date(year, int_date2_month, int_date2_day)\n",
    "\n",
    "            int_date1 = self._adjust_for_weekend(int_date1)\n",
    "            int_date2 = self._adjust_for_weekend(int_date2)\n",
    "\n",
    "            if int_date1 < settlement_date:\n",
    "                last_coupon_date_before_settlement = int_date1\n",
    "            elif int_date1 > settlement_date and int_date1 <= self.maturity_date:\n",
    "                coupon_dates.append(int_date1)\n",
    "\n",
    "            if int_date2 < settlement_date:\n",
    "                last_coupon_date_before_settlement = int_date2\n",
    "            elif int_date2 > settlement_date and int_date2 <= self.maturity_date:\n",
    "                coupon_dates.append(int_date2)\n",
    "\n",
    "            if year >= self.maturity_date.year:\n",
    "                break\n",
    "\n",
    "            year += 1\n",
    "\n",
    "        if last_coupon_date_before_settlement:\n",
    "            coupon_dates.insert(0, last_coupon_date_before_settlement)\n",
    "\n",
    "        if self.maturity_date not in coupon_dates:\n",
    "            coupon_dates.append(self._adjust_for_weekend(self.maturity_date))\n",
    "\n",
    "        return sorted(coupon_dates)\n",
    "\n",
    "    def future_cashflow(self, settlement_date):\n",
    "        \n",
    "        if isinstance(settlement_date, str):\n",
    "            settlement_date = datetime.strptime(settlement_date, \"%m/%d/%Y\")\n",
    "    \n",
    "        coupon_dates = self._generate_coupon_dates(settlement_date)\n",
    "        cashflows = []\n",
    "    \n",
    "        # Adjust the maturity date for weekends\n",
    "        adjusted_maturity_date = self._adjust_for_weekend(self.maturity_date)\n",
    "    \n",
    "        # Filter future coupon dates after the settlement date\n",
    "        future_coupon_dates = [date for date in coupon_dates if date > settlement_date]\n",
    "    \n",
    "        for i, date in enumerate(future_coupon_dates):\n",
    "            # Calculate the coupon payment amount\n",
    "            cashflow = (self.coupon_rate * self.face_value) / self.coupon_frequency\n",
    "    \n",
    "            # Ensure only the date part is used for comparison with the adjusted maturity date\n",
    "            if date.date() == adjusted_maturity_date.date():  # Convert both to date for accurate comparison\n",
    "                cashflow += self.face_value  # Add principal repayment\n",
    "    \n",
    "            # Calculate earned days for the first coupon payment\n",
    "            if i == 0:\n",
    "                earned_days = (date - settlement_date).days  # Days between settlement date and the first coupon date\n",
    "            else:\n",
    "                earned_days = (date - future_coupon_dates[i - 1]).days  # Days between consecutive coupon dates\n",
    "    \n",
    "            # Calculate coupon period days between last coupon date and current coupon date\n",
    "            if i == 0:\n",
    "                last_coupon_date = max([d for d in coupon_dates if d <= settlement_date], default=self.issue_date)\n",
    "                coupon_period_days = (date - last_coupon_date).days\n",
    "            else:\n",
    "                coupon_period_days = (date - future_coupon_dates[i - 1]).days\n",
    "    \n",
    "            cashflows.append({\n",
    "                \"date\": date,\n",
    "                \"cashflow\": cashflow,\n",
    "                \"earned_days\": earned_days,\n",
    "                \"coupon_period_days\": coupon_period_days,\n",
    "            })\n",
    "    \n",
    "        return cashflows\n",
    "\n",
    "\n",
    "\n",
    "\n",
    "    def accrued_interest(self, settlement_date):\n",
    "        \n",
    "        if isinstance(settlement_date, str):\n",
    "            settlement_date = datetime.strptime(settlement_date, \"%m/%d/%Y\")\n",
    "    \n",
    "        coupon_dates = self._generate_coupon_dates(settlement_date)\n",
    "        last_coupon_date = max([d for d in coupon_dates if d <= settlement_date], default=None)\n",
    "    \n",
    "        if not last_coupon_date:\n",
    "            raise ValueError(\"No valid last coupon date found before the settlement date.\")\n",
    "    \n",
    "        next_coupon_date = min([d for d in coupon_dates if d > last_coupon_date], default=None)\n",
    "    \n",
    "        if not next_coupon_date:\n",
    "            raise ValueError(\"No valid next coupon date found after the settlement date.\")\n",
    "    \n",
    "        days_in_period = (next_coupon_date - last_coupon_date).days\n",
    "        days_since_last_coupon = (settlement_date - last_coupon_date).days\n",
    "    \n",
    "        accrued_interest = (self.coupon_rate * self.face_value / self.coupon_frequency) * (days_since_last_coupon / days_in_period)\n",
    "    \n",
    "        return accrued_interest, days_since_last_coupon, days_in_period\n",
    "        \n",
    "\n",
    "    def bey_from_clean_price(self, clean_price, settlement_date):\n",
    "        \n",
    "        if isinstance(settlement_date, str):\n",
    "            settlement_date = datetime.strptime(settlement_date, \"%m/%d/%Y\")\n",
    "    \n",
    "        # Generate the future cashflows\n",
    "        cashflows = self.future_cashflow(settlement_date)\n",
    "    \n",
    "        # Calculate the discount powers\n",
    "        discount_powers = []\n",
    "        accumulated_power = 0\n",
    "        for i, cashflow in enumerate(cashflows):\n",
    "            if i == 0:\n",
    "               \n",
    "                power = cashflow['earned_days'] / cashflow['coupon_period_days']\n",
    "                accumulated_power = power  # Initialize accumulated power with the first power\n",
    "            else:\n",
    "                \n",
    "                power = cashflow['earned_days'] / cashflow['coupon_period_days']\n",
    "                accumulated_power += power\n",
    "            discount_powers.append(accumulated_power)\n",
    "    \n",
    "       \n",
    "        accrued_interest, _, _ = self.accrued_interest(settlement_date)\n",
    "        dirty_price = clean_price + accrued_interest\n",
    "    \n",
    "        # Print the discount powers for examination\n",
    "        #print(\"Discount Powers for Each Cash Flow:\")\n",
    "        #for i, power in enumerate(discount_powers):\n",
    "            #print(f\"Cashflow {i + 1}: Power = {power:.4f}\") \n",
    "  \n",
    "        # solving BEY\n",
    "        def yield_function(yield_rate):\n",
    "            total_pv = 0\n",
    "            for i, cashflow in enumerate(cashflows):\n",
    "                # Apply the discount using the calculated power for each cash flow\n",
    "                total_pv += cashflow['cashflow'] / ((1 + yield_rate / self.coupon_frequency) ** discount_powers[i])\n",
    "            return total_pv - dirty_price\n",
    "    \n",
    "        #  fsolve to find the yield rate\n",
    "        initial_guess = 0.05  # Initial guess for the BEY\n",
    "        result = fsolve(yield_function, initial_guess)\n",
    "\n",
    "        return result[0]\n",
    "       \n",
    "\n",
    "    def dirty_price_from_bey(self, bey, settlement_date):\n",
    "        \n",
    "        if isinstance(settlement_date, str):\n",
    "            settlement_date = datetime.strptime(settlement_date, \"%m/%d/%Y\")\n",
    "    \n",
    "        # Generate the future cashflows\n",
    "        cashflows = []\n",
    "        cashflows = self.future_cashflow(settlement_date)\n",
    "    \n",
    "        # Calculate the discount powers\n",
    "        discount_powers = []\n",
    "        accumulated_power = 0\n",
    "        for i, cashflow in enumerate(cashflows):\n",
    "            if i == 0:\n",
    "                \n",
    "                power = cashflow['earned_days'] / cashflow['coupon_period_days']\n",
    "                accumulated_power = power  # Initialize accumulated power with the first power\n",
    "            else:\n",
    "                \n",
    "                power = cashflow['earned_days'] / cashflow['coupon_period_days']\n",
    "                accumulated_power += power\n",
    "            discount_powers.append(accumulated_power)\n",
    "    \n",
    "        \n",
    "        total_pv = 0\n",
    "        for i, cashflow in enumerate(cashflows):\n",
    "            pv = cashflow['cashflow'] / ((1 + bey / self.coupon_frequency) ** discount_powers[i])\n",
    "            total_pv += pv\n",
    "            # Print details for examination\n",
    "            #print(f\"Cashflow {i + 1}: Date = {cashflow['date']}, Cashflow = {cashflow['cashflow']:.2f}, \"\n",
    "                  #f\"Discount Power = {discount_powers[i]:.4f}, PV = {pv:.10f}\")\n",
    "    \n",
    "        # The total present value represents the dirty price\n",
    "        #print(f\"Total Present Value (Dirty Price): {total_pv:.10f}\")\n",
    "        return total_pv\n",
    "\n",
    "    def modified_duration(self, bey, settlement_date):\n",
    "        \"\"\"Calculate the modified duration of the bond.\"\"\"\n",
    "        if isinstance(settlement_date, str):\n",
    "            settlement_date = datetime.strptime(settlement_date, \"%m/%d/%Y\")\n",
    "\n",
    "     \n",
    "        P0 = self.dirty_price_from_bey(bey, settlement_date)\n",
    "\n",
    "        P_plus = self.dirty_price_from_bey(bey + 0.0001, settlement_date)\n",
    "\n",
    "        P_minus = self.dirty_price_from_bey(bey - 0.0001, settlement_date)\n",
    "\n",
    "       \n",
    "        delta_y = 0.0001  # Change in yield (1 basis point)\n",
    "        mod_duration = (P_minus - P_plus) / (2 * P0 * delta_y)\n",
    "\n",
    "        return mod_duration\n"
   ]
  },
  {
   "cell_type": "code",
   "execution_count": 2,
   "id": "6c9bf0aea458526",
   "metadata": {
    "ExecuteTime": {
     "end_time": "2024-11-06T13:52:03.860941100Z",
     "start_time": "2024-11-06T13:52:03.830259Z"
    }
   },
   "outputs": [
    {
     "data": {
      "text/plain": [
       "[{'date': datetime.datetime(2024, 9, 16, 0, 0),\n",
       "  'cashflow': 2.3125,\n",
       "  'earned_days': 14,\n",
       "  'coupon_period_days': 185},\n",
       " {'date': datetime.datetime(2025, 3, 17, 0, 0),\n",
       "  'cashflow': 2.3125,\n",
       "  'earned_days': 182,\n",
       "  'coupon_period_days': 182},\n",
       " {'date': datetime.datetime(2025, 9, 15, 0, 0),\n",
       "  'cashflow': 2.3125,\n",
       "  'earned_days': 182,\n",
       "  'coupon_period_days': 182},\n",
       " {'date': datetime.datetime(2026, 3, 16, 0, 0),\n",
       "  'cashflow': 2.3125,\n",
       "  'earned_days': 182,\n",
       "  'coupon_period_days': 182},\n",
       " {'date': datetime.datetime(2026, 9, 15, 0, 0),\n",
       "  'cashflow': 102.3125,\n",
       "  'earned_days': 183,\n",
       "  'coupon_period_days': 183}]"
      ]
     },
     "execution_count": 2,
     "metadata": {},
     "output_type": "execute_result"
    }
   ],
   "source": [
    "# Example usage 1\n",
    "bond = CouponBond(\"09/15/2023\", \"09/15/2026\", 0.04625)  # Coupon rate in decimal format\n",
    "settlement_date = \"09/02/2024\"\n",
    "\n",
    "# Calculate future cash flows\n",
    "bond.future_cashflow(settlement_date)"
   ]
  },
  {
   "cell_type": "code",
   "execution_count": 4,
   "id": "55d70c78ed3e8a9c",
   "metadata": {
    "ExecuteTime": {
     "end_time": "2024-11-01T20:12:48.130626900Z",
     "start_time": "2024-11-01T20:12:48.118304200Z"
    }
   },
   "outputs": [
    {
     "data": {
      "text/plain": [
       "(2.1375, 171, 185)"
      ]
     },
     "execution_count": 4,
     "metadata": {},
     "output_type": "execute_result"
    }
   ],
   "source": [
    "bond.accrued_interest(settlement_date)"
   ]
  },
  {
   "cell_type": "code",
   "execution_count": 3,
   "id": "662fe57a1da9cc5",
   "metadata": {
    "ExecuteTime": {
     "end_time": "2024-11-06T13:52:20.588344400Z",
     "start_time": "2024-11-06T13:52:20.573180Z"
    }
   },
   "outputs": [
    {
     "data": {
      "text/plain": [
       "0.03931561756956373"
      ]
     },
     "execution_count": 3,
     "metadata": {},
     "output_type": "execute_result"
    }
   ],
   "source": [
    "clean_price = 101.34375\n",
    "bond.bey_from_clean_price(clean_price, settlement_date)"
   ]
  },
  {
   "cell_type": "code",
   "execution_count": 4,
   "id": "ca8d491fb8fc6358",
   "metadata": {
    "ExecuteTime": {
     "end_time": "2024-11-06T13:52:40.283128700Z",
     "start_time": "2024-11-06T13:52:40.266099900Z"
    }
   },
   "outputs": [
    {
     "data": {
      "text/plain": [
       "103.48125000000003"
      ]
     },
     "execution_count": 4,
     "metadata": {},
     "output_type": "execute_result"
    }
   ],
   "source": [
    "bond.dirty_price_from_bey(0.03931561756956373, \"09/02/2024\")"
   ]
  },
  {
   "cell_type": "code",
   "execution_count": 5,
   "id": "99bb0f4a245d2a0b",
   "metadata": {
    "ExecuteTime": {
     "end_time": "2024-11-06T13:52:42.148585500Z",
     "start_time": "2024-11-06T13:52:42.117585900Z"
    }
   },
   "outputs": [
    {
     "data": {
      "text/plain": [
       "1.8912201833691387"
      ]
     },
     "execution_count": 5,
     "metadata": {},
     "output_type": "execute_result"
    }
   ],
   "source": [
    "bond.modified_duration(0.03931561756956373, \"09/02/2024\")"
   ]
  },
  {
   "cell_type": "code",
   "execution_count": 7,
   "id": "c373029f6d5dd7da",
   "metadata": {
    "ExecuteTime": {
     "end_time": "2024-11-06T13:52:46.715402600Z",
     "start_time": "2024-11-06T13:52:46.710928400Z"
    }
   },
   "outputs": [],
   "source": [
    "#Example Usage 2\n",
    "a= CouponBond(\"03/01/2021\", \"02/29/2028\", 0.01125)  \n",
    "settlement_date = \"09/02/2024\""
   ]
  },
  {
   "cell_type": "code",
   "execution_count": 8,
   "id": "4b9d2b89c3897aac",
   "metadata": {
    "ExecuteTime": {
     "end_time": "2024-11-06T13:52:47.873969900Z",
     "start_time": "2024-11-06T13:52:47.851970Z"
    }
   },
   "outputs": [
    {
     "data": {
      "text/plain": [
       "[{'date': datetime.datetime(2025, 2, 28, 0, 0),\n",
       "  'cashflow': 0.5625,\n",
       "  'earned_days': 179,\n",
       "  'coupon_period_days': 183},\n",
       " {'date': datetime.datetime(2025, 8, 29, 0, 0),\n",
       "  'cashflow': 0.5625,\n",
       "  'earned_days': 182,\n",
       "  'coupon_period_days': 182},\n",
       " {'date': datetime.datetime(2026, 3, 2, 0, 0),\n",
       "  'cashflow': 0.5625,\n",
       "  'earned_days': 185,\n",
       "  'coupon_period_days': 185},\n",
       " {'date': datetime.datetime(2026, 8, 31, 0, 0),\n",
       "  'cashflow': 0.5625,\n",
       "  'earned_days': 182,\n",
       "  'coupon_period_days': 182},\n",
       " {'date': datetime.datetime(2027, 3, 1, 0, 0),\n",
       "  'cashflow': 0.5625,\n",
       "  'earned_days': 182,\n",
       "  'coupon_period_days': 182},\n",
       " {'date': datetime.datetime(2027, 8, 30, 0, 0),\n",
       "  'cashflow': 0.5625,\n",
       "  'earned_days': 182,\n",
       "  'coupon_period_days': 182},\n",
       " {'date': datetime.datetime(2028, 2, 29, 0, 0),\n",
       "  'cashflow': 100.5625,\n",
       "  'earned_days': 183,\n",
       "  'coupon_period_days': 183}]"
      ]
     },
     "execution_count": 8,
     "metadata": {},
     "output_type": "execute_result"
    }
   ],
   "source": [
    "a.future_cashflow(settlement_date)"
   ]
  },
  {
   "cell_type": "code",
   "execution_count": 9,
   "id": "6283e20bb5cad821",
   "metadata": {
    "ExecuteTime": {
     "end_time": "2024-11-06T13:52:49.525357400Z",
     "start_time": "2024-11-06T13:52:49.498852Z"
    }
   },
   "outputs": [
    {
     "data": {
      "text/plain": [
       "(0.012295081967213115, 4, 183)"
      ]
     },
     "execution_count": 9,
     "metadata": {},
     "output_type": "execute_result"
    }
   ],
   "source": [
    "a.accrued_interest(settlement_date)"
   ]
  },
  {
   "cell_type": "code",
   "execution_count": 10,
   "id": "281118e54cd1d9d1",
   "metadata": {
    "ExecuteTime": {
     "end_time": "2024-11-06T13:52:51.407480100Z",
     "start_time": "2024-11-06T13:52:51.389827300Z"
    }
   },
   "outputs": [
    {
     "data": {
      "text/plain": [
       "0.03787186265193255"
      ]
     },
     "execution_count": 10,
     "metadata": {},
     "output_type": "execute_result"
    }
   ],
   "source": [
    "clean_price = 91.375\n",
    "a.bey_from_clean_price(clean_price, settlement_date)"
   ]
  },
  {
   "cell_type": "code",
   "execution_count": 11,
   "id": "68654ed6d76f60f",
   "metadata": {
    "ExecuteTime": {
     "end_time": "2024-11-06T13:52:52.764047800Z",
     "start_time": "2024-11-06T13:52:52.751046400Z"
    }
   },
   "outputs": [
    {
     "data": {
      "text/plain": [
       "91.38729508196717"
      ]
     },
     "execution_count": 11,
     "metadata": {},
     "output_type": "execute_result"
    }
   ],
   "source": [
    "a.dirty_price_from_bey(0.03787186265193255, \"09/02/2024\")"
   ]
  },
  {
   "cell_type": "code",
   "execution_count": 12,
   "id": "bad18ad1504c6d46",
   "metadata": {
    "ExecuteTime": {
     "end_time": "2024-11-06T13:52:57.110586300Z",
     "start_time": "2024-11-06T13:52:57.098836300Z"
    }
   },
   "outputs": [
    {
     "data": {
      "text/plain": [
       "3.3638490731177177"
      ]
     },
     "execution_count": 12,
     "metadata": {},
     "output_type": "execute_result"
    }
   ],
   "source": [
    "a.modified_duration(0.037871845, \"09/02/2024\")"
   ]
  },
  {
   "cell_type": "code",
   "execution_count": 11,
   "id": "eb7bd103de3a5cff",
   "metadata": {
    "ExecuteTime": {
     "end_time": "2024-11-01T20:13:05.028911800Z",
     "start_time": "2024-11-01T20:13:05.018407400Z"
    }
   },
   "outputs": [],
   "source": [
    "b= CouponBond(\"02/15/2001\", \"02/15/2031\", 0.05375)\n",
    "settlement_date = \"09/02/2024\""
   ]
  },
  {
   "cell_type": "code",
   "execution_count": 12,
   "id": "9478937a1c75baf1",
   "metadata": {
    "ExecuteTime": {
     "end_time": "2024-11-01T20:13:05.787890500Z",
     "start_time": "2024-11-01T20:13:05.768111100Z"
    }
   },
   "outputs": [
    {
     "data": {
      "text/plain": [
       "[{'date': datetime.datetime(2025, 2, 17, 0, 0),\n",
       "  'cashflow': 2.6875,\n",
       "  'earned_days': 168,\n",
       "  'coupon_period_days': 186},\n",
       " {'date': datetime.datetime(2025, 8, 15, 0, 0),\n",
       "  'cashflow': 2.6875,\n",
       "  'earned_days': 179,\n",
       "  'coupon_period_days': 179},\n",
       " {'date': datetime.datetime(2026, 2, 16, 0, 0),\n",
       "  'cashflow': 2.6875,\n",
       "  'earned_days': 185,\n",
       "  'coupon_period_days': 185},\n",
       " {'date': datetime.datetime(2026, 8, 17, 0, 0),\n",
       "  'cashflow': 2.6875,\n",
       "  'earned_days': 182,\n",
       "  'coupon_period_days': 182},\n",
       " {'date': datetime.datetime(2027, 2, 15, 0, 0),\n",
       "  'cashflow': 2.6875,\n",
       "  'earned_days': 182,\n",
       "  'coupon_period_days': 182},\n",
       " {'date': datetime.datetime(2027, 8, 16, 0, 0),\n",
       "  'cashflow': 2.6875,\n",
       "  'earned_days': 182,\n",
       "  'coupon_period_days': 182},\n",
       " {'date': datetime.datetime(2028, 2, 15, 0, 0),\n",
       "  'cashflow': 2.6875,\n",
       "  'earned_days': 183,\n",
       "  'coupon_period_days': 183},\n",
       " {'date': datetime.datetime(2028, 8, 15, 0, 0),\n",
       "  'cashflow': 2.6875,\n",
       "  'earned_days': 182,\n",
       "  'coupon_period_days': 182},\n",
       " {'date': datetime.datetime(2029, 2, 15, 0, 0),\n",
       "  'cashflow': 2.6875,\n",
       "  'earned_days': 184,\n",
       "  'coupon_period_days': 184},\n",
       " {'date': datetime.datetime(2029, 8, 15, 0, 0),\n",
       "  'cashflow': 2.6875,\n",
       "  'earned_days': 181,\n",
       "  'coupon_period_days': 181},\n",
       " {'date': datetime.datetime(2030, 2, 15, 0, 0),\n",
       "  'cashflow': 2.6875,\n",
       "  'earned_days': 184,\n",
       "  'coupon_period_days': 184},\n",
       " {'date': datetime.datetime(2030, 8, 15, 0, 0),\n",
       "  'cashflow': 2.6875,\n",
       "  'earned_days': 181,\n",
       "  'coupon_period_days': 181},\n",
       " {'date': datetime.datetime(2031, 2, 17, 0, 0),\n",
       "  'cashflow': 102.6875,\n",
       "  'earned_days': 186,\n",
       "  'coupon_period_days': 186}]"
      ]
     },
     "execution_count": 12,
     "metadata": {},
     "output_type": "execute_result"
    }
   ],
   "source": [
    "b.future_cashflow(settlement_date)"
   ]
  },
  {
   "cell_type": "code",
   "execution_count": 731,
   "id": "8fedf981e76a28c0",
   "metadata": {
    "ExecuteTime": {
     "end_time": "2024-11-01T20:13:12.360993400Z",
     "start_time": "2024-11-01T20:13:12.350486600Z"
    }
   },
   "outputs": [
    {
     "data": {
      "text/plain": [
       "(0.2600806451612903, 18, 186)"
      ]
     },
     "execution_count": 731,
     "metadata": {},
     "output_type": "execute_result"
    }
   ],
   "source": [
    "b.accrued_interest(settlement_date)"
   ]
  },
  {
   "cell_type": "code",
   "execution_count": 732,
   "id": "6cf4b66fa50110b4",
   "metadata": {
    "ExecuteTime": {
     "end_time": "2024-11-01T20:13:18.015164600Z",
     "start_time": "2024-11-01T20:13:18.000919400Z"
    }
   },
   "outputs": [
    {
     "data": {
      "text/plain": [
       "0.0376291732233672"
      ]
     },
     "execution_count": 732,
     "metadata": {},
     "output_type": "execute_result"
    }
   ],
   "source": [
    "clean_price = 109.15625\n",
    "b.bey_from_clean_price(clean_price, settlement_date)"
   ]
  },
  {
   "cell_type": "code",
   "execution_count": 734,
   "id": "f2f6714bf1cd15e1",
   "metadata": {
    "ExecuteTime": {
     "end_time": "2024-11-01T20:13:35.006242Z",
     "start_time": "2024-11-01T20:13:34.989733200Z"
    }
   },
   "outputs": [
    {
     "data": {
      "text/plain": [
       "109.41633064516128"
      ]
     },
     "execution_count": 734,
     "metadata": {},
     "output_type": "execute_result"
    }
   ],
   "source": [
    "b.dirty_price_from_bey(0.0376291732233672, \"09/02/2024\")"
   ]
  },
  {
   "cell_type": "code",
   "execution_count": 735,
   "id": "38eedf479b9ab766",
   "metadata": {
    "ExecuteTime": {
     "end_time": "2024-11-01T20:13:37.216255Z",
     "start_time": "2024-11-01T20:13:37.212751300Z"
    }
   },
   "outputs": [
    {
     "data": {
      "text/plain": [
       "7.114947474536079"
      ]
     },
     "execution_count": 735,
     "metadata": {},
     "output_type": "execute_result"
    }
   ],
   "source": [
    "b.modified_duration(-0.2694862525964172, \"09/02/2024\")"
   ]
  },
  {
   "cell_type": "code",
   "execution_count": null,
   "id": "a5ed4a711fb06ce3",
   "metadata": {},
   "outputs": [],
   "source": [
    "#######Part b"
   ]
  },
  {
   "cell_type": "code",
   "execution_count": 13,
   "id": "c4f6b28e256c3fd5",
   "metadata": {
    "ExecuteTime": {
     "end_time": "2024-11-06T13:54:50.456230Z",
     "start_time": "2024-11-06T13:54:49.879571100Z"
    }
   },
   "outputs": [],
   "source": [
    "import pandas as pd\n",
    "bills_notes_bonds = pd.read_csv('BillsNotesBondsOutstanding_20240831.csv')\n",
    "coupon_security_prices = pd.read_csv('CouponSecurityPrices_20240831.csv')"
   ]
  },
  {
   "cell_type": "code",
   "execution_count": 14,
   "id": "5fb7f2d7255afede",
   "metadata": {
    "ExecuteTime": {
     "end_time": "2024-11-06T13:54:52.992807800Z",
     "start_time": "2024-11-06T13:54:52.949299100Z"
    }
   },
   "outputs": [
    {
     "data": {
      "text/html": [
       "<div>\n",
       "<style scoped>\n",
       "    .dataframe tbody tr th:only-of-type {\n",
       "        vertical-align: middle;\n",
       "    }\n",
       "\n",
       "    .dataframe tbody tr th {\n",
       "        vertical-align: top;\n",
       "    }\n",
       "\n",
       "    .dataframe thead th {\n",
       "        text-align: right;\n",
       "    }\n",
       "</style>\n",
       "<table border=\"1\" class=\"dataframe\">\n",
       "  <thead>\n",
       "    <tr style=\"text-align: right;\">\n",
       "      <th></th>\n",
       "      <th>SettlementDate</th>\n",
       "      <th>CUSIP</th>\n",
       "      <th>CouponRate</th>\n",
       "      <th>MaturityDate</th>\n",
       "      <th>CleanPrice</th>\n",
       "      <th>IssueDate</th>\n",
       "    </tr>\n",
       "  </thead>\n",
       "  <tbody>\n",
       "    <tr>\n",
       "      <th>0</th>\n",
       "      <td>09/02/2024</td>\n",
       "      <td>91282CCX7</td>\n",
       "      <td>0.00375</td>\n",
       "      <td>09/15/2024</td>\n",
       "      <td>99.81250</td>\n",
       "      <td>09/15/2021</td>\n",
       "    </tr>\n",
       "    <tr>\n",
       "      <th>1</th>\n",
       "      <td>09/02/2024</td>\n",
       "      <td>912828YH7</td>\n",
       "      <td>0.01500</td>\n",
       "      <td>09/30/2024</td>\n",
       "      <td>99.71875</td>\n",
       "      <td>09/30/2019</td>\n",
       "    </tr>\n",
       "    <tr>\n",
       "      <th>2</th>\n",
       "      <td>09/02/2024</td>\n",
       "      <td>9128282Y5</td>\n",
       "      <td>0.02125</td>\n",
       "      <td>09/30/2024</td>\n",
       "      <td>99.78125</td>\n",
       "      <td>10/02/2017</td>\n",
       "    </tr>\n",
       "    <tr>\n",
       "      <th>3</th>\n",
       "      <td>09/02/2024</td>\n",
       "      <td>91282CFN6</td>\n",
       "      <td>0.04250</td>\n",
       "      <td>09/30/2024</td>\n",
       "      <td>99.90625</td>\n",
       "      <td>09/30/2022</td>\n",
       "    </tr>\n",
       "    <tr>\n",
       "      <th>4</th>\n",
       "      <td>09/02/2024</td>\n",
       "      <td>91282CDB4</td>\n",
       "      <td>0.00625</td>\n",
       "      <td>10/15/2024</td>\n",
       "      <td>99.46875</td>\n",
       "      <td>10/15/2021</td>\n",
       "    </tr>\n",
       "    <tr>\n",
       "      <th>...</th>\n",
       "      <td>...</td>\n",
       "      <td>...</td>\n",
       "      <td>...</td>\n",
       "      <td>...</td>\n",
       "      <td>...</td>\n",
       "      <td>...</td>\n",
       "    </tr>\n",
       "    <tr>\n",
       "      <th>581</th>\n",
       "      <td>09/02/2024</td>\n",
       "      <td>912810TX6</td>\n",
       "      <td>0.04250</td>\n",
       "      <td>02/15/2054</td>\n",
       "      <td>100.62500</td>\n",
       "      <td>04/15/2024</td>\n",
       "    </tr>\n",
       "    <tr>\n",
       "      <th>582</th>\n",
       "      <td>09/02/2024</td>\n",
       "      <td>912810UA4</td>\n",
       "      <td>0.04625</td>\n",
       "      <td>05/15/2054</td>\n",
       "      <td>107.12500</td>\n",
       "      <td>05/15/2024</td>\n",
       "    </tr>\n",
       "    <tr>\n",
       "      <th>583</th>\n",
       "      <td>09/02/2024</td>\n",
       "      <td>912810UA4</td>\n",
       "      <td>0.04625</td>\n",
       "      <td>05/15/2054</td>\n",
       "      <td>107.12500</td>\n",
       "      <td>06/17/2024</td>\n",
       "    </tr>\n",
       "    <tr>\n",
       "      <th>584</th>\n",
       "      <td>09/02/2024</td>\n",
       "      <td>912810UA4</td>\n",
       "      <td>0.04625</td>\n",
       "      <td>05/15/2054</td>\n",
       "      <td>107.12500</td>\n",
       "      <td>07/15/2024</td>\n",
       "    </tr>\n",
       "    <tr>\n",
       "      <th>585</th>\n",
       "      <td>09/02/2024</td>\n",
       "      <td>912810UC0</td>\n",
       "      <td>0.04250</td>\n",
       "      <td>08/15/2054</td>\n",
       "      <td>100.87500</td>\n",
       "      <td>08/15/2024</td>\n",
       "    </tr>\n",
       "  </tbody>\n",
       "</table>\n",
       "<p>586 rows × 6 columns</p>\n",
       "</div>"
      ],
      "text/plain": [
       "    SettlementDate      CUSIP  CouponRate MaturityDate  CleanPrice   IssueDate\n",
       "0       09/02/2024  91282CCX7     0.00375   09/15/2024    99.81250  09/15/2021\n",
       "1       09/02/2024  912828YH7     0.01500   09/30/2024    99.71875  09/30/2019\n",
       "2       09/02/2024  9128282Y5     0.02125   09/30/2024    99.78125  10/02/2017\n",
       "3       09/02/2024  91282CFN6     0.04250   09/30/2024    99.90625  09/30/2022\n",
       "4       09/02/2024  91282CDB4     0.00625   10/15/2024    99.46875  10/15/2021\n",
       "..             ...        ...         ...          ...         ...         ...\n",
       "581     09/02/2024  912810TX6     0.04250   02/15/2054   100.62500  04/15/2024\n",
       "582     09/02/2024  912810UA4     0.04625   05/15/2054   107.12500  05/15/2024\n",
       "583     09/02/2024  912810UA4     0.04625   05/15/2054   107.12500  06/17/2024\n",
       "584     09/02/2024  912810UA4     0.04625   05/15/2054   107.12500  07/15/2024\n",
       "585     09/02/2024  912810UC0     0.04250   08/15/2054   100.87500  08/15/2024\n",
       "\n",
       "[586 rows x 6 columns]"
      ]
     },
     "execution_count": 14,
     "metadata": {},
     "output_type": "execute_result"
    }
   ],
   "source": [
    "bills_notes_bonds.columns = bills_notes_bonds.iloc[0]  \n",
    "bills_notes_bonds = bills_notes_bonds[1:]  \n",
    "\n",
    "\n",
    "bills_notes_bonds = bills_notes_bonds[['CUSIP', 'IssueDate']]\n",
    "bills_notes_bonds['IssueDate'] = pd.to_datetime(bills_notes_bonds['IssueDate'], errors='coerce')\n",
    "\n",
    "\n",
    "coupon_security_prices = coupon_security_prices.merge(bills_notes_bonds, on='CUSIP', how='inner')\n",
    "coupon_security_prices['MaturityDate'] = pd.to_datetime(coupon_security_prices['MaturityDate'], errors='coerce')\n",
    "coupon_security_prices['SettlementDate'] = pd.to_datetime(coupon_security_prices['SettlementDate'], errors='coerce')\n",
    "coupon_security_prices['IssueDate'] = pd.to_datetime(coupon_security_prices['IssueDate'], errors='coerce')\n",
    "\n",
    "\n",
    "coupon_security_prices['MaturityDate'] = coupon_security_prices['MaturityDate'].dt.strftime('%m/%d/%Y')\n",
    "coupon_security_prices['SettlementDate'] = coupon_security_prices['SettlementDate'].dt.strftime('%m/%d/%Y')\n",
    "coupon_security_prices['IssueDate'] = coupon_security_prices['IssueDate'].dt.strftime('%m/%d/%Y')\n",
    "df = coupon_security_prices\n",
    "# Display the merged DataFrame\n",
    "df"
   ]
  },
  {
   "cell_type": "code",
   "execution_count": 15,
   "id": "99b7254b96bcd3f8",
   "metadata": {
    "ExecuteTime": {
     "end_time": "2024-11-06T13:54:56.622111500Z",
     "start_time": "2024-11-06T13:54:56.603112600Z"
    }
   },
   "outputs": [
    {
     "data": {
      "text/html": [
       "<div>\n",
       "<style scoped>\n",
       "    .dataframe tbody tr th:only-of-type {\n",
       "        vertical-align: middle;\n",
       "    }\n",
       "\n",
       "    .dataframe tbody tr th {\n",
       "        vertical-align: top;\n",
       "    }\n",
       "\n",
       "    .dataframe thead th {\n",
       "        text-align: right;\n",
       "    }\n",
       "</style>\n",
       "<table border=\"1\" class=\"dataframe\">\n",
       "  <thead>\n",
       "    <tr style=\"text-align: right;\">\n",
       "      <th></th>\n",
       "      <th>SettlementDate</th>\n",
       "      <th>CUSIP</th>\n",
       "      <th>CouponRate</th>\n",
       "      <th>MaturityDate</th>\n",
       "      <th>CleanPrice</th>\n",
       "      <th>IssueDate</th>\n",
       "      <th>BEY</th>\n",
       "      <th>ModifiedDuration</th>\n",
       "    </tr>\n",
       "  </thead>\n",
       "  <tbody>\n",
       "    <tr>\n",
       "      <th>0</th>\n",
       "      <td>09/02/2024</td>\n",
       "      <td>91282CCX7</td>\n",
       "      <td>0.00375</td>\n",
       "      <td>09/15/2024</td>\n",
       "      <td>99.81250</td>\n",
       "      <td>09/15/2021</td>\n",
       "      <td>0.053973</td>\n",
       "      <td>0.036844</td>\n",
       "    </tr>\n",
       "    <tr>\n",
       "      <th>1</th>\n",
       "      <td>09/02/2024</td>\n",
       "      <td>912828YH7</td>\n",
       "      <td>0.01500</td>\n",
       "      <td>09/30/2024</td>\n",
       "      <td>99.71875</td>\n",
       "      <td>09/30/2019</td>\n",
       "      <td>0.051943</td>\n",
       "      <td>0.074976</td>\n",
       "    </tr>\n",
       "    <tr>\n",
       "      <th>2</th>\n",
       "      <td>09/02/2024</td>\n",
       "      <td>9128282Y5</td>\n",
       "      <td>0.02125</td>\n",
       "      <td>09/30/2024</td>\n",
       "      <td>99.78125</td>\n",
       "      <td>10/02/2017</td>\n",
       "      <td>0.049870</td>\n",
       "      <td>0.075052</td>\n",
       "    </tr>\n",
       "    <tr>\n",
       "      <th>3</th>\n",
       "      <td>09/02/2024</td>\n",
       "      <td>91282CFN6</td>\n",
       "      <td>0.04250</td>\n",
       "      <td>09/30/2024</td>\n",
       "      <td>99.90625</td>\n",
       "      <td>09/30/2022</td>\n",
       "      <td>0.054387</td>\n",
       "      <td>0.074887</td>\n",
       "    </tr>\n",
       "    <tr>\n",
       "      <th>4</th>\n",
       "      <td>09/02/2024</td>\n",
       "      <td>91282CDB4</td>\n",
       "      <td>0.00625</td>\n",
       "      <td>10/15/2024</td>\n",
       "      <td>99.46875</td>\n",
       "      <td>10/15/2021</td>\n",
       "      <td>0.052131</td>\n",
       "      <td>0.114502</td>\n",
       "    </tr>\n",
       "    <tr>\n",
       "      <th>...</th>\n",
       "      <td>...</td>\n",
       "      <td>...</td>\n",
       "      <td>...</td>\n",
       "      <td>...</td>\n",
       "      <td>...</td>\n",
       "      <td>...</td>\n",
       "      <td>...</td>\n",
       "      <td>...</td>\n",
       "    </tr>\n",
       "    <tr>\n",
       "      <th>581</th>\n",
       "      <td>09/02/2024</td>\n",
       "      <td>912810TX6</td>\n",
       "      <td>0.04250</td>\n",
       "      <td>02/15/2054</td>\n",
       "      <td>100.62500</td>\n",
       "      <td>04/15/2024</td>\n",
       "      <td>0.042126</td>\n",
       "      <td>16.719843</td>\n",
       "    </tr>\n",
       "    <tr>\n",
       "      <th>582</th>\n",
       "      <td>09/02/2024</td>\n",
       "      <td>912810UA4</td>\n",
       "      <td>0.04625</td>\n",
       "      <td>05/15/2054</td>\n",
       "      <td>107.12500</td>\n",
       "      <td>05/15/2024</td>\n",
       "      <td>0.042025</td>\n",
       "      <td>16.334763</td>\n",
       "    </tr>\n",
       "    <tr>\n",
       "      <th>583</th>\n",
       "      <td>09/02/2024</td>\n",
       "      <td>912810UA4</td>\n",
       "      <td>0.04625</td>\n",
       "      <td>05/15/2054</td>\n",
       "      <td>107.12500</td>\n",
       "      <td>06/17/2024</td>\n",
       "      <td>0.042025</td>\n",
       "      <td>16.334763</td>\n",
       "    </tr>\n",
       "    <tr>\n",
       "      <th>584</th>\n",
       "      <td>09/02/2024</td>\n",
       "      <td>912810UA4</td>\n",
       "      <td>0.04625</td>\n",
       "      <td>05/15/2054</td>\n",
       "      <td>107.12500</td>\n",
       "      <td>07/15/2024</td>\n",
       "      <td>0.042025</td>\n",
       "      <td>16.334763</td>\n",
       "    </tr>\n",
       "    <tr>\n",
       "      <th>585</th>\n",
       "      <td>09/02/2024</td>\n",
       "      <td>912810UC0</td>\n",
       "      <td>0.04250</td>\n",
       "      <td>08/15/2054</td>\n",
       "      <td>100.87500</td>\n",
       "      <td>08/15/2024</td>\n",
       "      <td>0.041983</td>\n",
       "      <td>16.879686</td>\n",
       "    </tr>\n",
       "  </tbody>\n",
       "</table>\n",
       "<p>586 rows × 8 columns</p>\n",
       "</div>"
      ],
      "text/plain": [
       "    SettlementDate      CUSIP  CouponRate MaturityDate  CleanPrice  \\\n",
       "0       09/02/2024  91282CCX7     0.00375   09/15/2024    99.81250   \n",
       "1       09/02/2024  912828YH7     0.01500   09/30/2024    99.71875   \n",
       "2       09/02/2024  9128282Y5     0.02125   09/30/2024    99.78125   \n",
       "3       09/02/2024  91282CFN6     0.04250   09/30/2024    99.90625   \n",
       "4       09/02/2024  91282CDB4     0.00625   10/15/2024    99.46875   \n",
       "..             ...        ...         ...          ...         ...   \n",
       "581     09/02/2024  912810TX6     0.04250   02/15/2054   100.62500   \n",
       "582     09/02/2024  912810UA4     0.04625   05/15/2054   107.12500   \n",
       "583     09/02/2024  912810UA4     0.04625   05/15/2054   107.12500   \n",
       "584     09/02/2024  912810UA4     0.04625   05/15/2054   107.12500   \n",
       "585     09/02/2024  912810UC0     0.04250   08/15/2054   100.87500   \n",
       "\n",
       "      IssueDate       BEY  ModifiedDuration  \n",
       "0    09/15/2021  0.053973          0.036844  \n",
       "1    09/30/2019  0.051943          0.074976  \n",
       "2    10/02/2017  0.049870          0.075052  \n",
       "3    09/30/2022  0.054387          0.074887  \n",
       "4    10/15/2021  0.052131          0.114502  \n",
       "..          ...       ...               ...  \n",
       "581  04/15/2024  0.042126         16.719843  \n",
       "582  05/15/2024  0.042025         16.334763  \n",
       "583  06/17/2024  0.042025         16.334763  \n",
       "584  07/15/2024  0.042025         16.334763  \n",
       "585  08/15/2024  0.041983         16.879686  \n",
       "\n",
       "[586 rows x 8 columns]"
      ]
     },
     "execution_count": 15,
     "metadata": {},
     "output_type": "execute_result"
    }
   ],
   "source": [
    "\n",
    "def calculate_bey_and_duration(df):\n",
    "    beys = []\n",
    "    mod_durations = []\n",
    "\n",
    "    for index, row in df.iterrows():\n",
    "        try:\n",
    "            \n",
    "            bond = CouponBond(\n",
    "                issue_date=row['IssueDate'],  \n",
    "                maturity_date=row['MaturityDate'],\n",
    "                coupon_rate=row['CouponRate'],  \n",
    "                face_value=row['FaceValue'] if 'FaceValue' in row else 100  # Default to 100 if FaceValue not provided\n",
    "            )\n",
    "\n",
    "            \n",
    "            clean_price = row['CleanPrice']  \n",
    "            settlement_date = row['SettlementDate']  \n",
    "            bey = bond.bey_from_clean_price(clean_price, settlement_date)\n",
    "            beys.append(bey)\n",
    "\n",
    "            \n",
    "            mod_duration = bond.modified_duration(bey, settlement_date)\n",
    "            mod_durations.append(mod_duration)\n",
    "\n",
    "        except Exception as e:\n",
    "            beys.append(float('nan'))\n",
    "            mod_durations.append(float('nan'))\n",
    "            print(f\"Error processing bond at index {index}: {e}\")\n",
    "\n",
    "    \n",
    "    df['BEY'] = beys\n",
    "    df['ModifiedDuration'] = mod_durations\n",
    "\n",
    "    return df\n",
    "\n",
    "\n",
    "coupon_security_prices = calculate_bey_and_duration(coupon_security_prices)\n",
    "\n",
    "\n",
    "coupon_security_prices\n"
   ]
  },
  {
   "cell_type": "code",
   "execution_count": 16,
   "id": "9fe5a1f8-fe65-461b-a3e9-2f4dc1d963e9",
   "metadata": {
    "ExecuteTime": {
     "end_time": "2024-11-06T13:55:05.413315100Z",
     "start_time": "2024-11-06T13:55:05.389009300Z"
    }
   },
   "outputs": [
    {
     "name": "stdout",
     "output_type": "stream",
     "text": [
      "<class 'pandas.core.frame.DataFrame'>\n",
      "RangeIndex: 340 entries, 0 to 339\n",
      "Data columns (total 5 columns):\n",
      " #   Column          Non-Null Count  Dtype  \n",
      "---  ------          --------------  -----  \n",
      " 0   SettlementDate  340 non-null    object \n",
      " 1   CUSIP           340 non-null    object \n",
      " 2   CouponRate      340 non-null    float64\n",
      " 3   MaturityDate    340 non-null    object \n",
      " 4   CleanPrice      340 non-null    float64\n",
      "dtypes: float64(2), object(3)\n",
      "memory usage: 13.4+ KB\n"
     ]
    }
   ],
   "source": [
    "coupon_security_original = pd.read_csv('CouponSecurityPrices_20240831.csv')\n",
    "coupon_security_original.info()"
   ]
  },
  {
   "cell_type": "code",
   "execution_count": 17,
   "id": "25de8984-c77f-4b98-a9f6-5898fa3023ec",
   "metadata": {
    "ExecuteTime": {
     "end_time": "2024-11-06T13:55:08.750191200Z",
     "start_time": "2024-11-06T13:55:08.606415600Z"
    }
   },
   "outputs": [
    {
     "data": {
      "text/html": [
       "<div>\n",
       "<style scoped>\n",
       "    .dataframe tbody tr th:only-of-type {\n",
       "        vertical-align: middle;\n",
       "    }\n",
       "\n",
       "    .dataframe tbody tr th {\n",
       "        vertical-align: top;\n",
       "    }\n",
       "\n",
       "    .dataframe thead th {\n",
       "        text-align: right;\n",
       "    }\n",
       "</style>\n",
       "<table border=\"1\" class=\"dataframe\">\n",
       "  <thead>\n",
       "    <tr style=\"text-align: right;\">\n",
       "      <th></th>\n",
       "      <th>SettlementDate</th>\n",
       "      <th>CUSIP</th>\n",
       "      <th>CouponRate</th>\n",
       "      <th>MaturityDate</th>\n",
       "      <th>CleanPrice</th>\n",
       "      <th>yield</th>\n",
       "      <th>moddur</th>\n",
       "    </tr>\n",
       "  </thead>\n",
       "  <tbody>\n",
       "    <tr>\n",
       "      <th>0</th>\n",
       "      <td>09/02/2024</td>\n",
       "      <td>91282CCX7</td>\n",
       "      <td>0.00375</td>\n",
       "      <td>09/15/2024</td>\n",
       "      <td>99.81250</td>\n",
       "      <td>0.053973</td>\n",
       "      <td>0.036844</td>\n",
       "    </tr>\n",
       "    <tr>\n",
       "      <th>0</th>\n",
       "      <td>09/02/2024</td>\n",
       "      <td>912828YH7</td>\n",
       "      <td>0.01500</td>\n",
       "      <td>09/30/2024</td>\n",
       "      <td>99.71875</td>\n",
       "      <td>0.051943</td>\n",
       "      <td>0.074976</td>\n",
       "    </tr>\n",
       "    <tr>\n",
       "      <th>0</th>\n",
       "      <td>09/02/2024</td>\n",
       "      <td>9128282Y5</td>\n",
       "      <td>0.02125</td>\n",
       "      <td>09/30/2024</td>\n",
       "      <td>99.78125</td>\n",
       "      <td>0.049870</td>\n",
       "      <td>0.075052</td>\n",
       "    </tr>\n",
       "    <tr>\n",
       "      <th>0</th>\n",
       "      <td>09/02/2024</td>\n",
       "      <td>91282CFN6</td>\n",
       "      <td>0.04250</td>\n",
       "      <td>09/30/2024</td>\n",
       "      <td>99.90625</td>\n",
       "      <td>0.054387</td>\n",
       "      <td>0.074887</td>\n",
       "    </tr>\n",
       "    <tr>\n",
       "      <th>0</th>\n",
       "      <td>09/02/2024</td>\n",
       "      <td>91282CDB4</td>\n",
       "      <td>0.00625</td>\n",
       "      <td>10/15/2024</td>\n",
       "      <td>99.46875</td>\n",
       "      <td>0.052131</td>\n",
       "      <td>0.114502</td>\n",
       "    </tr>\n",
       "    <tr>\n",
       "      <th>...</th>\n",
       "      <td>...</td>\n",
       "      <td>...</td>\n",
       "      <td>...</td>\n",
       "      <td>...</td>\n",
       "      <td>...</td>\n",
       "      <td>...</td>\n",
       "      <td>...</td>\n",
       "    </tr>\n",
       "    <tr>\n",
       "      <th>0</th>\n",
       "      <td>09/02/2024</td>\n",
       "      <td>912810TT5</td>\n",
       "      <td>0.04125</td>\n",
       "      <td>08/15/2053</td>\n",
       "      <td>98.43750</td>\n",
       "      <td>0.042189</td>\n",
       "      <td>16.671970</td>\n",
       "    </tr>\n",
       "    <tr>\n",
       "      <th>0</th>\n",
       "      <td>09/02/2024</td>\n",
       "      <td>912810TV0</td>\n",
       "      <td>0.04750</td>\n",
       "      <td>11/15/2053</td>\n",
       "      <td>109.18750</td>\n",
       "      <td>0.042006</td>\n",
       "      <td>16.105516</td>\n",
       "    </tr>\n",
       "    <tr>\n",
       "      <th>0</th>\n",
       "      <td>09/02/2024</td>\n",
       "      <td>912810TX6</td>\n",
       "      <td>0.04250</td>\n",
       "      <td>02/15/2054</td>\n",
       "      <td>100.62500</td>\n",
       "      <td>0.042126</td>\n",
       "      <td>16.719843</td>\n",
       "    </tr>\n",
       "    <tr>\n",
       "      <th>0</th>\n",
       "      <td>09/02/2024</td>\n",
       "      <td>912810UA4</td>\n",
       "      <td>0.04625</td>\n",
       "      <td>05/15/2054</td>\n",
       "      <td>107.12500</td>\n",
       "      <td>0.042025</td>\n",
       "      <td>16.334763</td>\n",
       "    </tr>\n",
       "    <tr>\n",
       "      <th>0</th>\n",
       "      <td>09/02/2024</td>\n",
       "      <td>912810UC0</td>\n",
       "      <td>0.04250</td>\n",
       "      <td>08/15/2054</td>\n",
       "      <td>100.87500</td>\n",
       "      <td>0.041983</td>\n",
       "      <td>16.879686</td>\n",
       "    </tr>\n",
       "  </tbody>\n",
       "</table>\n",
       "<p>340 rows × 7 columns</p>\n",
       "</div>"
      ],
      "text/plain": [
       "   SettlementDate      CUSIP  CouponRate MaturityDate  CleanPrice     yield  \\\n",
       "0      09/02/2024  91282CCX7     0.00375   09/15/2024    99.81250  0.053973   \n",
       "0      09/02/2024  912828YH7     0.01500   09/30/2024    99.71875  0.051943   \n",
       "0      09/02/2024  9128282Y5     0.02125   09/30/2024    99.78125  0.049870   \n",
       "0      09/02/2024  91282CFN6     0.04250   09/30/2024    99.90625  0.054387   \n",
       "0      09/02/2024  91282CDB4     0.00625   10/15/2024    99.46875  0.052131   \n",
       "..            ...        ...         ...          ...         ...       ...   \n",
       "0      09/02/2024  912810TT5     0.04125   08/15/2053    98.43750  0.042189   \n",
       "0      09/02/2024  912810TV0     0.04750   11/15/2053   109.18750  0.042006   \n",
       "0      09/02/2024  912810TX6     0.04250   02/15/2054   100.62500  0.042126   \n",
       "0      09/02/2024  912810UA4     0.04625   05/15/2054   107.12500  0.042025   \n",
       "0      09/02/2024  912810UC0     0.04250   08/15/2054   100.87500  0.041983   \n",
       "\n",
       "       moddur  \n",
       "0    0.036844  \n",
       "0    0.074976  \n",
       "0    0.075052  \n",
       "0    0.074887  \n",
       "0    0.114502  \n",
       "..        ...  \n",
       "0   16.671970  \n",
       "0   16.105516  \n",
       "0   16.719843  \n",
       "0   16.334763  \n",
       "0   16.879686  \n",
       "\n",
       "[340 rows x 7 columns]"
      ]
     },
     "execution_count": 17,
     "metadata": {},
     "output_type": "execute_result"
    }
   ],
   "source": [
    "mod_df = []\n",
    "for i in range(len(coupon_security_original)):\n",
    "    filter_df = coupon_security_prices[(coupon_security_prices['CUSIP'] == \n",
    "                        coupon_security_original['CUSIP'][i]) & (coupon_security_prices['MaturityDate'] == coupon_security_original['MaturityDate'][i])]\n",
    "    mod_df.append(filter_df.reset_index(drop=True).iloc[0])\n",
    "mod_df = pd.DataFrame(mod_df).drop(columns='IssueDate').rename(columns={'BEY':'yield','ModifiedDuration':'moddur'})\n",
    "mod_df"
   ]
  },
  {
   "cell_type": "code",
   "execution_count": 62,
   "id": "f387f28519ae2fbc",
   "metadata": {
    "ExecuteTime": {
     "end_time": "2024-11-01T20:14:23.996019600Z",
     "start_time": "2024-11-01T20:14:23.983364300Z"
    }
   },
   "outputs": [
    {
     "name": "stdout",
     "output_type": "stream",
     "text": [
      "BEY and Modified Duration calculation complete. Results saved to CouponSecurityPYD_20240831.csv.\n"
     ]
    }
   ],
   "source": [
    "mod_df.to_csv('CouponSecurityPYD_20240831.csv', index=False)\n",
    "print(\"BEY and Modified Duration calculation complete. Results saved to CouponSecurityPYD_20240831.csv.\")"
   ]
  }
 ],
 "metadata": {
  "kernelspec": {
   "display_name": "Python 3 (ipykernel)",
   "language": "python",
   "name": "python3"
  },
  "language_info": {
   "codemirror_mode": {
    "name": "ipython",
    "version": 3
   },
   "file_extension": ".py",
   "mimetype": "text/x-python",
   "name": "python",
   "nbconvert_exporter": "python",
   "pygments_lexer": "ipython3",
   "version": "3.9.13"
  }
 },
 "nbformat": 4,
 "nbformat_minor": 5
}
